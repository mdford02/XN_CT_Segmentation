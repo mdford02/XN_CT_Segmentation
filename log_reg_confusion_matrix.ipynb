{
 "cells": [
  {
   "cell_type": "markdown",
   "metadata": {},
   "source": [
    "### 1. Get Train \\& Test Data"
   ]
  },
  {
   "cell_type": "code",
   "execution_count": 1,
   "metadata": {},
   "outputs": [
    {
     "name": "stdout",
     "output_type": "stream",
     "text": [
      "Number of type 0:  1694\n",
      "Number of type 1:  15664\n",
      "Number of type 2:  9878\n",
      "Number of type 3:  32074\n",
      "Number of type 4:  10700\n",
      "Number of type 5:  16423\n",
      "Number of type 6:  32200\n"
     ]
    }
   ],
   "source": [
    "import os \n",
    "from PIL import Image, ImageOps\n",
    "import numpy as np\n",
    "\n",
    "\n",
    "path0 = []\n",
    "path1 = []\n",
    "path2 = []\n",
    "path3 = []\n",
    "path4 = []\n",
    "path5 = []\n",
    "path6 = []\n",
    "\n",
    "# Testing just for brain_bone_window, could combine all windows\n",
    "for dirname, _, filenames in os.walk('data/epidural/brain_bone_window'):\n",
    "    for filename in filenames:\n",
    "        path0.append(os.path.join(dirname, filename))\n",
    "    print(\"Number of type 0: \", len(filenames))\n",
    "        \n",
    "for dirname, _, filenames in os.walk('data/intraparenchymal/brain_bone_window'):\n",
    "    for filename in filenames:\n",
    "        path1.append(os.path.join(dirname, filename))\n",
    "    print(\"Number of type 1: \", len(filenames))\n",
    "        \n",
    "for dirname, _, filenames in os.walk('data/intraventricular/brain_bone_window'):\n",
    "    for filename in filenames:\n",
    "        path2.append(os.path.join(dirname, filename))\n",
    "    print(\"Number of type 2: \", len(filenames))\n",
    "        \n",
    "for dirname, _, filenames in os.walk('data/multi/brain_bone_window'):\n",
    "    for filename in filenames:\n",
    "        path3.append(os.path.join(dirname, filename))  \n",
    "    print(\"Number of type 3: \", len(filenames))\n",
    "\n",
    "for dirname, _, filenames in os.walk('data/normal/brain_bone_window'):\n",
    "    for filename in filenames:\n",
    "        path4.append(os.path.join(dirname, filename))  \n",
    "    print(\"Number of type 4: \", len(filenames))\n",
    "\n",
    "for dirname, _, filenames in os.walk('data/subarachnoid/brain_bone_window'):\n",
    "    for filename in filenames:\n",
    "        path5.append(os.path.join(dirname, filename))  \n",
    "    print(\"Number of type 5: \", len(filenames))\n",
    "\n",
    "for dirname, _, filenames in os.walk('data/subdural/brain_bone_window'):\n",
    "    for filename in filenames:\n",
    "        path6.append(os.path.join(dirname, filename))  \n",
    "    print(\"Number of type 6: \", len(filenames))"
   ]
  },
  {
   "cell_type": "code",
   "execution_count": 2,
   "metadata": {},
   "outputs": [],
   "source": [
    "import random\n",
    "\n",
    "\n",
    "data = []\n",
    "result = []\n",
    "\n",
    "for path in path0:\n",
    "    img = Image.open(path)\n",
    "    img = ImageOps.grayscale(img) # Removes RGB dimension from image, not sure if this is alright\n",
    "    img = img.resize((128,128))\n",
    "    img = np.array(img)\n",
    "    if(img.shape == (128,128)):\n",
    "        data.append(np.array(img))\n",
    "        result.append(0)\n",
    "        \n",
    "for path in path1:\n",
    "    img = Image.open(path)\n",
    "    img = ImageOps.grayscale(img)\n",
    "    img = img.resize((128,128))\n",
    "    img = np.array(img)\n",
    "    if(img.shape == (128,128)):\n",
    "        data.append(np.array(img))\n",
    "        result.append(1) \n",
    "        \n",
    "for path in path2:\n",
    "    img = Image.open(path)\n",
    "    img = ImageOps.grayscale(img)\n",
    "    img = img.resize((128,128))\n",
    "    img = np.array(img)\n",
    "    if(img.shape == (128,128)):\n",
    "        data.append(np.array(img))\n",
    "        result.append(2)\n",
    "        \n",
    "for path in path3:\n",
    "    img = Image.open(path)\n",
    "    img = ImageOps.grayscale(img)\n",
    "    img = img.resize((128,128))\n",
    "    img = np.array(img)\n",
    "    if(img.shape == (128,128)):\n",
    "        data.append(np.array(img))\n",
    "        result.append(3)\n",
    "\n",
    "for path in path4:\n",
    "    img = Image.open(path)\n",
    "    img = ImageOps.grayscale(img)\n",
    "    img = img.resize((128,128))\n",
    "    img = np.array(img)\n",
    "    if(img.shape == (128,128)):\n",
    "        data.append(np.array(img))\n",
    "        result.append(4)\n",
    "        \n",
    "for path in path5:\n",
    "    img = Image.open(path)\n",
    "    img = ImageOps.grayscale(img)\n",
    "    img = img.resize((128,128))\n",
    "    img = np.array(img)\n",
    "    if(img.shape == (128,128)):\n",
    "        data.append(np.array(img))\n",
    "        result.append(5)\n",
    "\n",
    "for path in path6:\n",
    "    img = Image.open(path)\n",
    "    img = ImageOps.grayscale(img)\n",
    "    img = img.resize((128,128))\n",
    "    img = np.array(img)\n",
    "    if(img.shape == (128,128)):\n",
    "        data.append(np.array(img))\n",
    "        result.append(6)\n",
    "\n",
    "length = len(data)\n",
    "\n",
    "indices = np.arange(length)\n",
    "np.random.shuffle(indices)\n",
    "\n",
    "# Shuffle both arrays using the shuffled indices\n",
    "shuffled_data = [data[i] for i in indices]\n",
    "shuffled_result = [result[i] for i in indices]\n",
    "\n",
    "train_data = shuffled_data[0:int(length*0.4)]\n",
    "train_result = shuffled_result[0:int(length*0.4)]\n",
    "\n",
    "test_data = shuffled_data[int(length*0.4):int(length*0.5)]\n",
    "test_result = shuffled_result[int(length*0.4):int(length*0.5)]  # FIXME: trying to reduce data so calling fit() doesn't take forever"
   ]
  },
  {
   "cell_type": "code",
   "execution_count": 3,
   "metadata": {},
   "outputs": [
    {
     "data": {
      "text/plain": [
       "(23727,)"
      ]
     },
     "execution_count": 3,
     "metadata": {},
     "output_type": "execute_result"
    }
   ],
   "source": [
    "test_data = np.array(test_data)\n",
    "test_data.shape\n",
    "\n",
    "test_result = np.array(test_result)\n",
    "test_result.shape"
   ]
  },
  {
   "cell_type": "code",
   "execution_count": 4,
   "metadata": {},
   "outputs": [
    {
     "data": {
      "text/plain": [
       "(94906,)"
      ]
     },
     "execution_count": 4,
     "metadata": {},
     "output_type": "execute_result"
    }
   ],
   "source": [
    "train_data = np.array(train_data)\n",
    "test_data.shape\n",
    "\n",
    "train_result = np.array(train_result)\n",
    "train_result.shape"
   ]
  },
  {
   "cell_type": "code",
   "execution_count": 5,
   "metadata": {},
   "outputs": [
    {
     "name": "stdout",
     "output_type": "stream",
     "text": [
      "train data:  (94906, 128, 128)\n",
      "test data:  (23727, 128, 128)\n",
      "train data after reshape:  (94906, 16384)\n",
      "test data after reshape:  (23727, 16384)\n"
     ]
    }
   ],
   "source": [
    "# Confirm shape of data \n",
    "print(\"train data: \", train_data.shape)\n",
    "print(\"test data: \", test_data.shape)\n",
    "print(\"train data after reshape: \", train_data.reshape(-1,128*128).shape)\n",
    "print(\"test data after reshape: \", test_data.reshape(-1,128*128).shape)"
   ]
  },
  {
   "cell_type": "markdown",
   "metadata": {},
   "source": [
    "### 2. Train data w/ fit()\n"
   ]
  },
  {
   "cell_type": "code",
   "execution_count": 8,
   "metadata": {},
   "outputs": [],
   "source": [
    "from sklearn.linear_model import LogisticRegression\n",
    "\n",
    "\n",
    "X_train = train_data.reshape(train_data.shape[0], -1) \n",
    "y_train = train_result\n",
    "\n",
    "\n",
    "logreg = LogisticRegression(multi_class='multinomial', solver='lbfgs', max_iter=1000)\n",
    "# logreg = LogisticRegression(multi_class='multinomial', solver='sag', max_iter=1000, C=0.1)\n",
    "\n",
    "\n",
    "logreg.fit(X_train, y_train)"
   ]
  },
  {
   "cell_type": "markdown",
   "metadata": {},
   "source": [
    "### 3. Test data w/ score()"
   ]
  },
  {
   "cell_type": "code",
   "execution_count": null,
   "metadata": {},
   "outputs": [
    {
     "name": "stdout",
     "output_type": "stream",
     "text": [
      "Logistic Regression Score: 0.25075913409736506\n"
     ]
    }
   ],
   "source": [
    "X_test = test_data.reshape(test_data.shape[0], -1) \n",
    "y_test = test_result\n",
    "\n",
    "score = logreg.score(X_test, y_test)\n",
    "print(\"Logistic Regression Score:\", score)"
   ]
  },
  {
   "cell_type": "markdown",
   "metadata": {},
   "source": [
    "### 4. Generate Confusion Matrix"
   ]
  },
  {
   "cell_type": "code",
   "execution_count": null,
   "metadata": {},
   "outputs": [
    {
     "data": {
      "text/plain": [
       "array([[  34,   28,    8,   38,   29,   27],\n",
       "       [  34,  444,  147,  360,  391,  160],\n",
       "       [  13,  151,  249,  238,  208,  111],\n",
       "       [  33,  333,  215,  715, 1731,  189],\n",
       "       [  24,  326,  198, 1757,  764,  170],\n",
       "       [  31,  176,  106,  202,  215,  354]])"
      ]
     },
     "execution_count": 68,
     "metadata": {},
     "output_type": "execute_result"
    }
   ],
   "source": [
    "from sklearn.metrics import confusion_matrix\n",
    "\n",
    "y_predict = logreg.predict(test_data.reshape(-1,128*128))\n",
    "\n",
    "\n",
    "conf_mx = confusion_matrix(np.argmax(test_result, axis=2), y_predict)\n",
    "conf_mx"
   ]
  },
  {
   "cell_type": "markdown",
   "metadata": {},
   "source": [
    "### 5. Mark Confusion Matrix"
   ]
  },
  {
   "cell_type": "code",
   "execution_count": null,
   "metadata": {},
   "outputs": [
    {
     "data": {
      "text/plain": [
       "Text(0.5, 1.0, 'Confusion Matrix Heatmap')"
      ]
     },
     "execution_count": 69,
     "metadata": {},
     "output_type": "execute_result"
    },
    {
     "data": {
      "image/png": "[encoded data removed]",
      "text/plain": [
       "<Figure size 640x480 with 2 Axes>"
      ]
     },
     "metadata": {},
     "output_type": "display_data"
    }
   ],
   "source": [
    "import matplotlib.pyplot as plt\n",
    "import seaborn as sns\n",
    "\n",
    "labels = ['epidural', 'intraparenchymal', 'intraventricular', 'multi', 'normal', 'subarachnoid', 'subdural']\n",
    "\n",
    "row_sum = conf_mx.sum(axis=1, keepdims=True)\n",
    "nconf_mx = conf_mx/row_sum\n",
    "np.fill_diagonal(nconf_mx,0)\n",
    "\n",
    "sns.heatmap(nconf_mx, xticklabels=labels, yticklabels=labels)\n",
    "\n",
    "plt.xlabel(\"Predicted Labeling\")\n",
    "plt.ylabel(\"True Labeling\")\n",
    "plt.title(\"Confusion Matrix Heatmap\")"
   ]
  },
  {
   "cell_type": "code",
   "execution_count": null,
   "metadata": {},
   "outputs": [],
   "source": []
  },
  {
   "cell_type": "code",
   "execution_count": null,
   "metadata": {},
   "outputs": [],
   "source": []
  }
 ],
 "metadata": {
  "kernelspec": {
   "display_name": "Python 3",
   "language": "python",
   "name": "python3"
  },
  "language_info": {
   "codemirror_mode": {
    "name": "ipython",
    "version": 3
   },
   "file_extension": ".py",
   "mimetype": "text/x-python",
   "name": "python",
   "nbconvert_exporter": "python",
   "pygments_lexer": "ipython3",
   "version": "3.12.1"
  }
 },
 "nbformat": 4,
 "nbformat_minor": 2
}
