{
 "cells": [
  {
   "cell_type": "code",
   "execution_count": 15,
   "metadata": {},
   "outputs": [],
   "source": [
    "import numpy as np\n",
    "import os\n",
    "from sklearn.linear_model import LogisticRegression\n",
    "import pandas as pd\n",
    "from PIL import Image, ImageOps\n",
    "import matplotlib.pyplot as plt\n",
    "import ast\n",
    "import tensorflow as tf"
   ]
  },
  {
   "cell_type": "code",
   "execution_count": 3,
   "metadata": {},
   "outputs": [],
   "source": [
    "EPIDURAL = INTRAPARENCHYMAL = INTRAVENTRICULAR = MULTI = SUBARACHNOID = [\"brain_window\", \"max_contrast_window\", \"brain_bone_window\", \"subdural_window\"]\n",
    "SUBDURAL = OTHER = [\"brain_window\", \"subdural_window\",\"max_contrast_window\", \"brain_bone_window\"]"
   ]
  },
  {
   "cell_type": "code",
   "execution_count": 4,
   "metadata": {},
   "outputs": [],
   "source": [
    "FLAGGED = []\n",
    "NOT_FOUND = 1010101\n",
    "\n",
    "with open('hem_seg_labels/flagged.txt', 'r') as f:\n",
    "    for id in f.readlines():\n",
    "        FLAGGED.append(id.strip())"
   ]
  },
  {
   "cell_type": "code",
   "execution_count": 16,
   "metadata": {},
   "outputs": [],
   "source": [
    "def generate_pixel_mask(dim, pixels):\n",
    "    \"\"\"\n",
    "    Generate a pixel mask (2d np array of 0s, 1s) of dimension dim\n",
    "    1s represent the border of the polygon determined by pixels, where pixels is\n",
    "    [{'x': float, 'y': float}, ...]\n",
    "    \"\"\"\n",
    "    mask = np.full((dim, dim), 2, dtype=int)\n",
    "    vertices = []\n",
    "    try:\n",
    "        pixels = ast.literal_eval(pixels)\n",
    "    except ValueError:\n",
    "        return NOT_FOUND\n",
    "\n",
    "    if len(pixels) == 1:\n",
    "        if pixels[0]:\n",
    "            pixels = pixels[0]\n",
    "        else:\n",
    "            return NOT_FOUND\n",
    "    elif len(pixels) == 2:\n",
    "        if pixels[0]:\n",
    "            pixels = pixels[0]\n",
    "        elif pixels[1]:\n",
    "            pixels = pixels[1]\n",
    "        else:\n",
    "            return NOT_FOUND\n",
    "    elif len(pixels) == 0:\n",
    "        return NOT_FOUND\n",
    "\n",
    "    for pixel in pixels:\n",
    "        x = int(float(pixel['x']) * dim)\n",
    "        y = int(float(pixel['y']) * dim)\n",
    "        vertices.append((x, y))\n",
    "\n",
    "    # Add bresenham's?\n",
    "    draw_polygon(mask, vertices)\n",
    "\n",
    "    mask = fill_polygon(mask)\n",
    "\n",
    "    return mask\n",
    "\n",
    "def fill_polygon(array):\n",
    "    \"\"\"\n",
    "    Fill the inside of a polygon represented by 0s in a binary array with 0s.\n",
    "    \"\"\"\n",
    "    filled_array = array.copy()\n",
    "\n",
    "    # Find the leftmost and rightmost points of the polygon\n",
    "    min_x = np.min(np.where(array == 1)[0])\n",
    "    max_x = np.max(np.where(array == 1)[0])\n",
    "\n",
    "    # Iterate through each row of the array\n",
    "    for i in range(min_x, max_x + 1):\n",
    "        row = array[i]\n",
    "\n",
    "        # Find the leftmost and rightmost points of the polygon in this row\n",
    "        leftmost = np.min(np.where(row == 1)[0])\n",
    "        rightmost = np.max(np.where(row == 1)[0])\n",
    "\n",
    "        # Fill the pixels between the leftmost and rightmost points\n",
    "        filled_array[i, leftmost-3:leftmost] = 1\n",
    "        filled_array[i, rightmost+2:rightmost+4] = 1\n",
    "        filled_array[i, leftmost:rightmost+2] = 0\n",
    "\n",
    "    return filled_array\n",
    "\n",
    "\n",
    "# Bresenham's impl.\n",
    "def draw_line(matrix, x0, y0, x1, y1):\n",
    "    dx = abs(x1 - x0)\n",
    "    dy = abs(y1 - y0)\n",
    "    sx = 1 if x0 < x1 else -1\n",
    "    sy = 1 if y0 < y1 else -1\n",
    "    err = dx - dy\n",
    "\n",
    "    while x0 != x1 or y0 != y1:\n",
    "        # Set the pixel value to 1 (draw the edge)\n",
    "        matrix[y0][x0] = 1\n",
    "        e2 = 2 * err\n",
    "        if e2 > -dy:\n",
    "            err -= dy\n",
    "            x0 += sx\n",
    "        if e2 < dx:\n",
    "            err += dx\n",
    "            y0 += sy\n",
    "\n",
    "\n",
    "def draw_polygon(matrix, vertices):\n",
    "    # Draw edges between consecutive vertices\n",
    "    for i in range(len(vertices)):\n",
    "        x0, y0 = vertices[i]\n",
    "        x1, y1 = vertices[(i + 1) % len(vertices)]  # Wrap around to connect the last vertex with the first one\n",
    "        draw_line(matrix, x0, y0, x1, y1)"
   ]
  },
  {
   "cell_type": "code",
   "execution_count": 22,
   "metadata": {},
   "outputs": [],
   "source": [
    "def load_image(id, type, pref, mask_pixels):\n",
    "    \"\"\"\n",
    "    Tries to load the image from the best available window, resizes it, cast byte color values to 0, 255\n",
    "    creates a pixel mask from mask_pixels, and returns both\n",
    "    \"\"\"\n",
    "    for window in pref:\n",
    "        try:\n",
    "            img = Image.open(f\"dcms/{type}/{window}/{id}\")\n",
    "            img = img.resize((128, 128))\n",
    "            img = ImageOps.grayscale(img)\n",
    "            img = tf.cast(img, tf.float32) / 255.0\n",
    "            \n",
    "            mask = generate_pixel_mask(128, mask_pixels)\n",
    "            \n",
    "            if isinstance(mask, int):\n",
    "                return NOT_FOUND\n",
    "\n",
    "            # mask_img = np.array((255 * (1-mask)).astype(np.uint8))\n",
    "            mask_img = tf.cast(mask, tf.uint8)\n",
    "            # mask_img = tf.cast(mask_img, tf.uint8)\n",
    "            # mask_img = tf.concat([mask_img] * 3, axis = -1)\n",
    "            \n",
    "            return img, mask_img\n",
    "            \n",
    "        except FileNotFoundError:\n",
    "            continue\n",
    "\n",
    "    # return a flag if nothing at all can be found\n",
    "    return NOT_FOUND"
   ]
  },
  {
   "cell_type": "code",
   "execution_count": 23,
   "metadata": {},
   "outputs": [],
   "source": [
    "def read_segmentation_labels(path):\n",
    "    \"\"\"\n",
    "    Read in a csv of segmentation labels from path as a dataframe, drop extraneous columns and return\n",
    "    \"\"\"\n",
    "    df = pd.read_csv(path)\n",
    "    keep = ['Origin', 'Labeling State', 'Majority Label', 'Correct Label', 'Number of ROIs']\n",
    "    subset_df = df[keep]\n",
    "\n",
    "    del df\n",
    "    \n",
    "    drops = []\n",
    "    for index, row in subset_df.iterrows():\n",
    "        if row['Labeling State'] == 'In Progress' or row['Number of ROIs'] == '0':\n",
    "            drops.append(index)\n",
    "\n",
    "        elif row['Labeling State'] == 'Ready':\n",
    "            subset_df.at[index, 'Label'] = row['Majority Label']\n",
    "\n",
    "        else:\n",
    "            subset_df.at[index, 'Label'] = row['Correct Label']\n",
    "\n",
    "    subset_df.drop(drops, inplace=True)\n",
    "    subset_df.drop(['Majority Label', 'Correct Label'], axis=1, inplace=True)\n",
    "\n",
    "    return subset_df"
   ]
  },
  {
   "cell_type": "code",
   "execution_count": 24,
   "metadata": {},
   "outputs": [],
   "source": [
    "paths = ['hem_seg_labels/epidural_segments.csv', 'hem_seg_labels/intraparenchymal_segments.csv', 'hem_seg_labels/multi_segments.csv', 'hem_seg_labels/subarachnoid_segments.csv', 'hem_seg_labels/subdural_segments.csv', 'hem_seg_labels/other_segments.csv']\n",
    "\n",
    "# order: epidural, intrap, intrav (NO LABEL DATA), multi, subarach, subdural\n",
    "labels = [read_segmentation_labels(path) for path in paths]\n",
    "label_prefs = [EPIDURAL, INTRAPARENCHYMAL, MULTI, SUBARACHNOID, SUBDURAL, OTHER]\n",
    "types = [\"epidural\", \"intraparenchymal\", \"multi\", \"subarachnoid\", \"subdural\", \"intraventricular\"]\n",
    "classes = [1, 2, 3, 4, 5, 6]\n",
    "\n",
    "x_train_1 = []\n",
    "x_train_2 = []\n",
    "y_train = []\n",
    "\n",
    "x_test_1 = []\n",
    "x_test_2 = []\n",
    "y_test = []\n",
    "\n",
    "for label_df, pref, type, cl in zip(labels, label_prefs, types, classes):\n",
    "    num_rows = int(len(label_df) * 0.75)\n",
    "    # Train Data\n",
    "    for index, row in label_df.iloc[:num_rows].iterrows():\n",
    "        if row['Origin'] not in FLAGGED:\n",
    "            try:\n",
    "                img, mask = load_image(row['Origin'], type, pref, row['Label'])\n",
    "                x_train_1.append(img)\n",
    "                x_train_2.append(mask)\n",
    "                y_train.append(cl)\n",
    "            except (TypeError, FileNotFoundError):\n",
    "                continue\n",
    "    # Test Data        \n",
    "    for index, row in label_df.iloc[num_rows:].iterrows():\n",
    "        if row['Origin'] not in FLAGGED:\n",
    "            try:\n",
    "                img, mask = load_image(row['Origin'], type, pref, row['Label'])\n",
    "                x_test_1.append(img)\n",
    "                x_test_2.append(mask)\n",
    "                y_test.append(cl)\n",
    "            except (TypeError, FileNotFoundError):\n",
    "                continue"
   ]
  },
  {
   "cell_type": "code",
   "execution_count": 41,
   "metadata": {},
   "outputs": [],
   "source": [
    "x_train_1 = np.array(x_train_1)\n",
    "x_train_2 = np.array(x_train_2)\n",
    "y_train = np.array(y_train)\n",
    "\n",
    "x_test_1 = np.array(x_test_1)\n",
    "x_test_2 = np.array(x_test_2)\n",
    "y_test = np.array(y_test)"
   ]
  },
  {
   "cell_type": "code",
   "execution_count": 42,
   "metadata": {},
   "outputs": [],
   "source": [
    "x_train = np.concatenate((x_train_1, x_train_2), axis=1)\n",
    "x_test = np.concatenate((x_test_1, x_test_2), axis=1)\n",
    "\n",
    "# Remove some intraventricular from the end\n",
    "x_train = x_train[:-500]"
   ]
  },
  {
   "cell_type": "code",
   "execution_count": 43,
   "metadata": {},
   "outputs": [],
   "source": [
    "length = len(x_train)\n",
    "\n",
    "indices = np.arange(length)\n",
    "np.random.shuffle(indices)\n",
    "\n",
    "# Shuffle both arrays using the shuffled indices\n",
    "x_train = np.array([x_train[i] for i in indices])\n",
    "y_train = np.array([y_train[i] for i in indices])"
   ]
  },
  {
   "cell_type": "code",
   "execution_count": 44,
   "metadata": {},
   "outputs": [],
   "source": [
    "length = len(x_test)\n",
    "\n",
    "indices = np.arange(length)\n",
    "np.random.shuffle(indices)\n",
    "\n",
    "# Shuffle both arrays using the shuffled indices\n",
    "x_test = np.array([x_test[i] for i in indices])\n",
    "y_test = np.array([y_test[i] for i in indices])"
   ]
  },
  {
   "cell_type": "code",
   "execution_count": 46,
   "metadata": {},
   "outputs": [
    {
     "data": {
      "text/plain": [
       "(1896, 32768)"
      ]
     },
     "execution_count": 46,
     "metadata": {},
     "output_type": "execute_result"
    }
   ],
   "source": [
    "x_train = x_train.reshape(x_train.shape[0], -1) \n",
    "x_test = x_test.reshape(x_test.shape[0], -1) "
   ]
  },
  {
   "cell_type": "code",
   "execution_count": 47,
   "metadata": {},
   "outputs": [
    {
     "name": "stderr",
     "output_type": "stream",
     "text": [
      "c:\\Users\\mdfor\\AppData\\Local\\Programs\\Python\\Python38\\lib\\site-packages\\sklearn\\linear_model\\_sag.py:350: ConvergenceWarning: The max_iter was reached which means the coef_ did not converge\n",
      "  warnings.warn(\n"
     ]
    },
    {
     "data": {
      "text/html": [
       "<style>#sk-container-id-2 {color: black;}#sk-container-id-2 pre{padding: 0;}#sk-container-id-2 div.sk-toggleable {background-color: white;}#sk-container-id-2 label.sk-toggleable__label {cursor: pointer;display: block;width: 100%;margin-bottom: 0;padding: 0.3em;box-sizing: border-box;text-align: center;}#sk-container-id-2 label.sk-toggleable__label-arrow:before {content: \"▸\";float: left;margin-right: 0.25em;color: #696969;}#sk-container-id-2 label.sk-toggleable__label-arrow:hover:before {color: black;}#sk-container-id-2 div.sk-estimator:hover label.sk-toggleable__label-arrow:before {color: black;}#sk-container-id-2 div.sk-toggleable__content {max-height: 0;max-width: 0;overflow: hidden;text-align: left;background-color: #f0f8ff;}#sk-container-id-2 div.sk-toggleable__content pre {margin: 0.2em;color: black;border-radius: 0.25em;background-color: #f0f8ff;}#sk-container-id-2 input.sk-toggleable__control:checked~div.sk-toggleable__content {max-height: 200px;max-width: 100%;overflow: auto;}#sk-container-id-2 input.sk-toggleable__control:checked~label.sk-toggleable__label-arrow:before {content: \"▾\";}#sk-container-id-2 div.sk-estimator input.sk-toggleable__control:checked~label.sk-toggleable__label {background-color: #d4ebff;}#sk-container-id-2 div.sk-label input.sk-toggleable__control:checked~label.sk-toggleable__label {background-color: #d4ebff;}#sk-container-id-2 input.sk-hidden--visually {border: 0;clip: rect(1px 1px 1px 1px);clip: rect(1px, 1px, 1px, 1px);height: 1px;margin: -1px;overflow: hidden;padding: 0;position: absolute;width: 1px;}#sk-container-id-2 div.sk-estimator {font-family: monospace;background-color: #f0f8ff;border: 1px dotted black;border-radius: 0.25em;box-sizing: border-box;margin-bottom: 0.5em;}#sk-container-id-2 div.sk-estimator:hover {background-color: #d4ebff;}#sk-container-id-2 div.sk-parallel-item::after {content: \"\";width: 100%;border-bottom: 1px solid gray;flex-grow: 1;}#sk-container-id-2 div.sk-label:hover label.sk-toggleable__label {background-color: #d4ebff;}#sk-container-id-2 div.sk-serial::before {content: \"\";position: absolute;border-left: 1px solid gray;box-sizing: border-box;top: 0;bottom: 0;left: 50%;z-index: 0;}#sk-container-id-2 div.sk-serial {display: flex;flex-direction: column;align-items: center;background-color: white;padding-right: 0.2em;padding-left: 0.2em;position: relative;}#sk-container-id-2 div.sk-item {position: relative;z-index: 1;}#sk-container-id-2 div.sk-parallel {display: flex;align-items: stretch;justify-content: center;background-color: white;position: relative;}#sk-container-id-2 div.sk-item::before, #sk-container-id-2 div.sk-parallel-item::before {content: \"\";position: absolute;border-left: 1px solid gray;box-sizing: border-box;top: 0;bottom: 0;left: 50%;z-index: -1;}#sk-container-id-2 div.sk-parallel-item {display: flex;flex-direction: column;z-index: 1;position: relative;background-color: white;}#sk-container-id-2 div.sk-parallel-item:first-child::after {align-self: flex-end;width: 50%;}#sk-container-id-2 div.sk-parallel-item:last-child::after {align-self: flex-start;width: 50%;}#sk-container-id-2 div.sk-parallel-item:only-child::after {width: 0;}#sk-container-id-2 div.sk-dashed-wrapped {border: 1px dashed gray;margin: 0 0.4em 0.5em 0.4em;box-sizing: border-box;padding-bottom: 0.4em;background-color: white;}#sk-container-id-2 div.sk-label label {font-family: monospace;font-weight: bold;display: inline-block;line-height: 1.2em;}#sk-container-id-2 div.sk-label-container {text-align: center;}#sk-container-id-2 div.sk-container {/* jupyter's `normalize.less` sets `[hidden] { display: none; }` but bootstrap.min.css set `[hidden] { display: none !important; }` so we also need the `!important` here to be able to override the default hidden behavior on the sphinx rendered scikit-learn.org. See: https://github.com/scikit-learn/scikit-learn/issues/21755 */display: inline-block !important;position: relative;}#sk-container-id-2 div.sk-text-repr-fallback {display: none;}</style><div id=\"sk-container-id-2\" class=\"sk-top-container\"><div class=\"sk-text-repr-fallback\"><pre>LogisticRegression(max_iter=2000, multi_class=&#x27;multinomial&#x27;, solver=&#x27;sag&#x27;)</pre><b>In a Jupyter environment, please rerun this cell to show the HTML representation or trust the notebook. <br />On GitHub, the HTML representation is unable to render, please try loading this page with nbviewer.org.</b></div><div class=\"sk-container\" hidden><div class=\"sk-item\"><div class=\"sk-estimator sk-toggleable\"><input class=\"sk-toggleable__control sk-hidden--visually\" id=\"sk-estimator-id-2\" type=\"checkbox\" checked><label for=\"sk-estimator-id-2\" class=\"sk-toggleable__label sk-toggleable__label-arrow\">LogisticRegression</label><div class=\"sk-toggleable__content\"><pre>LogisticRegression(max_iter=2000, multi_class=&#x27;multinomial&#x27;, solver=&#x27;sag&#x27;)</pre></div></div></div></div></div>"
      ],
      "text/plain": [
       "LogisticRegression(max_iter=2000, multi_class='multinomial', solver='sag')"
      ]
     },
     "execution_count": 47,
     "metadata": {},
     "output_type": "execute_result"
    }
   ],
   "source": [
    "logreg = LogisticRegression(multi_class='multinomial', solver='sag', max_iter=5000)\n",
    "\n",
    "logreg.fit(x_train, y_train)"
   ]
  },
  {
   "cell_type": "code",
   "execution_count": 48,
   "metadata": {},
   "outputs": [
    {
     "name": "stdout",
     "output_type": "stream",
     "text": [
      "Logistic Regression Score: 0.3375959079283887\n"
     ]
    }
   ],
   "source": [
    "score = logreg.score(x_test, y_test)\n",
    "print(\"Logistic Regression Score:\", score)"
   ]
  },
  {
   "cell_type": "code",
   "execution_count": 49,
   "metadata": {},
   "outputs": [
    {
     "data": {
      "text/plain": [
       "array([[  7,  11,   2,   4,   6,  43],\n",
       "       [ 13,  18,   6,   6,   9,  87],\n",
       "       [  9,   7,   3,   2,   2,  36],\n",
       "       [  3,  12,   3,   6,   2,  41],\n",
       "       [  8,   8,   1,   1,   2,  44],\n",
       "       [ 41,  49,  20,  26,  16, 228]], dtype=int64)"
      ]
     },
     "execution_count": 49,
     "metadata": {},
     "output_type": "execute_result"
    }
   ],
   "source": [
    "from sklearn.metrics import confusion_matrix\n",
    "\n",
    "y_predict = logreg.predict(x_test)\n",
    "\n",
    "\n",
    "conf_mx = confusion_matrix(y_test, y_predict)\n",
    "conf_mx"
   ]
  },
  {
   "cell_type": "code",
   "execution_count": 40,
   "metadata": {},
   "outputs": [
    {
     "data": {
      "image/png": "[encoded data removed]",
      "text/plain": [
       "<Figure size 640x480 with 2 Axes>"
      ]
     },
     "metadata": {},
     "output_type": "display_data"
    }
   ],
   "source": [
    "import matplotlib.pyplot as plt\n",
    "import seaborn as sns\n",
    "\n",
    "labels = [\"epidural\", \"intraparenchymal\", \"multi\", \"subarachnoid\", \"subdural\", \"intraventricular\"]\n",
    "\n",
    "row_sum = conf_mx.sum(axis=1, keepdims=True)\n",
    "nconf_mx = conf_mx/row_sum\n",
    "np.fill_diagonal(nconf_mx,0)\n",
    "\n",
    "sns.heatmap(nconf_mx, xticklabels=labels, yticklabels=labels)\n",
    "\n",
    "plt.xlabel(\"Predicted Labeling\")\n",
    "plt.ylabel(\"True Labeling\")\n",
    "plt.title(\"Confusion Matrix Heatmap\")\n",
    "plt.savefig(\"Log_Segments_CM.png\")"
   ]
  },
  {
   "cell_type": "code",
   "execution_count": null,
   "metadata": {},
   "outputs": [],
   "source": []
  }
 ],
 "metadata": {
  "kernelspec": {
   "display_name": "Python 3",
   "language": "python",
   "name": "python3"
  },
  "language_info": {
   "codemirror_mode": {
    "name": "ipython",
    "version": 3
   },
   "file_extension": ".py",
   "mimetype": "text/x-python",
   "name": "python",
   "nbconvert_exporter": "python",
   "pygments_lexer": "ipython3",
   "version": "3.8.10"
  }
 },
 "nbformat": 4,
 "nbformat_minor": 2
}
