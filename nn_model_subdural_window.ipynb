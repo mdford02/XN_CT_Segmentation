{
 "cells": [
  {
   "cell_type": "markdown",
   "metadata": {},
   "source": [
    "### 1. Get Train \\& Test Data"
   ]
  },
  {
   "cell_type": "code",
   "execution_count": 1,
   "metadata": {},
   "outputs": [
    {
     "name": "stderr",
     "output_type": "stream",
     "text": [
      "/Users/maxleroux/opt/anaconda3/lib/python3.9/site-packages/scipy/__init__.py:146: UserWarning: A NumPy version >=1.16.5 and <1.23.0 is required for this version of SciPy (detected version 1.26.4\n",
      "  warnings.warn(f\"A NumPy version >={np_minversion} and <{np_maxversion}\"\n"
     ]
    },
    {
     "name": "stdout",
     "output_type": "stream",
     "text": [
      "Number of type 0:  1694\n",
      "Number of type 1:  15664\n",
      "Number of type 2:  9878\n",
      "Number of type 3:  32074\n",
      "Number of type 4:  8278\n",
      "Number of type 5:  16423\n",
      "Number of type 6:  32200\n"
     ]
    }
   ],
   "source": [
    "import os \n",
    "from PIL import Image, ImageOps\n",
    "import numpy as np\n",
    "import tensorflow as tf\n",
    "from tensorflow import keras\n",
    "import pandas as pd\n",
    "import matplotlib.pyplot as plt\n",
    "\n",
    "path1 = []\n",
    "path2 = []\n",
    "path3 = []\n",
    "path4 = []\n",
    "path5 = []\n",
    "path6 = []\n",
    "path7 = []\n",
    "\n",
    "# Testing just for brain_bone_window, could combine all windows\n",
    "for dirname, _, filenames in os.walk('epidural/subdural_window'):\n",
    "    for filename in filenames:\n",
    "        path1.append(os.path.join(dirname, filename))\n",
    "    print(\"Number of type 0: \", len(filenames))\n",
    "        \n",
    "for dirname, _, filenames in os.walk('intraparenchymal/subdural_window'):\n",
    "    for filename in filenames:\n",
    "        path2.append(os.path.join(dirname, filename))\n",
    "    print(\"Number of type 1: \", len(filenames))\n",
    "        \n",
    "for dirname, _, filenames in os.walk('intraventricular/subdural_window'):\n",
    "    for filename in filenames:\n",
    "        path3.append(os.path.join(dirname, filename))\n",
    "    print(\"Number of type 2: \", len(filenames))\n",
    "        \n",
    "for dirname, _, filenames in os.walk('multi/subdural_window'):\n",
    "    for filename in filenames:\n",
    "        path4.append(os.path.join(dirname, filename))  \n",
    "    print(\"Number of type 3: \", len(filenames))\n",
    "\n",
    "for dirname, _, filenames in os.walk('normal/subdural_window'):\n",
    "    for filename in filenames:\n",
    "        path5.append(os.path.join(dirname, filename))  \n",
    "    print(\"Number of type 4: \", len(filenames))\n",
    "\n",
    "for dirname, _, filenames in os.walk('subarachnoid/subdural_window'):\n",
    "    for filename in filenames:\n",
    "        path6.append(os.path.join(dirname, filename))  \n",
    "    print(\"Number of type 5: \", len(filenames))\n",
    "\n",
    "for dirname, _, filenames in os.walk('subdural/subdural_window'):\n",
    "    for filename in filenames:\n",
    "        path7.append(os.path.join(dirname, filename))  \n",
    "    print(\"Number of type 6: \", len(filenames))"
   ]
  },
  {
   "cell_type": "code",
   "execution_count": 2,
   "metadata": {},
   "outputs": [
    {
     "data": {
      "text/plain": [
       "OneHotEncoder()"
      ]
     },
     "execution_count": 2,
     "metadata": {},
     "output_type": "execute_result"
    }
   ],
   "source": [
    "from sklearn.preprocessing import OneHotEncoder\n",
    "\n",
    "# One Hot Encoding\n",
    "encoder = OneHotEncoder()\n",
    "encoder.fit([[0],[1],[2],[3],[4],[5], [6]])"
   ]
  },
  {
   "cell_type": "code",
   "execution_count": 3,
   "metadata": {},
   "outputs": [],
   "source": [
    "import random\n",
    "\n",
    "\n",
    "data = []\n",
    "result = []\n",
    "\n",
    "for path in path1:\n",
    "    img = Image.open(path)\n",
    "    img = ImageOps.grayscale(img) # Removes RGB dimension from image, not sure if this is alright\n",
    "    img = img.resize((128,128))\n",
    "    img = np.array(img)\n",
    "    if(img.shape == (128,128)):\n",
    "        data.append(np.array(img))\n",
    "        result.append(0)\n",
    "        \n",
    "for path in path2:\n",
    "    img = Image.open(path)\n",
    "    img = ImageOps.grayscale(img)\n",
    "    img = img.resize((128,128))\n",
    "    img = np.array(img)\n",
    "    if(img.shape == (128,128)):\n",
    "        data.append(np.array(img))\n",
    "        result.append(1) \n",
    "        \n",
    "for path in path3:\n",
    "    img = Image.open(path)\n",
    "    img = ImageOps.grayscale(img)\n",
    "    img = img.resize((128,128))\n",
    "    img = np.array(img)\n",
    "    if(img.shape == (128,128)):\n",
    "        data.append(np.array(img))\n",
    "        result.append(2)\n",
    "        \n",
    "for path in path4:\n",
    "    img = Image.open(path)\n",
    "    img = ImageOps.grayscale(img)\n",
    "    img = img.resize((128,128))\n",
    "    img = np.array(img)\n",
    "    if(img.shape == (128,128)):\n",
    "        data.append(np.array(img))\n",
    "        result.append(3)\n",
    "\n",
    "for path in path5:\n",
    "    img = Image.open(path)\n",
    "    img = ImageOps.grayscale(img)\n",
    "    img = img.resize((128,128))\n",
    "    img = np.array(img)\n",
    "    if(img.shape == (128,128)):\n",
    "        data.append(np.array(img))\n",
    "        result.append(4)\n",
    "        \n",
    "for path in path6:\n",
    "    img = Image.open(path)\n",
    "    img = ImageOps.grayscale(img)\n",
    "    img = img.resize((128,128))\n",
    "    img = np.array(img)\n",
    "    if(img.shape == (128,128)):\n",
    "        data.append(np.array(img))\n",
    "        result.append(5)\n",
    "\n",
    "for path in path7:\n",
    "    img = Image.open(path)\n",
    "    img = ImageOps.grayscale(img)\n",
    "    img = img.resize((128,128))\n",
    "    img = np.array(img)\n",
    "    if(img.shape == (128,128)):\n",
    "        data.append(np.array(img))\n",
    "        result.append(6)\n",
    "\n",
    "length = len(data)\n",
    "\n",
    "indices = np.arange(length)\n",
    "np.random.shuffle(indices)\n",
    "\n",
    "# Shuffle both arrays using the shuffled indices\n",
    "shuffled_data = [data[i] for i in indices]\n",
    "shuffled_result = [result[i] for i in indices]\n",
    "\n",
    "train_data = shuffled_data[0:int(length*0.4)]\n",
    "train_result = shuffled_result[0:int(length*0.4)]\n",
    "\n",
    "test_data = shuffled_data[int(length*0.4):int(length*0.5)]\n",
    "test_result = shuffled_result[int(length*0.4):int(length*0.5)] # FIXME: trying to reduce data so calling fit() doesn't take forever"
   ]
  },
  {
   "cell_type": "code",
   "execution_count": 4,
   "metadata": {},
   "outputs": [
    {
     "data": {
      "text/plain": [
       "(11621,)"
      ]
     },
     "execution_count": 4,
     "metadata": {},
     "output_type": "execute_result"
    }
   ],
   "source": [
    "test_data = np.array(test_data)\n",
    "test_data.shape\n",
    "\n",
    "test_result = np.array(test_result)\n",
    "test_result.shape"
   ]
  },
  {
   "cell_type": "code",
   "execution_count": 5,
   "metadata": {},
   "outputs": [
    {
     "data": {
      "text/plain": [
       "(46484,)"
      ]
     },
     "execution_count": 5,
     "metadata": {},
     "output_type": "execute_result"
    }
   ],
   "source": [
    "train_data = np.array(train_data)\n",
    "test_data.shape\n",
    "\n",
    "train_result = np.array(train_result)\n",
    "train_result.shape"
   ]
  },
  {
   "cell_type": "code",
   "execution_count": 6,
   "metadata": {},
   "outputs": [
    {
     "name": "stdout",
     "output_type": "stream",
     "text": [
      "train data:  (46484, 128, 128)\n",
      "test data:  (11621, 128, 128)\n",
      "train data after reshape:  (46484, 16384)\n",
      "test data after reshape:  (11621, 16384)\n"
     ]
    }
   ],
   "source": [
    "# Confirm shape of data \n",
    "print(\"train data: \", train_data.shape)\n",
    "print(\"test data: \", test_data.shape)\n",
    "print(\"train data after reshape: \", train_data.reshape(-1,128*128).shape)\n",
    "print(\"test data after reshape: \", test_data.reshape(-1,128*128).shape)"
   ]
  },
  {
   "cell_type": "markdown",
   "metadata": {},
   "source": [
    "### 2. Build the Neural Network\n"
   ]
  },
  {
   "cell_type": "code",
   "execution_count": 7,
   "metadata": {},
   "outputs": [
    {
     "name": "stdout",
     "output_type": "stream",
     "text": [
      "(41484, 128, 128) (5000, 128, 128) (11621, 128, 128)\n",
      "(41484,) (5000,) (11621,)\n"
     ]
    }
   ],
   "source": [
    "X_valid, X_train = train_data[:5000] / 255., train_data[5000:] / 255.\n",
    "y_valid, y_train = train_result[:5000], train_result[5000:]\n",
    "X_test = test_data / 255.\n",
    "y_test = test_result / 255.\n",
    "print(X_train.shape, X_valid.shape, X_test.shape)\n",
    "print(y_train.shape, y_valid.shape, y_test.shape)"
   ]
  },
  {
   "cell_type": "code",
   "execution_count": 9,
   "metadata": {},
   "outputs": [
    {
     "name": "stdout",
     "output_type": "stream",
     "text": [
      "(41484, 1)\n"
     ]
    }
   ],
   "source": [
    "print(y_train.reshape(41484,-1).reshape(41484, -1).shape)"
   ]
  },
  {
   "cell_type": "code",
   "execution_count": 10,
   "metadata": {},
   "outputs": [
    {
     "data": {
      "text/plain": [
       "array([3, 1, 6, ..., 1, 5, 1])"
      ]
     },
     "execution_count": 10,
     "metadata": {},
     "output_type": "execute_result"
    }
   ],
   "source": [
    "y_train"
   ]
  },
  {
   "cell_type": "code",
   "execution_count": 11,
   "metadata": {},
   "outputs": [],
   "source": [
    "class_names = [\"0\", \"1\", \"2\", \"3\", \"4\", \"5\", \"6\"]"
   ]
  },
  {
   "cell_type": "code",
   "execution_count": 12,
   "metadata": {},
   "outputs": [
    {
     "name": "stderr",
     "output_type": "stream",
     "text": [
      "2024-04-16 16:28:29.611405: I tensorflow/core/platform/cpu_feature_guard.cc:151] This TensorFlow binary is optimized with oneAPI Deep Neural Network Library (oneDNN) to use the following CPU instructions in performance-critical operations:  AVX2 AVX512F FMA\n",
      "To enable them in other operations, rebuild TensorFlow with the appropriate compiler flags.\n"
     ]
    },
    {
     "data": {
      "text/plain": [
       "[<keras.layers.core.flatten.Flatten at 0x7f7d0ab75670>,\n",
       " <keras.layers.core.dense.Dense at 0x7f7c8fa39280>,\n",
       " <keras.layers.core.dense.Dense at 0x7f7c8fa395b0>,\n",
       " <keras.layers.core.dense.Dense at 0x7f7c7e4ac1c0>]"
      ]
     },
     "execution_count": 12,
     "metadata": {},
     "output_type": "execute_result"
    }
   ],
   "source": [
    "model = keras.models.Sequential()\n",
    "model.add(keras.layers.Flatten(input_shape=[128, 128]))\n",
    "model.add(keras.layers.Dense(300, activation=\"relu\"))\n",
    "model.add(keras.layers.Dense(100, activation=\"relu\"))\n",
    "model.add(keras.layers.Dense(10, activation=\"softmax\"))\n",
    "\n",
    "keras.backend.clear_session()\n",
    "np.random.seed(42)\n",
    "tf.random.set_seed(42)\n",
    "\n",
    "model = keras.models.Sequential([\n",
    "    keras.layers.Flatten(input_shape=[128, 128]),\n",
    "    keras.layers.Dense(300, activation=\"relu\"),\n",
    "    keras.layers.Dense(100, activation=\"relu\"),\n",
    "    keras.layers.Dense(10, activation=\"softmax\")\n",
    "])\n",
    "\n",
    "model.layers"
   ]
  },
  {
   "cell_type": "code",
   "execution_count": 13,
   "metadata": {},
   "outputs": [
    {
     "name": "stdout",
     "output_type": "stream",
     "text": [
      "Model: \"sequential\"\n",
      "_________________________________________________________________\n",
      " Layer (type)                Output Shape              Param #   \n",
      "=================================================================\n",
      " flatten (Flatten)           (None, 16384)             0         \n",
      "                                                                 \n",
      " dense (Dense)               (None, 300)               4915500   \n",
      "                                                                 \n",
      " dense_1 (Dense)             (None, 100)               30100     \n",
      "                                                                 \n",
      " dense_2 (Dense)             (None, 10)                1010      \n",
      "                                                                 \n",
      "=================================================================\n",
      "Total params: 4,946,610\n",
      "Trainable params: 4,946,610\n",
      "Non-trainable params: 0\n",
      "_________________________________________________________________\n"
     ]
    }
   ],
   "source": [
    "model.summary()"
   ]
  },
  {
   "cell_type": "code",
   "execution_count": 14,
   "metadata": {},
   "outputs": [
    {
     "data": {
      "text/plain": [
       "array([[ 0.00624145, -0.00223747, -0.00557982, ..., -0.00705057,\n",
       "         0.00983666, -0.01756085],\n",
       "       [ 0.0012146 , -0.00791551, -0.01495419, ...,  0.00153694,\n",
       "        -0.00704478, -0.01061738],\n",
       "       [-0.01577629, -0.01759288,  0.01810366, ..., -0.01080306,\n",
       "         0.01815253, -0.01868817],\n",
       "       ...,\n",
       "       [ 0.00372475,  0.01591296, -0.00610253, ...,  0.00645785,\n",
       "        -0.00081756,  0.00928183],\n",
       "       [ 0.00682121, -0.0023047 , -0.00090442, ...,  0.01544421,\n",
       "         0.01161724,  0.00345435],\n",
       "       [-0.00477747, -0.00085977,  0.00936946, ...,  0.01443502,\n",
       "        -0.0025459 , -0.0019555 ]], dtype=float32)"
      ]
     },
     "execution_count": 14,
     "metadata": {},
     "output_type": "execute_result"
    }
   ],
   "source": [
    "weights, biases = model.layers[1].get_weights()\n",
    "\n",
    "weights"
   ]
  },
  {
   "cell_type": "code",
   "execution_count": 15,
   "metadata": {},
   "outputs": [
    {
     "data": {
      "text/plain": [
       "(16384, 300)"
      ]
     },
     "execution_count": 15,
     "metadata": {},
     "output_type": "execute_result"
    }
   ],
   "source": [
    "weights.shape"
   ]
  },
  {
   "cell_type": "code",
   "execution_count": 16,
   "metadata": {},
   "outputs": [
    {
     "data": {
      "text/plain": [
       "array([0., 0., 0., 0., 0., 0., 0., 0., 0., 0., 0., 0., 0., 0., 0., 0., 0.,\n",
       "       0., 0., 0., 0., 0., 0., 0., 0., 0., 0., 0., 0., 0., 0., 0., 0., 0.,\n",
       "       0., 0., 0., 0., 0., 0., 0., 0., 0., 0., 0., 0., 0., 0., 0., 0., 0.,\n",
       "       0., 0., 0., 0., 0., 0., 0., 0., 0., 0., 0., 0., 0., 0., 0., 0., 0.,\n",
       "       0., 0., 0., 0., 0., 0., 0., 0., 0., 0., 0., 0., 0., 0., 0., 0., 0.,\n",
       "       0., 0., 0., 0., 0., 0., 0., 0., 0., 0., 0., 0., 0., 0., 0., 0., 0.,\n",
       "       0., 0., 0., 0., 0., 0., 0., 0., 0., 0., 0., 0., 0., 0., 0., 0., 0.,\n",
       "       0., 0., 0., 0., 0., 0., 0., 0., 0., 0., 0., 0., 0., 0., 0., 0., 0.,\n",
       "       0., 0., 0., 0., 0., 0., 0., 0., 0., 0., 0., 0., 0., 0., 0., 0., 0.,\n",
       "       0., 0., 0., 0., 0., 0., 0., 0., 0., 0., 0., 0., 0., 0., 0., 0., 0.,\n",
       "       0., 0., 0., 0., 0., 0., 0., 0., 0., 0., 0., 0., 0., 0., 0., 0., 0.,\n",
       "       0., 0., 0., 0., 0., 0., 0., 0., 0., 0., 0., 0., 0., 0., 0., 0., 0.,\n",
       "       0., 0., 0., 0., 0., 0., 0., 0., 0., 0., 0., 0., 0., 0., 0., 0., 0.,\n",
       "       0., 0., 0., 0., 0., 0., 0., 0., 0., 0., 0., 0., 0., 0., 0., 0., 0.,\n",
       "       0., 0., 0., 0., 0., 0., 0., 0., 0., 0., 0., 0., 0., 0., 0., 0., 0.,\n",
       "       0., 0., 0., 0., 0., 0., 0., 0., 0., 0., 0., 0., 0., 0., 0., 0., 0.,\n",
       "       0., 0., 0., 0., 0., 0., 0., 0., 0., 0., 0., 0., 0., 0., 0., 0., 0.,\n",
       "       0., 0., 0., 0., 0., 0., 0., 0., 0., 0., 0.], dtype=float32)"
      ]
     },
     "execution_count": 16,
     "metadata": {},
     "output_type": "execute_result"
    }
   ],
   "source": [
    "biases"
   ]
  },
  {
   "cell_type": "code",
   "execution_count": 17,
   "metadata": {},
   "outputs": [
    {
     "data": {
      "text/plain": [
       "(300,)"
      ]
     },
     "execution_count": 17,
     "metadata": {},
     "output_type": "execute_result"
    }
   ],
   "source": [
    "biases.shape"
   ]
  },
  {
   "cell_type": "code",
   "execution_count": 18,
   "metadata": {},
   "outputs": [],
   "source": [
    "model.compile(loss=\"sparse_categorical_crossentropy\",\n",
    "              optimizer=\"sgd\",\n",
    "              metrics=[\"accuracy\"])"
   ]
  },
  {
   "cell_type": "markdown",
   "metadata": {},
   "source": [
    "### 3. Training the Neural Network model"
   ]
  },
  {
   "cell_type": "code",
   "execution_count": 19,
   "metadata": {},
   "outputs": [
    {
     "name": "stdout",
     "output_type": "stream",
     "text": [
      "Epoch 1/30\n",
      "325/325 [==============================] - 21s 57ms/step - loss: 1.6800 - accuracy: 0.3290 - val_loss: 1.6958 - val_accuracy: 0.3548\n",
      "Epoch 2/30\n",
      "325/325 [==============================] - 11s 33ms/step - loss: 1.6171 - accuracy: 0.3621 - val_loss: 1.6884 - val_accuracy: 0.3062\n",
      "Epoch 3/30\n",
      "325/325 [==============================] - 9s 28ms/step - loss: 1.5891 - accuracy: 0.3757 - val_loss: 1.6960 - val_accuracy: 0.2402\n",
      "Epoch 4/30\n",
      "325/325 [==============================] - 8s 25ms/step - loss: 1.5662 - accuracy: 0.3870 - val_loss: 1.7363 - val_accuracy: 0.3040\n",
      "Epoch 5/30\n",
      "325/325 [==============================] - 9s 28ms/step - loss: 1.5475 - accuracy: 0.3947 - val_loss: 1.6234 - val_accuracy: 0.3734\n",
      "Epoch 6/30\n",
      "325/325 [==============================] - 8s 25ms/step - loss: 1.5270 - accuracy: 0.4039 - val_loss: 1.7953 - val_accuracy: 0.3008\n",
      "Epoch 7/30\n",
      "325/325 [==============================] - 9s 26ms/step - loss: 1.5084 - accuracy: 0.4153 - val_loss: 1.6313 - val_accuracy: 0.3452\n",
      "Epoch 8/30\n",
      "325/325 [==============================] - 9s 29ms/step - loss: 1.4909 - accuracy: 0.4243 - val_loss: 1.6602 - val_accuracy: 0.3588\n",
      "Epoch 9/30\n",
      "325/325 [==============================] - 9s 27ms/step - loss: 1.4713 - accuracy: 0.4308 - val_loss: 1.7222 - val_accuracy: 0.3098\n",
      "Epoch 10/30\n",
      "325/325 [==============================] - 11s 34ms/step - loss: 1.4537 - accuracy: 0.4405 - val_loss: 1.9219 - val_accuracy: 0.3162\n",
      "Epoch 11/30\n",
      "325/325 [==============================] - 11s 33ms/step - loss: 1.4356 - accuracy: 0.4497 - val_loss: 1.6998 - val_accuracy: 0.3352\n",
      "Epoch 12/30\n",
      "325/325 [==============================] - 10s 29ms/step - loss: 1.4133 - accuracy: 0.4610 - val_loss: 1.7070 - val_accuracy: 0.3340\n",
      "Epoch 13/30\n",
      "325/325 [==============================] - 10s 29ms/step - loss: 1.3952 - accuracy: 0.4674 - val_loss: 2.0196 - val_accuracy: 0.2468\n",
      "Epoch 14/30\n",
      "325/325 [==============================] - 11s 34ms/step - loss: 1.3721 - accuracy: 0.4772 - val_loss: 1.9876 - val_accuracy: 0.3078\n",
      "Epoch 15/30\n",
      "325/325 [==============================] - 11s 33ms/step - loss: 1.3537 - accuracy: 0.4868 - val_loss: 1.7269 - val_accuracy: 0.3448\n",
      "Epoch 16/30\n",
      "325/325 [==============================] - 11s 34ms/step - loss: 1.3363 - accuracy: 0.4925 - val_loss: 1.8339 - val_accuracy: 0.3324\n",
      "Epoch 17/30\n",
      "325/325 [==============================] - 9s 28ms/step - loss: 1.3108 - accuracy: 0.5071 - val_loss: 1.8117 - val_accuracy: 0.2848\n",
      "Epoch 18/30\n",
      "325/325 [==============================] - 10s 31ms/step - loss: 1.2899 - accuracy: 0.5190 - val_loss: 1.8671 - val_accuracy: 0.3184\n",
      "Epoch 19/30\n",
      "325/325 [==============================] - 10s 31ms/step - loss: 1.2713 - accuracy: 0.5244 - val_loss: 1.8045 - val_accuracy: 0.3488\n",
      "Epoch 20/30\n",
      "325/325 [==============================] - 10s 30ms/step - loss: 1.2519 - accuracy: 0.5334 - val_loss: 1.7142 - val_accuracy: 0.3930\n",
      "Epoch 21/30\n",
      "325/325 [==============================] - 10s 30ms/step - loss: 1.2285 - accuracy: 0.5436 - val_loss: 1.8498 - val_accuracy: 0.2948\n",
      "Epoch 22/30\n",
      "325/325 [==============================] - 9s 26ms/step - loss: 1.2081 - accuracy: 0.5535 - val_loss: 1.6932 - val_accuracy: 0.3924\n",
      "Epoch 23/30\n",
      "325/325 [==============================] - 10s 30ms/step - loss: 1.1903 - accuracy: 0.5574 - val_loss: 1.9359 - val_accuracy: 0.3358\n",
      "Epoch 24/30\n",
      "325/325 [==============================] - 9s 28ms/step - loss: 1.1689 - accuracy: 0.5690 - val_loss: 2.0435 - val_accuracy: 0.3272\n",
      "Epoch 25/30\n",
      "325/325 [==============================] - 8s 26ms/step - loss: 1.1415 - accuracy: 0.5806 - val_loss: 2.4319 - val_accuracy: 0.2448\n",
      "Epoch 26/30\n",
      "325/325 [==============================] - 9s 29ms/step - loss: 1.1259 - accuracy: 0.5881 - val_loss: 1.7599 - val_accuracy: 0.3176\n",
      "Epoch 27/30\n",
      "325/325 [==============================] - 11s 33ms/step - loss: 1.1009 - accuracy: 0.5993 - val_loss: 1.8669 - val_accuracy: 0.3880\n",
      "Epoch 28/30\n",
      "325/325 [==============================] - 12s 36ms/step - loss: 1.0770 - accuracy: 0.6073 - val_loss: 1.5681 - val_accuracy: 0.4246\n",
      "Epoch 29/30\n",
      "325/325 [==============================] - 11s 35ms/step - loss: 1.0520 - accuracy: 0.6213 - val_loss: 2.1311 - val_accuracy: 0.3230\n",
      "Epoch 30/30\n",
      "325/325 [==============================] - 10s 31ms/step - loss: 1.0311 - accuracy: 0.6284 - val_loss: 2.3201 - val_accuracy: 0.2892\n"
     ]
    }
   ],
   "source": [
    "# training the model and saving metrics in history\n",
    "# minibatch\n",
    "history = model.fit(X_train, y_train,\n",
    "          batch_size=128, epochs=30,\n",
    "          verbose=1,\n",
    "          validation_data=(X_valid, y_valid))"
   ]
  },
  {
   "cell_type": "code",
   "execution_count": 23,
   "metadata": {},
   "outputs": [
    {
     "name": "stdout",
     "output_type": "stream",
     "text": [
      "Epoch 1/30\n",
      "1297/1297 [==============================] - 24s 18ms/step - loss: 1.2398 - accuracy: 0.5318 - val_loss: 1.7893 - val_accuracy: 0.3996\n",
      "Epoch 2/30\n",
      "1297/1297 [==============================] - 20s 15ms/step - loss: 1.1442 - accuracy: 0.5721 - val_loss: 1.6434 - val_accuracy: 0.4030\n",
      "Epoch 3/30\n",
      "1297/1297 [==============================] - 19s 15ms/step - loss: 1.0724 - accuracy: 0.6012 - val_loss: 1.6260 - val_accuracy: 0.3964\n",
      "Epoch 4/30\n",
      "1297/1297 [==============================] - 17s 13ms/step - loss: 1.0104 - accuracy: 0.6284 - val_loss: 1.8344 - val_accuracy: 0.3390\n",
      "Epoch 5/30\n",
      "1297/1297 [==============================] - 21s 16ms/step - loss: 0.9504 - accuracy: 0.6517 - val_loss: 1.7811 - val_accuracy: 0.4190\n",
      "Epoch 6/30\n",
      "1297/1297 [==============================] - 19s 14ms/step - loss: 0.8918 - accuracy: 0.6762 - val_loss: 1.7934 - val_accuracy: 0.4216\n",
      "Epoch 7/30\n",
      "1297/1297 [==============================] - 18s 14ms/step - loss: 0.8422 - accuracy: 0.6933 - val_loss: 1.8637 - val_accuracy: 0.3730\n",
      "Epoch 8/30\n",
      "1297/1297 [==============================] - 20s 15ms/step - loss: 0.7872 - accuracy: 0.7156 - val_loss: 2.1760 - val_accuracy: 0.3984\n",
      "Epoch 9/30\n",
      "1297/1297 [==============================] - 18s 14ms/step - loss: 0.7359 - accuracy: 0.7330 - val_loss: 2.5665 - val_accuracy: 0.3044\n",
      "Epoch 10/30\n",
      "1297/1297 [==============================] - 19s 15ms/step - loss: 0.6929 - accuracy: 0.7508 - val_loss: 2.1293 - val_accuracy: 0.4184\n",
      "Epoch 11/30\n",
      "1297/1297 [==============================] - 18s 14ms/step - loss: 0.6433 - accuracy: 0.7691 - val_loss: 1.8999 - val_accuracy: 0.4392\n",
      "Epoch 12/30\n",
      "1297/1297 [==============================] - 17s 13ms/step - loss: 0.6010 - accuracy: 0.7859 - val_loss: 2.0676 - val_accuracy: 0.4174\n",
      "Epoch 13/30\n",
      "1297/1297 [==============================] - 18s 14ms/step - loss: 0.5669 - accuracy: 0.7986 - val_loss: 2.6891 - val_accuracy: 0.3340\n",
      "Epoch 14/30\n",
      "1297/1297 [==============================] - 17s 13ms/step - loss: 0.5249 - accuracy: 0.8136 - val_loss: 2.7411 - val_accuracy: 0.3952\n",
      "Epoch 15/30\n",
      "1297/1297 [==============================] - 18s 14ms/step - loss: 0.4886 - accuracy: 0.8281 - val_loss: 2.2358 - val_accuracy: 0.3972\n",
      "Epoch 16/30\n",
      "1297/1297 [==============================] - 18s 14ms/step - loss: 0.4560 - accuracy: 0.8410 - val_loss: 2.5315 - val_accuracy: 0.4092\n",
      "Epoch 17/30\n",
      "1297/1297 [==============================] - 19s 14ms/step - loss: 0.4220 - accuracy: 0.8523 - val_loss: 2.3121 - val_accuracy: 0.4360\n",
      "Epoch 18/30\n",
      "1297/1297 [==============================] - 18s 14ms/step - loss: 0.3909 - accuracy: 0.8612 - val_loss: 2.3357 - val_accuracy: 0.4320\n",
      "Epoch 19/30\n",
      "1297/1297 [==============================] - 17s 13ms/step - loss: 0.3651 - accuracy: 0.8720 - val_loss: 2.3845 - val_accuracy: 0.4262\n",
      "Epoch 20/30\n",
      "1297/1297 [==============================] - 18s 14ms/step - loss: 0.3312 - accuracy: 0.8848 - val_loss: 2.3854 - val_accuracy: 0.4432\n",
      "Epoch 21/30\n",
      "1297/1297 [==============================] - 19s 15ms/step - loss: 0.3068 - accuracy: 0.8948 - val_loss: 2.4662 - val_accuracy: 0.4348\n",
      "Epoch 22/30\n",
      "1297/1297 [==============================] - 18s 14ms/step - loss: 0.2837 - accuracy: 0.9044 - val_loss: 2.6675 - val_accuracy: 0.4460\n",
      "Epoch 23/30\n",
      "1297/1297 [==============================] - 18s 14ms/step - loss: 0.2618 - accuracy: 0.9094 - val_loss: 2.7271 - val_accuracy: 0.4062\n",
      "Epoch 24/30\n",
      "1297/1297 [==============================] - 18s 14ms/step - loss: 0.2392 - accuracy: 0.9187 - val_loss: 2.9952 - val_accuracy: 0.4312\n",
      "Epoch 25/30\n",
      "1297/1297 [==============================] - 18s 14ms/step - loss: 0.2150 - accuracy: 0.9274 - val_loss: 3.2204 - val_accuracy: 0.3966\n",
      "Epoch 26/30\n",
      "1297/1297 [==============================] - 19s 15ms/step - loss: 0.1962 - accuracy: 0.9339 - val_loss: 2.7226 - val_accuracy: 0.4470\n",
      "Epoch 27/30\n",
      "1297/1297 [==============================] - 17s 13ms/step - loss: 0.1907 - accuracy: 0.9373 - val_loss: 2.9100 - val_accuracy: 0.4422\n",
      "Epoch 28/30\n",
      "1297/1297 [==============================] - 18s 14ms/step - loss: 0.1684 - accuracy: 0.9457 - val_loss: 2.8856 - val_accuracy: 0.4632\n",
      "Epoch 29/30\n",
      "1297/1297 [==============================] - 18s 14ms/step - loss: 0.1536 - accuracy: 0.9498 - val_loss: 2.9713 - val_accuracy: 0.4408\n",
      "Epoch 30/30\n",
      "1297/1297 [==============================] - 18s 14ms/step - loss: 0.1523 - accuracy: 0.9508 - val_loss: 3.0025 - val_accuracy: 0.4464\n"
     ]
    }
   ],
   "source": [
    "#stochastic gradient decent\n",
    "historysgd = model.fit(X_train, y_train, epochs=30,\n",
    "                    validation_data=(X_valid, y_valid))"
   ]
  },
  {
   "cell_type": "code",
   "execution_count": 24,
   "metadata": {},
   "outputs": [
    {
     "data": {
      "image/png": "[encoded data removed]",
      "text/plain": [
       "<Figure size 576x360 with 1 Axes>"
      ]
     },
     "metadata": {
      "needs_background": "light"
     },
     "output_type": "display_data"
    }
   ],
   "source": [
    "pd.DataFrame(history.history).plot(figsize=(8, 5))\n",
    "plt.grid(True)\n",
    "plt.gca().set_ylim(0, 2.5)\n",
    " \n",
    "plt.show()"
   ]
  },
  {
   "cell_type": "code",
   "execution_count": 25,
   "metadata": {},
   "outputs": [
    {
     "data": {
      "image/png": "[encoded data removed]",
      "text/plain": [
       "<Figure size 576x360 with 1 Axes>"
      ]
     },
     "metadata": {
      "needs_background": "light"
     },
     "output_type": "display_data"
    }
   ],
   "source": [
    "pd.DataFrame(historysgd.history).plot(figsize=(8, 5))\n",
    "plt.grid(True)\n",
    "plt.gca().set_ylim(0, 2.5)\n",
    " \n",
    "plt.show()"
   ]
  },
  {
   "cell_type": "code",
   "execution_count": 26,
   "metadata": {},
   "outputs": [
    {
     "data": {
      "text/plain": [
       "array([[0.  , 0.77, 0.14, 0.  , 0.  , 0.02, 0.06, 0.  , 0.  , 0.  ],\n",
       "       [0.  , 0.  , 0.  , 0.  , 0.  , 0.13, 0.87, 0.  , 0.  , 0.  ],\n",
       "       [0.  , 0.95, 0.  , 0.  , 0.  , 0.  , 0.05, 0.  , 0.  , 0.  ]],\n",
       "      dtype=float32)"
      ]
     },
     "execution_count": 26,
     "metadata": {},
     "output_type": "execute_result"
    }
   ],
   "source": [
    "X_new = X_test[:3]\n",
    "y_proba = model.predict(X_new)\n",
    "y_proba.round(2)"
   ]
  },
  {
   "cell_type": "code",
   "execution_count": 27,
   "metadata": {},
   "outputs": [
    {
     "data": {
      "text/plain": [
       "array([1, 6, 1])"
      ]
     },
     "execution_count": 27,
     "metadata": {},
     "output_type": "execute_result"
    }
   ],
   "source": [
    "#y_pred = model.predict_classes(X_new) # deprecated\n",
    "y_pred = np.argmax(model.predict(X_new), axis=-1)\n",
    "y_pred"
   ]
  },
  {
   "cell_type": "code",
   "execution_count": 28,
   "metadata": {},
   "outputs": [
    {
     "data": {
      "text/plain": [
       "array([0.00784314, 0.01176471, 0.00392157])"
      ]
     },
     "execution_count": 28,
     "metadata": {},
     "output_type": "execute_result"
    }
   ],
   "source": [
    "np.array(class_names)[y_pred]\n",
    "y_new = y_test[:3]\n",
    "y_new"
   ]
  },
  {
   "cell_type": "code",
   "execution_count": 29,
   "metadata": {},
   "outputs": [],
   "source": [
    "K = keras.backend\n",
    "\n",
    "class ExponentialLearningRate(keras.callbacks.Callback):\n",
    "    def __init__(self, factor):\n",
    "        self.factor = factor\n",
    "        self.rates = []\n",
    "        self.losses = []\n",
    "    def on_batch_end(self, batch, logs):\n",
    "        self.rates.append(K.get_value(self.model.optimizer.lr))\n",
    "        self.losses.append(logs[\"loss\"])\n",
    "        K.set_value(self.model.optimizer.lr, self.model.optimizer.lr * self.factor)"
   ]
  },
  {
   "cell_type": "code",
   "execution_count": 30,
   "metadata": {},
   "outputs": [],
   "source": [
    "#clear the section\n",
    "keras.backend.clear_session()\n",
    "np.random.seed(42)\n",
    "tf.random.set_seed(42)\n",
    "\n",
    "model = keras.models.Sequential([\n",
    "    keras.layers.Flatten(input_shape=[128, 128]),\n",
    "    keras.layers.Dense(300, activation=\"relu\"),\n",
    "    keras.layers.Dense(100, activation=\"relu\"),\n",
    "    keras.layers.Dense(10, activation=\"softmax\")\n",
    "])"
   ]
  },
  {
   "cell_type": "code",
   "execution_count": 31,
   "metadata": {},
   "outputs": [],
   "source": [
    "model.compile(loss=\"sparse_categorical_crossentropy\",\n",
    "              optimizer=keras.optimizers.SGD(learning_rate=1e-3),\n",
    "              metrics=[\"accuracy\"])\n",
    "expon_lr = ExponentialLearningRate(factor=1.005)"
   ]
  },
  {
   "cell_type": "code",
   "execution_count": 32,
   "metadata": {},
   "outputs": [
    {
     "name": "stdout",
     "output_type": "stream",
     "text": [
      "1297/1297 [==============================] - 21s 15ms/step - loss: 1.7322 - accuracy: 0.3051 - val_loss: 1.7494 - val_accuracy: 0.2904\n"
     ]
    }
   ],
   "source": [
    "history = model.fit(X_train, y_train, epochs=1,\n",
    "                    validation_data=(X_valid, y_valid),\n",
    "                    callbacks=[expon_lr])"
   ]
  },
  {
   "cell_type": "code",
   "execution_count": 33,
   "metadata": {},
   "outputs": [
    {
     "data": {
      "text/plain": [
       "Text(0, 0.5, 'Loss')"
      ]
     },
     "execution_count": 33,
     "metadata": {},
     "output_type": "execute_result"
    },
    {
     "data": {
      "image/png": "[encoded data removed]",
      "text/plain": [
       "<Figure size 432x288 with 1 Axes>"
      ]
     },
     "metadata": {
      "needs_background": "light"
     },
     "output_type": "display_data"
    }
   ],
   "source": [
    "plt.plot(expon_lr.rates, expon_lr.losses)\n",
    "plt.gca().set_xscale('log')\n",
    "plt.hlines(min(expon_lr.losses), min(expon_lr.rates), max(expon_lr.rates))\n",
    "plt.axis([min(expon_lr.rates), max(expon_lr.rates), 0, expon_lr.losses[0]])\n",
    "plt.grid()\n",
    "plt.xlabel(\"Learning rate\")\n",
    "plt.ylabel(\"Loss\")"
   ]
  },
  {
   "cell_type": "code",
   "execution_count": 34,
   "metadata": {},
   "outputs": [],
   "source": [
    "model = keras.models.Sequential([\n",
    "    keras.layers.Flatten(input_shape=[128, 128]),\n",
    "    keras.layers.Dense(300, activation=\"relu\"),\n",
    "    keras.layers.Dense(100, activation=\"relu\"),\n",
    "    keras.layers.Dense(10, activation=\"softmax\")\n",
    "])"
   ]
  },
  {
   "cell_type": "code",
   "execution_count": 35,
   "metadata": {},
   "outputs": [
    {
     "name": "stderr",
     "output_type": "stream",
     "text": [
      "/Users/maxleroux/opt/anaconda3/lib/python3.9/site-packages/keras/optimizer_v2/gradient_descent.py:102: UserWarning: The `lr` argument is deprecated, use `learning_rate` instead.\n",
      "  super(SGD, self).__init__(name, **kwargs)\n"
     ]
    }
   ],
   "source": [
    "model.compile(loss=\"sparse_categorical_crossentropy\",\n",
    "              optimizer=tf.keras.optimizers.SGD(lr=8e-1),\n",
    "              metrics=[\"accuracy\"])"
   ]
  },
  {
   "cell_type": "code",
   "execution_count": 36,
   "metadata": {},
   "outputs": [
    {
     "name": "stdout",
     "output_type": "stream",
     "text": [
      "Epoch 1/100\n",
      "1297/1297 [==============================] - 26s 19ms/step - loss: 1.7177 - accuracy: 0.3096 - val_loss: 1.6412 - val_accuracy: 0.3470\n",
      "Epoch 2/100\n",
      "1297/1297 [==============================] - 18s 14ms/step - loss: 1.6333 - accuracy: 0.3402 - val_loss: 1.6257 - val_accuracy: 0.3564\n",
      "Epoch 3/100\n",
      "1297/1297 [==============================] - 18s 14ms/step - loss: 1.6164 - accuracy: 0.3475 - val_loss: 1.6110 - val_accuracy: 0.3568\n",
      "Epoch 4/100\n",
      "1297/1297 [==============================] - 18s 14ms/step - loss: 1.6029 - accuracy: 0.3546 - val_loss: 1.6229 - val_accuracy: 0.3572\n",
      "Epoch 5/100\n",
      "1297/1297 [==============================] - 18s 14ms/step - loss: 1.5919 - accuracy: 0.3576 - val_loss: 1.6145 - val_accuracy: 0.3538\n",
      "Epoch 6/100\n",
      "1297/1297 [==============================] - 18s 14ms/step - loss: 1.5797 - accuracy: 0.3668 - val_loss: 1.6127 - val_accuracy: 0.3644\n",
      "Epoch 7/100\n",
      "1297/1297 [==============================] - 18s 14ms/step - loss: 1.5654 - accuracy: 0.3742 - val_loss: 1.6128 - val_accuracy: 0.3662\n",
      "Epoch 8/100\n",
      "1297/1297 [==============================] - 18s 14ms/step - loss: 1.5479 - accuracy: 0.3829 - val_loss: 1.6422 - val_accuracy: 0.3542\n",
      "Epoch 9/100\n",
      "1297/1297 [==============================] - 18s 14ms/step - loss: 1.5351 - accuracy: 0.3910 - val_loss: 1.6340 - val_accuracy: 0.3466\n",
      "Epoch 10/100\n",
      "1297/1297 [==============================] - 18s 14ms/step - loss: 1.5212 - accuracy: 0.3963 - val_loss: 1.6244 - val_accuracy: 0.3624\n",
      "Epoch 11/100\n",
      "1297/1297 [==============================] - 18s 14ms/step - loss: 1.4999 - accuracy: 0.4087 - val_loss: 1.6938 - val_accuracy: 0.3550\n",
      "Epoch 12/100\n",
      "1297/1297 [==============================] - 18s 14ms/step - loss: 1.4874 - accuracy: 0.4161 - val_loss: 1.6485 - val_accuracy: 0.3664\n",
      "Epoch 13/100\n",
      "1297/1297 [==============================] - 19s 15ms/step - loss: 1.4708 - accuracy: 0.4232 - val_loss: 1.6964 - val_accuracy: 0.3372\n",
      "Epoch 14/100\n",
      "1297/1297 [==============================] - 22s 17ms/step - loss: 1.4526 - accuracy: 0.4347 - val_loss: 1.6696 - val_accuracy: 0.3604\n",
      "Epoch 15/100\n",
      "1297/1297 [==============================] - 20s 15ms/step - loss: 1.4378 - accuracy: 0.4402 - val_loss: 1.6481 - val_accuracy: 0.3718\n",
      "Epoch 16/100\n",
      "1297/1297 [==============================] - 18s 14ms/step - loss: 1.4225 - accuracy: 0.4501 - val_loss: 1.6742 - val_accuracy: 0.3886\n",
      "Epoch 17/100\n",
      "1297/1297 [==============================] - 18s 14ms/step - loss: 1.4149 - accuracy: 0.4535 - val_loss: 1.6794 - val_accuracy: 0.3600\n",
      "Epoch 18/100\n",
      "1297/1297 [==============================] - 18s 14ms/step - loss: 1.3912 - accuracy: 0.4655 - val_loss: 1.6406 - val_accuracy: 0.3818\n",
      "Epoch 19/100\n",
      "1297/1297 [==============================] - 17s 13ms/step - loss: 1.3719 - accuracy: 0.4727 - val_loss: 1.8844 - val_accuracy: 0.3550\n",
      "Epoch 20/100\n",
      "1297/1297 [==============================] - 18s 14ms/step - loss: 1.3594 - accuracy: 0.4773 - val_loss: 1.6961 - val_accuracy: 0.3888\n",
      "Epoch 21/100\n",
      "1297/1297 [==============================] - 17s 13ms/step - loss: 1.3414 - accuracy: 0.4867 - val_loss: 1.8585 - val_accuracy: 0.3566\n",
      "Epoch 22/100\n",
      "1297/1297 [==============================] - 19s 15ms/step - loss: 1.3226 - accuracy: 0.4943 - val_loss: 1.7436 - val_accuracy: 0.3794\n",
      "Epoch 23/100\n",
      "1297/1297 [==============================] - 17s 13ms/step - loss: 1.3126 - accuracy: 0.5012 - val_loss: 1.7297 - val_accuracy: 0.3914\n"
     ]
    }
   ],
   "source": [
    "from tensorflow.keras.callbacks import EarlyStopping\n",
    "from tensorflow.keras import layers, callbacks\n",
    "\n",
    "keras.backend.clear_session()\n",
    "np.random.seed(42)\n",
    "tf.random.set_seed(42)\n",
    "\n",
    "model = keras.models.Sequential([\n",
    "    keras.layers.Flatten(input_shape=[128, 128]),\n",
    "    keras.layers.Dense(300, activation=\"relu\"),\n",
    "    keras.layers.Dense(100, activation=\"relu\"),\n",
    "    keras.layers.Dense(10, activation=\"softmax\")\n",
    "])\n",
    "#The model needs to be recalled each time.\n",
    "\n",
    "model.compile(loss=\"sparse_categorical_crossentropy\",\n",
    "              optimizer=tf.keras.optimizers.SGD(lr=2e-1),\n",
    "              metrics=[\"accuracy\"])\n",
    "\n",
    "run_index = 1 # increment this at every run\n",
    "run_logdir = os.path.join(os.curdir, \"my_mnist_logs\", \"run_{:03d}\".format(run_index))\n",
    "\n",
    "early_stopping_cb = keras.callbacks.EarlyStopping(\n",
    "    min_delta=0.001, # minimium amount of change to count as an improvement\n",
    "    patience=20, # how many epochs to wait before stopping\n",
    ")\n",
    "checkpoint_cb = keras.callbacks.ModelCheckpoint(\"my_mnist_model.h5\", save_best_only=True)\n",
    "tensorboard_cb = keras.callbacks.TensorBoard(run_logdir)\n",
    "\n",
    "history = model.fit(X_train, y_train, epochs=100,\n",
    "                    validation_data=(X_valid, y_valid),\n",
    "                    callbacks=[checkpoint_cb, early_stopping_cb, tensorboard_cb])"
   ]
  },
  {
   "cell_type": "code",
   "execution_count": 37,
   "metadata": {},
   "outputs": [
    {
     "name": "stdout",
     "output_type": "stream",
     "text": [
      "364/364 [==============================] - 2s 6ms/step - loss: 4.2732 - accuracy: 0.0000e+00\n",
      "157/157 [==============================] - 1s 7ms/step - loss: 1.6110 - accuracy: 0.3568\n",
      "1297/1297 [==============================] - 10s 8ms/step - loss: 1.5967 - accuracy: 0.3570\n"
     ]
    },
    {
     "data": {
      "text/plain": [
       "[1.5967466831207275, 0.35700511932373047]"
      ]
     },
     "execution_count": 37,
     "metadata": {},
     "output_type": "execute_result"
    }
   ],
   "source": [
    "model = keras.models.load_model(\"my_mnist_model.h5\") # rollback to best model\n",
    "model.evaluate(X_test, y_test)\n",
    "model.evaluate(X_valid, y_valid)\n",
    "model.evaluate(X_train, y_train)"
   ]
  },
  {
   "cell_type": "code",
   "execution_count": 38,
   "metadata": {},
   "outputs": [
    {
     "name": "stdout",
     "output_type": "stream",
     "text": [
      "Epoch 1/20\n",
      "1297/1297 [==============================] - 10s 7ms/step - loss: 4.2008 - val_loss: 3.2525\n",
      "Epoch 2/20\n",
      "1297/1297 [==============================] - 8s 6ms/step - loss: 3.2791 - val_loss: 3.2312\n",
      "Epoch 3/20\n",
      "1297/1297 [==============================] - 7s 5ms/step - loss: 3.2707 - val_loss: 3.2256\n",
      "Epoch 4/20\n",
      "1297/1297 [==============================] - 5s 4ms/step - loss: 3.2676 - val_loss: 3.2236\n",
      "Epoch 5/20\n",
      "1297/1297 [==============================] - 5s 4ms/step - loss: 3.2652 - val_loss: 3.2207\n",
      "Epoch 6/20\n",
      "1297/1297 [==============================] - 6s 5ms/step - loss: 3.2626 - val_loss: 3.2208\n",
      "Epoch 7/20\n",
      "1297/1297 [==============================] - 6s 4ms/step - loss: 3.2612 - val_loss: 3.2177\n",
      "Epoch 8/20\n",
      "1297/1297 [==============================] - 5s 4ms/step - loss: 3.2595 - val_loss: 3.2168\n",
      "Epoch 9/20\n",
      "1297/1297 [==============================] - 6s 4ms/step - loss: 3.2587 - val_loss: 3.2179\n",
      "Epoch 10/20\n",
      "1297/1297 [==============================] - 5s 4ms/step - loss: 3.2576 - val_loss: 3.2208\n",
      "Epoch 11/20\n",
      "1297/1297 [==============================] - 6s 4ms/step - loss: 3.2576 - val_loss: 3.2144\n",
      "Epoch 12/20\n",
      "1297/1297 [==============================] - 6s 4ms/step - loss: 3.2566 - val_loss: 3.2140\n",
      "Epoch 13/20\n",
      "1297/1297 [==============================] - 6s 4ms/step - loss: 3.2556 - val_loss: 3.2133\n",
      "Epoch 14/20\n",
      "1297/1297 [==============================] - 8s 6ms/step - loss: 3.2553 - val_loss: 3.2132\n",
      "Epoch 15/20\n",
      "1297/1297 [==============================] - 7s 5ms/step - loss: 3.2557 - val_loss: 3.2124\n",
      "Epoch 16/20\n",
      "1297/1297 [==============================] - 6s 4ms/step - loss: 3.2550 - val_loss: 3.2131\n",
      "Epoch 17/20\n",
      "1297/1297 [==============================] - 6s 4ms/step - loss: 3.2545 - val_loss: 3.2117\n",
      "Epoch 18/20\n",
      "1297/1297 [==============================] - 6s 4ms/step - loss: 3.2540 - val_loss: 3.2150\n",
      "Epoch 19/20\n",
      "1297/1297 [==============================] - 6s 4ms/step - loss: 3.2543 - val_loss: 3.2112\n",
      "Epoch 20/20\n",
      "1297/1297 [==============================] - 6s 4ms/step - loss: 3.2538 - val_loss: 3.2117\n",
      "364/364 [==============================] - 2s 5ms/step - loss: 14.0681\n"
     ]
    }
   ],
   "source": [
    "from sklearn.preprocessing import StandardScaler\n",
    "\n",
    "scaler = StandardScaler()\n",
    "\n",
    "np.random.seed(42)\n",
    "tf.random.set_seed(42)\n",
    "\n",
    "model = keras.models.Sequential([\n",
    "    keras.layers.Dense(30, activation=\"relu\", input_shape=X_train.shape[1:]),\n",
    "    keras.layers.Dense(1)\n",
    "])\n",
    "model.compile(loss=\"mean_squared_error\", optimizer=tf.keras.optimizers.SGD(lr=1e-3))\n",
    "history = model.fit(X_train, y_train, epochs=20, validation_data=(X_valid, y_valid))\n",
    "mse_test = model.evaluate(X_test, y_test)\n",
    "X_new = X_test[:3]\n",
    "y_pred = model.predict(X_new)"
   ]
  },
  {
   "cell_type": "code",
   "execution_count": 39,
   "metadata": {},
   "outputs": [
    {
     "data": {
      "image/png": "[encoded data removed]",
      "text/plain": [
       "<Figure size 432x288 with 1 Axes>"
      ]
     },
     "metadata": {
      "needs_background": "light"
     },
     "output_type": "display_data"
    }
   ],
   "source": [
    "plt.plot(pd.DataFrame(history.history))\n",
    "plt.grid(True)\n",
    "plt.gca().set_ylim(0, 5)\n",
    "plt.show()"
   ]
  },
  {
   "cell_type": "code",
   "execution_count": null,
   "metadata": {},
   "outputs": [],
   "source": []
  }
 ],
 "metadata": {
  "kernelspec": {
   "display_name": "Python 3.9.12 ('base')",
   "language": "python",
   "name": "python3"
  },
  "language_info": {
   "codemirror_mode": {
    "name": "ipython",
    "version": 3
   },
   "file_extension": ".py",
   "mimetype": "text/x-python",
   "name": "python",
   "nbconvert_exporter": "python",
   "pygments_lexer": "ipython3",
   "version": "3.9.12"
  },
  "vscode": {
   "interpreter": {
    "hash": "a6f23c1e824f6170352d06cc12395b09d0b6a41c8cdaaad4a237d4edd2fffac5"
   }
  }
 },
 "nbformat": 4,
 "nbformat_minor": 2
}
