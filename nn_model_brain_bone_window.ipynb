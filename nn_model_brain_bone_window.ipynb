{
 "cells": [
  {
   "cell_type": "markdown",
   "metadata": {},
   "source": [
    "### 1. Get Train \\& Test Data"
   ]
  },
  {
   "cell_type": "code",
   "execution_count": 2,
   "metadata": {},
   "outputs": [
    {
     "name": "stderr",
     "output_type": "stream",
     "text": [
      "/Users/maxleroux/opt/anaconda3/lib/python3.9/site-packages/scipy/__init__.py:146: UserWarning: A NumPy version >=1.16.5 and <1.23.0 is required for this version of SciPy (detected version 1.26.4\n",
      "  warnings.warn(f\"A NumPy version >={np_minversion} and <{np_maxversion}\"\n"
     ]
    },
    {
     "name": "stdout",
     "output_type": "stream",
     "text": [
      "Number of type 0:  1694\n",
      "Number of type 1:  15664\n",
      "Number of type 2:  9878\n",
      "Number of type 3:  32074\n",
      "Number of type 4:  10700\n",
      "Number of type 5:  16423\n",
      "Number of type 6:  32200\n"
     ]
    }
   ],
   "source": [
    "import os \n",
    "from PIL import Image, ImageOps\n",
    "import numpy as np\n",
    "import tensorflow as tf\n",
    "from tensorflow import keras\n",
    "import pandas as pd\n",
    "import matplotlib.pyplot as plt\n",
    "\n",
    "path1 = []\n",
    "path2 = []\n",
    "path3 = []\n",
    "path4 = []\n",
    "path5 = []\n",
    "path6 = []\n",
    "path7 = []\n",
    "\n",
    "# Testing just for brain_bone_window, could combine all windows\n",
    "for dirname, _, filenames in os.walk('epidural/brain_bone_window'):\n",
    "    for filename in filenames:\n",
    "        path1.append(os.path.join(dirname, filename))\n",
    "    print(\"Number of type 0: \", len(filenames))\n",
    "        \n",
    "for dirname, _, filenames in os.walk('intraparenchymal/brain_bone_window'):\n",
    "    for filename in filenames:\n",
    "        path2.append(os.path.join(dirname, filename))\n",
    "    print(\"Number of type 1: \", len(filenames))\n",
    "        \n",
    "for dirname, _, filenames in os.walk('intraventricular/brain_bone_window'):\n",
    "    for filename in filenames:\n",
    "        path3.append(os.path.join(dirname, filename))\n",
    "    print(\"Number of type 2: \", len(filenames))\n",
    "        \n",
    "for dirname, _, filenames in os.walk('multi/brain_bone_window'):\n",
    "    for filename in filenames:\n",
    "        path4.append(os.path.join(dirname, filename))  \n",
    "    print(\"Number of type 3: \", len(filenames))\n",
    "\n",
    "for dirname, _, filenames in os.walk('normal/brain_bone_window'):\n",
    "    for filename in filenames:\n",
    "        path5.append(os.path.join(dirname, filename))  \n",
    "    print(\"Number of type 4: \", len(filenames))\n",
    "\n",
    "for dirname, _, filenames in os.walk('subarachnoid/brain_bone_window'):\n",
    "    for filename in filenames:\n",
    "        path6.append(os.path.join(dirname, filename))  \n",
    "    print(\"Number of type 5: \", len(filenames))\n",
    "\n",
    "for dirname, _, filenames in os.walk('subdural/brain_bone_window'):\n",
    "    for filename in filenames:\n",
    "        path7.append(os.path.join(dirname, filename))  \n",
    "    print(\"Number of type 6: \", len(filenames))"
   ]
  },
  {
   "cell_type": "code",
   "execution_count": 3,
   "metadata": {},
   "outputs": [
    {
     "data": {
      "text/plain": [
       "OneHotEncoder()"
      ]
     },
     "execution_count": 3,
     "metadata": {},
     "output_type": "execute_result"
    }
   ],
   "source": [
    "from sklearn.preprocessing import OneHotEncoder\n",
    "\n",
    "# One Hot Encoding\n",
    "encoder = OneHotEncoder()\n",
    "encoder.fit([[0],[1],[2],[3],[4],[5], [6]])"
   ]
  },
  {
   "cell_type": "code",
   "execution_count": 4,
   "metadata": {},
   "outputs": [],
   "source": [
    "import random\n",
    "\n",
    "\n",
    "data = []\n",
    "result = []\n",
    "\n",
    "for path in path1:\n",
    "    img = Image.open(path)\n",
    "    img = ImageOps.grayscale(img) # Removes RGB dimension from image, not sure if this is alright\n",
    "    img = img.resize((128,128))\n",
    "    img = np.array(img)\n",
    "    if(img.shape == (128,128)):\n",
    "        data.append(np.array(img))\n",
    "        result.append(0)\n",
    "        \n",
    "for path in path2:\n",
    "    img = Image.open(path)\n",
    "    img = ImageOps.grayscale(img)\n",
    "    img = img.resize((128,128))\n",
    "    img = np.array(img)\n",
    "    if(img.shape == (128,128)):\n",
    "        data.append(np.array(img))\n",
    "        result.append(1) \n",
    "        \n",
    "for path in path3:\n",
    "    img = Image.open(path)\n",
    "    img = ImageOps.grayscale(img)\n",
    "    img = img.resize((128,128))\n",
    "    img = np.array(img)\n",
    "    if(img.shape == (128,128)):\n",
    "        data.append(np.array(img))\n",
    "        result.append(2)\n",
    "        \n",
    "for path in path4:\n",
    "    img = Image.open(path)\n",
    "    img = ImageOps.grayscale(img)\n",
    "    img = img.resize((128,128))\n",
    "    img = np.array(img)\n",
    "    if(img.shape == (128,128)):\n",
    "        data.append(np.array(img))\n",
    "        result.append(3)\n",
    "\n",
    "for path in path5:\n",
    "    img = Image.open(path)\n",
    "    img = ImageOps.grayscale(img)\n",
    "    img = img.resize((128,128))\n",
    "    img = np.array(img)\n",
    "    if(img.shape == (128,128)):\n",
    "        data.append(np.array(img))\n",
    "        result.append(4)\n",
    "        \n",
    "for path in path6:\n",
    "    img = Image.open(path)\n",
    "    img = ImageOps.grayscale(img)\n",
    "    img = img.resize((128,128))\n",
    "    img = np.array(img)\n",
    "    if(img.shape == (128,128)):\n",
    "        data.append(np.array(img))\n",
    "        result.append(5)\n",
    "\n",
    "for path in path7:\n",
    "    img = Image.open(path)\n",
    "    img = ImageOps.grayscale(img)\n",
    "    img = img.resize((128,128))\n",
    "    img = np.array(img)\n",
    "    if(img.shape == (128,128)):\n",
    "        data.append(np.array(img))\n",
    "        result.append(6)\n",
    "\n",
    "length = len(data)\n",
    "\n",
    "indices = np.arange(length)\n",
    "np.random.shuffle(indices)\n",
    "\n",
    "# Shuffle both arrays using the shuffled indices\n",
    "shuffled_data = [data[i] for i in indices]\n",
    "shuffled_result = [result[i] for i in indices]\n",
    "\n",
    "train_data = shuffled_data[0:int(length*0.4)]\n",
    "train_result = shuffled_result[0:int(length*0.4)]\n",
    "\n",
    "test_data = shuffled_data[int(length*0.4):int(length*0.5)]\n",
    "test_result = shuffled_result[int(length*0.4):int(length*0.5)] # FIXME: trying to reduce data so calling fit() doesn't take forever"
   ]
  },
  {
   "cell_type": "code",
   "execution_count": 5,
   "metadata": {},
   "outputs": [
    {
     "data": {
      "text/plain": [
       "(11863,)"
      ]
     },
     "execution_count": 5,
     "metadata": {},
     "output_type": "execute_result"
    }
   ],
   "source": [
    "test_data = np.array(test_data)\n",
    "test_data.shape\n",
    "\n",
    "test_result = np.array(test_result)\n",
    "test_result.shape"
   ]
  },
  {
   "cell_type": "code",
   "execution_count": 6,
   "metadata": {},
   "outputs": [
    {
     "data": {
      "text/plain": [
       "(47453,)"
      ]
     },
     "execution_count": 6,
     "metadata": {},
     "output_type": "execute_result"
    }
   ],
   "source": [
    "train_data = np.array(train_data)\n",
    "test_data.shape\n",
    "\n",
    "train_result = np.array(train_result)\n",
    "train_result.shape"
   ]
  },
  {
   "cell_type": "code",
   "execution_count": 7,
   "metadata": {},
   "outputs": [
    {
     "name": "stdout",
     "output_type": "stream",
     "text": [
      "train data:  (47453, 128, 128)\n",
      "test data:  (11863, 128, 128)\n",
      "train data after reshape:  (47453, 16384)\n",
      "test data after reshape:  (11863, 16384)\n"
     ]
    }
   ],
   "source": [
    "# Confirm shape of data \n",
    "print(\"train data: \", train_data.shape)\n",
    "print(\"test data: \", test_data.shape)\n",
    "print(\"train data after reshape: \", train_data.reshape(-1,128*128).shape)\n",
    "print(\"test data after reshape: \", test_data.reshape(-1,128*128).shape)"
   ]
  },
  {
   "cell_type": "markdown",
   "metadata": {},
   "source": [
    "### 2. Build the Neural Network\n"
   ]
  },
  {
   "cell_type": "code",
   "execution_count": 8,
   "metadata": {},
   "outputs": [
    {
     "name": "stdout",
     "output_type": "stream",
     "text": [
      "(42453, 128, 128) (5000, 128, 128) (11863, 128, 128)\n",
      "(42453,) (5000,) (11863,)\n"
     ]
    }
   ],
   "source": [
    "X_valid, X_train = train_data[:5000] / 255., train_data[5000:] / 255.\n",
    "y_valid, y_train = train_result[:5000], train_result[5000:]\n",
    "X_test = test_data / 255.\n",
    "y_test = test_result / 255.\n",
    "print(X_train.shape, X_valid.shape, X_test.shape)\n",
    "print(y_train.shape, y_valid.shape, y_test.shape)"
   ]
  },
  {
   "cell_type": "code",
   "execution_count": 9,
   "metadata": {},
   "outputs": [
    {
     "name": "stdout",
     "output_type": "stream",
     "text": [
      "(42453, 1)\n"
     ]
    }
   ],
   "source": [
    "print(y_train.reshape(42453,-1).reshape(42453, -1).shape)"
   ]
  },
  {
   "cell_type": "code",
   "execution_count": 10,
   "metadata": {},
   "outputs": [
    {
     "data": {
      "text/plain": [
       "array([3, 5, 3, ..., 0, 5, 6])"
      ]
     },
     "execution_count": 10,
     "metadata": {},
     "output_type": "execute_result"
    }
   ],
   "source": [
    "y_train"
   ]
  },
  {
   "cell_type": "code",
   "execution_count": 11,
   "metadata": {},
   "outputs": [],
   "source": [
    "class_names = [\"0\", \"1\", \"2\", \"3\", \"4\", \"5\", \"6\"]"
   ]
  },
  {
   "cell_type": "code",
   "execution_count": 12,
   "metadata": {},
   "outputs": [
    {
     "name": "stderr",
     "output_type": "stream",
     "text": [
      "2024-04-16 16:55:22.044653: I tensorflow/core/platform/cpu_feature_guard.cc:151] This TensorFlow binary is optimized with oneAPI Deep Neural Network Library (oneDNN) to use the following CPU instructions in performance-critical operations:  AVX2 AVX512F FMA\n",
      "To enable them in other operations, rebuild TensorFlow with the appropriate compiler flags.\n"
     ]
    },
    {
     "data": {
      "text/plain": [
       "[<keras.layers.core.flatten.Flatten at 0x7ff66aba2e80>,\n",
       " <keras.layers.core.dense.Dense at 0x7ff5deb29c40>,\n",
       " <keras.layers.core.dense.Dense at 0x7ff5deb2d0d0>,\n",
       " <keras.layers.core.dense.Dense at 0x7ff5deb2d3a0>]"
      ]
     },
     "execution_count": 12,
     "metadata": {},
     "output_type": "execute_result"
    }
   ],
   "source": [
    "model = keras.models.Sequential()\n",
    "model.add(keras.layers.Flatten(input_shape=[128, 128]))\n",
    "model.add(keras.layers.Dense(300, activation=\"relu\"))\n",
    "model.add(keras.layers.Dense(100, activation=\"relu\"))\n",
    "model.add(keras.layers.Dense(10, activation=\"softmax\"))\n",
    "\n",
    "keras.backend.clear_session()\n",
    "np.random.seed(42)\n",
    "tf.random.set_seed(42)\n",
    "\n",
    "model = keras.models.Sequential([\n",
    "    keras.layers.Flatten(input_shape=[128, 128]),\n",
    "    keras.layers.Dense(300, activation=\"relu\"),\n",
    "    keras.layers.Dense(100, activation=\"relu\"),\n",
    "    keras.layers.Dense(10, activation=\"softmax\")\n",
    "])\n",
    "\n",
    "model.layers"
   ]
  },
  {
   "cell_type": "code",
   "execution_count": 13,
   "metadata": {},
   "outputs": [
    {
     "name": "stdout",
     "output_type": "stream",
     "text": [
      "Model: \"sequential\"\n",
      "_________________________________________________________________\n",
      " Layer (type)                Output Shape              Param #   \n",
      "=================================================================\n",
      " flatten (Flatten)           (None, 16384)             0         \n",
      "                                                                 \n",
      " dense (Dense)               (None, 300)               4915500   \n",
      "                                                                 \n",
      " dense_1 (Dense)             (None, 100)               30100     \n",
      "                                                                 \n",
      " dense_2 (Dense)             (None, 10)                1010      \n",
      "                                                                 \n",
      "=================================================================\n",
      "Total params: 4,946,610\n",
      "Trainable params: 4,946,610\n",
      "Non-trainable params: 0\n",
      "_________________________________________________________________\n"
     ]
    }
   ],
   "source": [
    "model.summary()"
   ]
  },
  {
   "cell_type": "code",
   "execution_count": 14,
   "metadata": {},
   "outputs": [
    {
     "data": {
      "text/plain": [
       "array([[ 0.00624145, -0.00223747, -0.00557982, ..., -0.00705057,\n",
       "         0.00983666, -0.01756085],\n",
       "       [ 0.0012146 , -0.00791551, -0.01495419, ...,  0.00153694,\n",
       "        -0.00704478, -0.01061738],\n",
       "       [-0.01577629, -0.01759288,  0.01810366, ..., -0.01080306,\n",
       "         0.01815253, -0.01868817],\n",
       "       ...,\n",
       "       [ 0.00372475,  0.01591296, -0.00610253, ...,  0.00645785,\n",
       "        -0.00081756,  0.00928183],\n",
       "       [ 0.00682121, -0.0023047 , -0.00090442, ...,  0.01544421,\n",
       "         0.01161724,  0.00345435],\n",
       "       [-0.00477747, -0.00085977,  0.00936946, ...,  0.01443502,\n",
       "        -0.0025459 , -0.0019555 ]], dtype=float32)"
      ]
     },
     "execution_count": 14,
     "metadata": {},
     "output_type": "execute_result"
    }
   ],
   "source": [
    "weights, biases = model.layers[1].get_weights()\n",
    "\n",
    "weights"
   ]
  },
  {
   "cell_type": "code",
   "execution_count": 15,
   "metadata": {},
   "outputs": [
    {
     "data": {
      "text/plain": [
       "(16384, 300)"
      ]
     },
     "execution_count": 15,
     "metadata": {},
     "output_type": "execute_result"
    }
   ],
   "source": [
    "weights.shape"
   ]
  },
  {
   "cell_type": "code",
   "execution_count": 16,
   "metadata": {},
   "outputs": [
    {
     "data": {
      "text/plain": [
       "array([0., 0., 0., 0., 0., 0., 0., 0., 0., 0., 0., 0., 0., 0., 0., 0., 0.,\n",
       "       0., 0., 0., 0., 0., 0., 0., 0., 0., 0., 0., 0., 0., 0., 0., 0., 0.,\n",
       "       0., 0., 0., 0., 0., 0., 0., 0., 0., 0., 0., 0., 0., 0., 0., 0., 0.,\n",
       "       0., 0., 0., 0., 0., 0., 0., 0., 0., 0., 0., 0., 0., 0., 0., 0., 0.,\n",
       "       0., 0., 0., 0., 0., 0., 0., 0., 0., 0., 0., 0., 0., 0., 0., 0., 0.,\n",
       "       0., 0., 0., 0., 0., 0., 0., 0., 0., 0., 0., 0., 0., 0., 0., 0., 0.,\n",
       "       0., 0., 0., 0., 0., 0., 0., 0., 0., 0., 0., 0., 0., 0., 0., 0., 0.,\n",
       "       0., 0., 0., 0., 0., 0., 0., 0., 0., 0., 0., 0., 0., 0., 0., 0., 0.,\n",
       "       0., 0., 0., 0., 0., 0., 0., 0., 0., 0., 0., 0., 0., 0., 0., 0., 0.,\n",
       "       0., 0., 0., 0., 0., 0., 0., 0., 0., 0., 0., 0., 0., 0., 0., 0., 0.,\n",
       "       0., 0., 0., 0., 0., 0., 0., 0., 0., 0., 0., 0., 0., 0., 0., 0., 0.,\n",
       "       0., 0., 0., 0., 0., 0., 0., 0., 0., 0., 0., 0., 0., 0., 0., 0., 0.,\n",
       "       0., 0., 0., 0., 0., 0., 0., 0., 0., 0., 0., 0., 0., 0., 0., 0., 0.,\n",
       "       0., 0., 0., 0., 0., 0., 0., 0., 0., 0., 0., 0., 0., 0., 0., 0., 0.,\n",
       "       0., 0., 0., 0., 0., 0., 0., 0., 0., 0., 0., 0., 0., 0., 0., 0., 0.,\n",
       "       0., 0., 0., 0., 0., 0., 0., 0., 0., 0., 0., 0., 0., 0., 0., 0., 0.,\n",
       "       0., 0., 0., 0., 0., 0., 0., 0., 0., 0., 0., 0., 0., 0., 0., 0., 0.,\n",
       "       0., 0., 0., 0., 0., 0., 0., 0., 0., 0., 0.], dtype=float32)"
      ]
     },
     "execution_count": 16,
     "metadata": {},
     "output_type": "execute_result"
    }
   ],
   "source": [
    "biases"
   ]
  },
  {
   "cell_type": "code",
   "execution_count": 17,
   "metadata": {},
   "outputs": [
    {
     "data": {
      "text/plain": [
       "(300,)"
      ]
     },
     "execution_count": 17,
     "metadata": {},
     "output_type": "execute_result"
    }
   ],
   "source": [
    "biases.shape"
   ]
  },
  {
   "cell_type": "code",
   "execution_count": 18,
   "metadata": {},
   "outputs": [],
   "source": [
    "model.compile(loss=\"sparse_categorical_crossentropy\",\n",
    "              optimizer=\"sgd\",\n",
    "              metrics=[\"accuracy\"])"
   ]
  },
  {
   "cell_type": "markdown",
   "metadata": {},
   "source": [
    "### 3. Training the Neural Network model"
   ]
  },
  {
   "cell_type": "code",
   "execution_count": 19,
   "metadata": {},
   "outputs": [
    {
     "name": "stdout",
     "output_type": "stream",
     "text": [
      "Epoch 1/30\n",
      "332/332 [==============================] - 20s 55ms/step - loss: 1.6971 - accuracy: 0.3224 - val_loss: 1.6907 - val_accuracy: 0.3272\n",
      "Epoch 2/30\n",
      "332/332 [==============================] - 11s 32ms/step - loss: 1.6518 - accuracy: 0.3419 - val_loss: 1.6750 - val_accuracy: 0.3274\n",
      "Epoch 3/30\n",
      "332/332 [==============================] - 9s 28ms/step - loss: 1.6317 - accuracy: 0.3534 - val_loss: 1.6493 - val_accuracy: 0.3332\n",
      "Epoch 4/30\n",
      "332/332 [==============================] - 11s 32ms/step - loss: 1.6198 - accuracy: 0.3586 - val_loss: 1.6411 - val_accuracy: 0.3396\n",
      "Epoch 5/30\n",
      "332/332 [==============================] - 9s 28ms/step - loss: 1.6087 - accuracy: 0.3632 - val_loss: 1.6409 - val_accuracy: 0.3484\n",
      "Epoch 6/30\n",
      "332/332 [==============================] - 8s 24ms/step - loss: 1.5999 - accuracy: 0.3682 - val_loss: 1.6439 - val_accuracy: 0.3468\n",
      "Epoch 7/30\n",
      "332/332 [==============================] - 9s 28ms/step - loss: 1.5897 - accuracy: 0.3749 - val_loss: 1.6396 - val_accuracy: 0.3288\n",
      "Epoch 8/30\n",
      "332/332 [==============================] - 10s 31ms/step - loss: 1.5835 - accuracy: 0.3767 - val_loss: 1.6335 - val_accuracy: 0.3538\n",
      "Epoch 9/30\n",
      "332/332 [==============================] - 11s 33ms/step - loss: 1.5740 - accuracy: 0.3828 - val_loss: 1.6267 - val_accuracy: 0.3470\n",
      "Epoch 10/30\n",
      "332/332 [==============================] - 13s 40ms/step - loss: 1.5652 - accuracy: 0.3854 - val_loss: 1.6222 - val_accuracy: 0.3586\n",
      "Epoch 11/30\n",
      "332/332 [==============================] - 14s 43ms/step - loss: 1.5586 - accuracy: 0.3879 - val_loss: 1.6320 - val_accuracy: 0.3558\n",
      "Epoch 12/30\n",
      "332/332 [==============================] - 12s 36ms/step - loss: 1.5519 - accuracy: 0.3906 - val_loss: 1.6134 - val_accuracy: 0.3570\n",
      "Epoch 13/30\n",
      "332/332 [==============================] - 13s 38ms/step - loss: 1.5445 - accuracy: 0.3923 - val_loss: 1.6055 - val_accuracy: 0.3550\n",
      "Epoch 14/30\n",
      "332/332 [==============================] - 11s 34ms/step - loss: 1.5338 - accuracy: 0.4010 - val_loss: 1.6161 - val_accuracy: 0.3592\n",
      "Epoch 15/30\n",
      "332/332 [==============================] - 11s 33ms/step - loss: 1.5279 - accuracy: 0.4006 - val_loss: 1.6099 - val_accuracy: 0.3564\n",
      "Epoch 16/30\n",
      "332/332 [==============================] - 11s 32ms/step - loss: 1.5222 - accuracy: 0.4030 - val_loss: 1.6170 - val_accuracy: 0.3566\n",
      "Epoch 17/30\n",
      "332/332 [==============================] - 12s 35ms/step - loss: 1.5136 - accuracy: 0.4091 - val_loss: 1.6111 - val_accuracy: 0.3660\n",
      "Epoch 18/30\n",
      "332/332 [==============================] - 12s 36ms/step - loss: 1.5061 - accuracy: 0.4121 - val_loss: 1.6003 - val_accuracy: 0.3716\n",
      "Epoch 19/30\n",
      "332/332 [==============================] - 13s 38ms/step - loss: 1.4979 - accuracy: 0.4150 - val_loss: 1.5964 - val_accuracy: 0.3666\n",
      "Epoch 20/30\n",
      "332/332 [==============================] - 14s 41ms/step - loss: 1.4911 - accuracy: 0.4175 - val_loss: 1.6051 - val_accuracy: 0.3630\n",
      "Epoch 21/30\n",
      "332/332 [==============================] - 12s 37ms/step - loss: 1.4834 - accuracy: 0.4249 - val_loss: 1.5922 - val_accuracy: 0.3720\n",
      "Epoch 22/30\n",
      "332/332 [==============================] - 13s 40ms/step - loss: 1.4743 - accuracy: 0.4261 - val_loss: 1.6139 - val_accuracy: 0.3642\n",
      "Epoch 23/30\n",
      "332/332 [==============================] - 12s 36ms/step - loss: 1.4684 - accuracy: 0.4304 - val_loss: 1.7008 - val_accuracy: 0.3292\n",
      "Epoch 24/30\n",
      "332/332 [==============================] - 12s 36ms/step - loss: 1.4589 - accuracy: 0.4348 - val_loss: 1.6616 - val_accuracy: 0.3152\n",
      "Epoch 25/30\n",
      "332/332 [==============================] - 12s 35ms/step - loss: 1.4544 - accuracy: 0.4365 - val_loss: 1.5876 - val_accuracy: 0.3698\n",
      "Epoch 26/30\n",
      "332/332 [==============================] - 12s 36ms/step - loss: 1.4439 - accuracy: 0.4422 - val_loss: 1.6214 - val_accuracy: 0.3692\n",
      "Epoch 27/30\n",
      "332/332 [==============================] - 12s 36ms/step - loss: 1.4353 - accuracy: 0.4460 - val_loss: 1.6110 - val_accuracy: 0.3682\n",
      "Epoch 28/30\n",
      "332/332 [==============================] - 12s 35ms/step - loss: 1.4293 - accuracy: 0.4523 - val_loss: 1.6476 - val_accuracy: 0.3376\n",
      "Epoch 29/30\n",
      "332/332 [==============================] - 12s 35ms/step - loss: 1.4187 - accuracy: 0.4564 - val_loss: 1.6444 - val_accuracy: 0.3652\n",
      "Epoch 30/30\n",
      "332/332 [==============================] - 12s 35ms/step - loss: 1.4098 - accuracy: 0.4593 - val_loss: 1.6331 - val_accuracy: 0.3538\n"
     ]
    }
   ],
   "source": [
    "# training the model and saving metrics in history\n",
    "# minibatch\n",
    "history = model.fit(X_train, y_train,\n",
    "          batch_size=128, epochs=30,\n",
    "          verbose=1,\n",
    "          validation_data=(X_valid, y_valid))"
   ]
  },
  {
   "cell_type": "code",
   "execution_count": 20,
   "metadata": {},
   "outputs": [
    {
     "name": "stdout",
     "output_type": "stream",
     "text": [
      "Epoch 1/30\n",
      "1327/1327 [==============================] - 25s 19ms/step - loss: 1.4987 - accuracy: 0.4172 - val_loss: 1.6353 - val_accuracy: 0.3658\n",
      "Epoch 2/30\n",
      "1327/1327 [==============================] - 16s 12ms/step - loss: 1.4659 - accuracy: 0.4284 - val_loss: 1.6620 - val_accuracy: 0.3280\n",
      "Epoch 3/30\n",
      "1327/1327 [==============================] - 15s 12ms/step - loss: 1.4430 - accuracy: 0.4393 - val_loss: 1.6642 - val_accuracy: 0.3376\n",
      "Epoch 4/30\n",
      "1327/1327 [==============================] - 19s 14ms/step - loss: 1.4177 - accuracy: 0.4509 - val_loss: 1.5902 - val_accuracy: 0.3710\n",
      "Epoch 5/30\n",
      "1327/1327 [==============================] - 22s 16ms/step - loss: 1.3934 - accuracy: 0.4657 - val_loss: 1.6358 - val_accuracy: 0.3452\n",
      "Epoch 6/30\n",
      "1327/1327 [==============================] - 24s 18ms/step - loss: 1.3716 - accuracy: 0.4749 - val_loss: 1.6672 - val_accuracy: 0.3546\n",
      "Epoch 7/30\n",
      "1327/1327 [==============================] - 23s 18ms/step - loss: 1.3493 - accuracy: 0.4850 - val_loss: 1.5886 - val_accuracy: 0.3866\n",
      "Epoch 8/30\n",
      "1327/1327 [==============================] - 23s 18ms/step - loss: 1.3269 - accuracy: 0.4923 - val_loss: 1.6765 - val_accuracy: 0.3772\n",
      "Epoch 9/30\n",
      "1327/1327 [==============================] - 23s 17ms/step - loss: 1.3080 - accuracy: 0.4986 - val_loss: 1.7622 - val_accuracy: 0.3512\n",
      "Epoch 10/30\n",
      "1327/1327 [==============================] - 26s 20ms/step - loss: 1.2792 - accuracy: 0.5144 - val_loss: 1.6482 - val_accuracy: 0.3656\n",
      "Epoch 11/30\n",
      "1327/1327 [==============================] - 25s 19ms/step - loss: 1.2579 - accuracy: 0.5232 - val_loss: 1.6741 - val_accuracy: 0.3458\n",
      "Epoch 12/30\n",
      "1327/1327 [==============================] - 25s 19ms/step - loss: 1.2325 - accuracy: 0.5357 - val_loss: 1.6091 - val_accuracy: 0.3730\n",
      "Epoch 13/30\n",
      "1327/1327 [==============================] - 26s 19ms/step - loss: 1.2084 - accuracy: 0.5452 - val_loss: 1.6323 - val_accuracy: 0.3814\n",
      "Epoch 14/30\n",
      "1327/1327 [==============================] - 26s 20ms/step - loss: 1.1876 - accuracy: 0.5499 - val_loss: 1.6197 - val_accuracy: 0.3970\n",
      "Epoch 15/30\n",
      "1327/1327 [==============================] - 22s 17ms/step - loss: 1.1649 - accuracy: 0.5632 - val_loss: 1.6837 - val_accuracy: 0.3894\n",
      "Epoch 16/30\n",
      "1327/1327 [==============================] - 22s 17ms/step - loss: 1.1409 - accuracy: 0.5733 - val_loss: 1.8194 - val_accuracy: 0.3582\n",
      "Epoch 17/30\n",
      "1327/1327 [==============================] - 22s 17ms/step - loss: 1.1129 - accuracy: 0.5860 - val_loss: 1.6259 - val_accuracy: 0.4088\n",
      "Epoch 18/30\n",
      "1327/1327 [==============================] - 22s 17ms/step - loss: 1.0900 - accuracy: 0.5945 - val_loss: 1.6819 - val_accuracy: 0.4004\n",
      "Epoch 19/30\n",
      "1327/1327 [==============================] - 25s 19ms/step - loss: 1.0707 - accuracy: 0.6000 - val_loss: 1.7709 - val_accuracy: 0.3664\n",
      "Epoch 20/30\n",
      "1327/1327 [==============================] - 24s 18ms/step - loss: 1.0437 - accuracy: 0.6133 - val_loss: 1.6764 - val_accuracy: 0.4112\n",
      "Epoch 21/30\n",
      "1327/1327 [==============================] - 24s 18ms/step - loss: 1.0157 - accuracy: 0.6230 - val_loss: 1.9067 - val_accuracy: 0.3782\n",
      "Epoch 22/30\n",
      "1327/1327 [==============================] - 24s 18ms/step - loss: 0.9934 - accuracy: 0.6329 - val_loss: 1.6879 - val_accuracy: 0.4028\n",
      "Epoch 23/30\n",
      "1327/1327 [==============================] - 24s 18ms/step - loss: 0.9717 - accuracy: 0.6427 - val_loss: 2.0472 - val_accuracy: 0.3626\n",
      "Epoch 24/30\n",
      "1327/1327 [==============================] - 24s 18ms/step - loss: 0.9448 - accuracy: 0.6519 - val_loss: 1.8267 - val_accuracy: 0.3644\n",
      "Epoch 25/30\n",
      "1327/1327 [==============================] - 25s 19ms/step - loss: 0.9220 - accuracy: 0.6618 - val_loss: 1.6883 - val_accuracy: 0.4242\n",
      "Epoch 26/30\n",
      "1327/1327 [==============================] - 24s 18ms/step - loss: 0.8945 - accuracy: 0.6713 - val_loss: 1.7928 - val_accuracy: 0.4212\n",
      "Epoch 27/30\n",
      "1327/1327 [==============================] - 24s 18ms/step - loss: 0.8771 - accuracy: 0.6768 - val_loss: 1.7680 - val_accuracy: 0.4046\n",
      "Epoch 28/30\n",
      "1327/1327 [==============================] - 25s 19ms/step - loss: 0.8486 - accuracy: 0.6883 - val_loss: 1.9377 - val_accuracy: 0.4116\n",
      "Epoch 29/30\n",
      "1327/1327 [==============================] - 24s 18ms/step - loss: 0.8341 - accuracy: 0.6939 - val_loss: 3.1736 - val_accuracy: 0.3254\n",
      "Epoch 30/30\n",
      "1327/1327 [==============================] - 24s 18ms/step - loss: 0.8125 - accuracy: 0.7016 - val_loss: 1.7932 - val_accuracy: 0.4088\n"
     ]
    }
   ],
   "source": [
    "#stochastic gradient decent\n",
    "historysgd = model.fit(X_train, y_train, epochs=30,\n",
    "                    validation_data=(X_valid, y_valid))"
   ]
  },
  {
   "cell_type": "code",
   "execution_count": 21,
   "metadata": {},
   "outputs": [
    {
     "data": {
      "image/png": "[encoded data removed]",
      "text/plain": [
       "<Figure size 576x360 with 1 Axes>"
      ]
     },
     "metadata": {
      "needs_background": "light"
     },
     "output_type": "display_data"
    }
   ],
   "source": [
    "pd.DataFrame(history.history).plot(figsize=(8, 5))\n",
    "plt.grid(True)\n",
    "plt.gca().set_ylim(0, 2.5)\n",
    " \n",
    "plt.show()"
   ]
  },
  {
   "cell_type": "code",
   "execution_count": 22,
   "metadata": {},
   "outputs": [
    {
     "data": {
      "image/png": "[encoded data removed]",
      "text/plain": [
       "<Figure size 576x360 with 1 Axes>"
      ]
     },
     "metadata": {
      "needs_background": "light"
     },
     "output_type": "display_data"
    }
   ],
   "source": [
    "pd.DataFrame(historysgd.history).plot(figsize=(8, 5))\n",
    "plt.grid(True)\n",
    "plt.gca().set_ylim(0, 2.5)\n",
    " \n",
    "plt.show()"
   ]
  },
  {
   "cell_type": "code",
   "execution_count": 23,
   "metadata": {},
   "outputs": [
    {
     "data": {
      "text/plain": [
       "array([[0.  , 0.01, 0.13, 0.46, 0.2 , 0.11, 0.09, 0.  , 0.  , 0.  ],\n",
       "       [0.  , 0.06, 0.  , 0.  , 0.24, 0.  , 0.7 , 0.  , 0.  , 0.  ],\n",
       "       [0.  , 0.17, 0.03, 0.72, 0.01, 0.  , 0.07, 0.  , 0.  , 0.  ]],\n",
       "      dtype=float32)"
      ]
     },
     "execution_count": 23,
     "metadata": {},
     "output_type": "execute_result"
    }
   ],
   "source": [
    "X_new = X_test[:3]\n",
    "y_proba = model.predict(X_new)\n",
    "y_proba.round(2)"
   ]
  },
  {
   "cell_type": "code",
   "execution_count": 24,
   "metadata": {},
   "outputs": [
    {
     "data": {
      "text/plain": [
       "array([3, 6, 3])"
      ]
     },
     "execution_count": 24,
     "metadata": {},
     "output_type": "execute_result"
    }
   ],
   "source": [
    "#y_pred = model.predict_classes(X_new) # deprecated\n",
    "y_pred = np.argmax(model.predict(X_new), axis=-1)\n",
    "y_pred"
   ]
  },
  {
   "cell_type": "code",
   "execution_count": 25,
   "metadata": {},
   "outputs": [
    {
     "data": {
      "text/plain": [
       "array([0.02352941, 0.01960784, 0.01176471])"
      ]
     },
     "execution_count": 25,
     "metadata": {},
     "output_type": "execute_result"
    }
   ],
   "source": [
    "np.array(class_names)[y_pred]\n",
    "y_new = y_test[:3]\n",
    "y_new"
   ]
  },
  {
   "cell_type": "code",
   "execution_count": 26,
   "metadata": {},
   "outputs": [],
   "source": [
    "K = keras.backend\n",
    "\n",
    "class ExponentialLearningRate(keras.callbacks.Callback):\n",
    "    def __init__(self, factor):\n",
    "        self.factor = factor\n",
    "        self.rates = []\n",
    "        self.losses = []\n",
    "    def on_batch_end(self, batch, logs):\n",
    "        self.rates.append(K.get_value(self.model.optimizer.lr))\n",
    "        self.losses.append(logs[\"loss\"])\n",
    "        K.set_value(self.model.optimizer.lr, self.model.optimizer.lr * self.factor)"
   ]
  },
  {
   "cell_type": "code",
   "execution_count": 27,
   "metadata": {},
   "outputs": [],
   "source": [
    "#clear the section\n",
    "keras.backend.clear_session()\n",
    "np.random.seed(42)\n",
    "tf.random.set_seed(42)\n",
    "\n",
    "model = keras.models.Sequential([\n",
    "    keras.layers.Flatten(input_shape=[128, 128]),\n",
    "    keras.layers.Dense(300, activation=\"relu\"),\n",
    "    keras.layers.Dense(100, activation=\"relu\"),\n",
    "    keras.layers.Dense(10, activation=\"softmax\")\n",
    "])"
   ]
  },
  {
   "cell_type": "code",
   "execution_count": 28,
   "metadata": {},
   "outputs": [],
   "source": [
    "model.compile(loss=\"sparse_categorical_crossentropy\",\n",
    "              optimizer=keras.optimizers.SGD(learning_rate=1e-3),\n",
    "              metrics=[\"accuracy\"])\n",
    "expon_lr = ExponentialLearningRate(factor=1.005)"
   ]
  },
  {
   "cell_type": "code",
   "execution_count": 29,
   "metadata": {},
   "outputs": [
    {
     "name": "stdout",
     "output_type": "stream",
     "text": [
      "1327/1327 [==============================] - 35s 25ms/step - loss: 1.7419 - accuracy: 0.3019 - val_loss: 1.8068 - val_accuracy: 0.2822\n"
     ]
    }
   ],
   "source": [
    "history = model.fit(X_train, y_train, epochs=1,\n",
    "                    validation_data=(X_valid, y_valid),\n",
    "                    callbacks=[expon_lr])"
   ]
  },
  {
   "cell_type": "code",
   "execution_count": 30,
   "metadata": {},
   "outputs": [
    {
     "data": {
      "text/plain": [
       "Text(0, 0.5, 'Loss')"
      ]
     },
     "execution_count": 30,
     "metadata": {},
     "output_type": "execute_result"
    },
    {
     "data": {
      "image/png": "[encoded data removed]",
      "text/plain": [
       "<Figure size 432x288 with 1 Axes>"
      ]
     },
     "metadata": {
      "needs_background": "light"
     },
     "output_type": "display_data"
    }
   ],
   "source": [
    "plt.plot(expon_lr.rates, expon_lr.losses)\n",
    "plt.gca().set_xscale('log')\n",
    "plt.hlines(min(expon_lr.losses), min(expon_lr.rates), max(expon_lr.rates))\n",
    "plt.axis([min(expon_lr.rates), max(expon_lr.rates), 0, expon_lr.losses[0]])\n",
    "plt.grid()\n",
    "plt.xlabel(\"Learning rate\")\n",
    "plt.ylabel(\"Loss\")"
   ]
  },
  {
   "cell_type": "code",
   "execution_count": 31,
   "metadata": {},
   "outputs": [],
   "source": [
    "model = keras.models.Sequential([\n",
    "    keras.layers.Flatten(input_shape=[128, 128]),\n",
    "    keras.layers.Dense(300, activation=\"relu\"),\n",
    "    keras.layers.Dense(100, activation=\"relu\"),\n",
    "    keras.layers.Dense(10, activation=\"softmax\")\n",
    "])"
   ]
  },
  {
   "cell_type": "code",
   "execution_count": 32,
   "metadata": {},
   "outputs": [
    {
     "name": "stderr",
     "output_type": "stream",
     "text": [
      "/Users/maxleroux/opt/anaconda3/lib/python3.9/site-packages/keras/optimizer_v2/gradient_descent.py:102: UserWarning: The `lr` argument is deprecated, use `learning_rate` instead.\n",
      "  super(SGD, self).__init__(name, **kwargs)\n"
     ]
    }
   ],
   "source": [
    "model.compile(loss=\"sparse_categorical_crossentropy\",\n",
    "              optimizer=tf.keras.optimizers.SGD(lr=8e-1),\n",
    "              metrics=[\"accuracy\"])"
   ]
  },
  {
   "cell_type": "code",
   "execution_count": 33,
   "metadata": {},
   "outputs": [
    {
     "name": "stdout",
     "output_type": "stream",
     "text": [
      "Epoch 1/100\n",
      "1327/1327 [==============================] - 32s 23ms/step - loss: 1.7379 - accuracy: 0.3032 - val_loss: 1.6774 - val_accuracy: 0.3278\n",
      "Epoch 2/100\n",
      "1327/1327 [==============================] - 19s 14ms/step - loss: 1.6584 - accuracy: 0.3300 - val_loss: 1.6956 - val_accuracy: 0.3296\n",
      "Epoch 3/100\n",
      "1327/1327 [==============================] - 20s 15ms/step - loss: 1.6478 - accuracy: 0.3399 - val_loss: 1.6589 - val_accuracy: 0.3304\n",
      "Epoch 4/100\n",
      "1327/1327 [==============================] - 26s 19ms/step - loss: 1.6416 - accuracy: 0.3411 - val_loss: 1.6606 - val_accuracy: 0.3322\n",
      "Epoch 5/100\n",
      "1327/1327 [==============================] - 24s 18ms/step - loss: 1.6369 - accuracy: 0.3440 - val_loss: 1.6605 - val_accuracy: 0.3326\n",
      "Epoch 6/100\n",
      "1327/1327 [==============================] - 25s 18ms/step - loss: 1.6321 - accuracy: 0.3499 - val_loss: 1.6802 - val_accuracy: 0.3024\n",
      "Epoch 7/100\n",
      "1327/1327 [==============================] - 25s 19ms/step - loss: 1.6282 - accuracy: 0.3507 - val_loss: 1.6727 - val_accuracy: 0.3182\n",
      "Epoch 8/100\n",
      "1327/1327 [==============================] - 24s 18ms/step - loss: 1.6218 - accuracy: 0.3536 - val_loss: 1.6573 - val_accuracy: 0.3070\n",
      "Epoch 9/100\n",
      "1327/1327 [==============================] - 24s 18ms/step - loss: 1.6181 - accuracy: 0.3556 - val_loss: 1.6565 - val_accuracy: 0.3430\n",
      "Epoch 10/100\n",
      "1327/1327 [==============================] - 25s 19ms/step - loss: 1.6130 - accuracy: 0.3571 - val_loss: 1.6474 - val_accuracy: 0.3396\n",
      "Epoch 11/100\n",
      "1327/1327 [==============================] - 24s 18ms/step - loss: 1.6091 - accuracy: 0.3629 - val_loss: 1.6440 - val_accuracy: 0.3500\n",
      "Epoch 12/100\n",
      "1327/1327 [==============================] - 26s 20ms/step - loss: 1.6050 - accuracy: 0.3640 - val_loss: 1.6470 - val_accuracy: 0.3120\n",
      "Epoch 13/100\n",
      "1327/1327 [==============================] - 24s 18ms/step - loss: 1.6004 - accuracy: 0.3659 - val_loss: 1.6447 - val_accuracy: 0.3426\n",
      "Epoch 14/100\n",
      "1327/1327 [==============================] - 25s 18ms/step - loss: 1.5970 - accuracy: 0.3691 - val_loss: 1.6401 - val_accuracy: 0.3452\n",
      "Epoch 15/100\n",
      "1327/1327 [==============================] - 25s 19ms/step - loss: 1.5947 - accuracy: 0.3693 - val_loss: 1.6487 - val_accuracy: 0.3492\n",
      "Epoch 16/100\n",
      "1327/1327 [==============================] - 25s 19ms/step - loss: 1.5913 - accuracy: 0.3700 - val_loss: 1.6482 - val_accuracy: 0.3368\n",
      "Epoch 17/100\n",
      "1327/1327 [==============================] - 26s 20ms/step - loss: 1.5875 - accuracy: 0.3722 - val_loss: 1.6458 - val_accuracy: 0.3460\n",
      "Epoch 18/100\n",
      "1327/1327 [==============================] - 27s 20ms/step - loss: 1.5865 - accuracy: 0.3740 - val_loss: 1.6436 - val_accuracy: 0.3338\n",
      "Epoch 19/100\n",
      "1327/1327 [==============================] - 27s 21ms/step - loss: 1.5812 - accuracy: 0.3740 - val_loss: 1.6587 - val_accuracy: 0.3442\n",
      "Epoch 20/100\n",
      "1327/1327 [==============================] - 24s 18ms/step - loss: 1.5760 - accuracy: 0.3766 - val_loss: 1.6550 - val_accuracy: 0.3382\n",
      "Epoch 21/100\n",
      "1327/1327 [==============================] - 24s 18ms/step - loss: 1.5718 - accuracy: 0.3812 - val_loss: 1.6636 - val_accuracy: 0.3380\n",
      "Epoch 22/100\n",
      "1327/1327 [==============================] - 23s 18ms/step - loss: 1.5681 - accuracy: 0.3812 - val_loss: 1.6470 - val_accuracy: 0.3386\n",
      "Epoch 23/100\n",
      "1327/1327 [==============================] - 24s 18ms/step - loss: 1.5628 - accuracy: 0.3861 - val_loss: 1.7203 - val_accuracy: 0.3316\n",
      "Epoch 24/100\n",
      "1327/1327 [==============================] - 24s 18ms/step - loss: 1.5627 - accuracy: 0.3866 - val_loss: 1.6524 - val_accuracy: 0.3316\n",
      "Epoch 25/100\n",
      "1327/1327 [==============================] - 24s 18ms/step - loss: 1.5562 - accuracy: 0.3868 - val_loss: 1.6637 - val_accuracy: 0.3432\n",
      "Epoch 26/100\n",
      "1327/1327 [==============================] - 24s 18ms/step - loss: 1.5550 - accuracy: 0.3877 - val_loss: 1.6353 - val_accuracy: 0.3454\n",
      "Epoch 27/100\n",
      "1327/1327 [==============================] - 24s 18ms/step - loss: 1.5486 - accuracy: 0.3916 - val_loss: 1.6420 - val_accuracy: 0.3516\n",
      "Epoch 28/100\n",
      "1327/1327 [==============================] - 27s 21ms/step - loss: 1.5437 - accuracy: 0.3935 - val_loss: 1.6742 - val_accuracy: 0.3304\n",
      "Epoch 29/100\n",
      "1327/1327 [==============================] - 34s 25ms/step - loss: 1.5417 - accuracy: 0.3964 - val_loss: 1.6912 - val_accuracy: 0.3450\n",
      "Epoch 30/100\n",
      "1327/1327 [==============================] - 28s 21ms/step - loss: 1.5353 - accuracy: 0.4006 - val_loss: 1.6619 - val_accuracy: 0.3372\n",
      "Epoch 31/100\n",
      "1327/1327 [==============================] - 22s 17ms/step - loss: 1.5291 - accuracy: 0.4001 - val_loss: 1.6624 - val_accuracy: 0.3388\n",
      "Epoch 32/100\n",
      "1327/1327 [==============================] - 23s 18ms/step - loss: 1.5280 - accuracy: 0.4033 - val_loss: 1.7049 - val_accuracy: 0.3444\n",
      "Epoch 33/100\n",
      "1327/1327 [==============================] - 24s 18ms/step - loss: 1.5252 - accuracy: 0.4030 - val_loss: 1.7488 - val_accuracy: 0.3198\n",
      "Epoch 34/100\n",
      "1327/1327 [==============================] - 29s 22ms/step - loss: 1.5192 - accuracy: 0.4062 - val_loss: 1.6484 - val_accuracy: 0.3574\n",
      "Epoch 35/100\n",
      "1327/1327 [==============================] - 24s 18ms/step - loss: 1.5148 - accuracy: 0.4072 - val_loss: 1.6562 - val_accuracy: 0.3490\n",
      "Epoch 36/100\n",
      "1327/1327 [==============================] - 28s 21ms/step - loss: 1.5108 - accuracy: 0.4104 - val_loss: 1.6680 - val_accuracy: 0.3414\n",
      "Epoch 37/100\n",
      "1327/1327 [==============================] - 25s 19ms/step - loss: 1.5047 - accuracy: 0.4143 - val_loss: 1.6584 - val_accuracy: 0.3482\n",
      "Epoch 38/100\n",
      "1327/1327 [==============================] - 20s 15ms/step - loss: 1.4989 - accuracy: 0.4179 - val_loss: 1.6885 - val_accuracy: 0.3452\n",
      "Epoch 39/100\n",
      "1327/1327 [==============================] - 20s 15ms/step - loss: 1.5002 - accuracy: 0.4149 - val_loss: 1.6590 - val_accuracy: 0.3594\n",
      "Epoch 40/100\n",
      "1327/1327 [==============================] - 20s 15ms/step - loss: 1.4912 - accuracy: 0.4180 - val_loss: 1.6529 - val_accuracy: 0.3602\n",
      "Epoch 41/100\n",
      "1327/1327 [==============================] - 21s 16ms/step - loss: 1.4862 - accuracy: 0.4224 - val_loss: 1.6510 - val_accuracy: 0.3532\n",
      "Epoch 42/100\n",
      "1327/1327 [==============================] - 20s 15ms/step - loss: 1.4826 - accuracy: 0.4250 - val_loss: 1.7003 - val_accuracy: 0.3412\n",
      "Epoch 43/100\n",
      "1327/1327 [==============================] - 20s 15ms/step - loss: 1.4739 - accuracy: 0.4291 - val_loss: 1.6901 - val_accuracy: 0.3360\n",
      "Epoch 44/100\n",
      "1327/1327 [==============================] - 21s 16ms/step - loss: 1.4731 - accuracy: 0.4286 - val_loss: 1.6911 - val_accuracy: 0.3338\n",
      "Epoch 45/100\n",
      "1327/1327 [==============================] - 20s 15ms/step - loss: 1.4676 - accuracy: 0.4311 - val_loss: 1.6525 - val_accuracy: 0.3558\n",
      "Epoch 46/100\n",
      "1327/1327 [==============================] - 16s 12ms/step - loss: 1.4655 - accuracy: 0.4310 - val_loss: 1.6706 - val_accuracy: 0.3536\n"
     ]
    }
   ],
   "source": [
    "from tensorflow.keras.callbacks import EarlyStopping\n",
    "from tensorflow.keras import layers, callbacks\n",
    "\n",
    "keras.backend.clear_session()\n",
    "np.random.seed(42)\n",
    "tf.random.set_seed(42)\n",
    "\n",
    "model = keras.models.Sequential([\n",
    "    keras.layers.Flatten(input_shape=[128, 128]),\n",
    "    keras.layers.Dense(300, activation=\"relu\"),\n",
    "    keras.layers.Dense(100, activation=\"relu\"),\n",
    "    keras.layers.Dense(10, activation=\"softmax\")\n",
    "])\n",
    "#The model needs to be recalled each time.\n",
    "\n",
    "model.compile(loss=\"sparse_categorical_crossentropy\",\n",
    "              optimizer=tf.keras.optimizers.SGD(lr=2e-1),\n",
    "              metrics=[\"accuracy\"])\n",
    "\n",
    "run_index = 1 # increment this at every run\n",
    "run_logdir = os.path.join(os.curdir, \"my_mnist_logs\", \"run_{:03d}\".format(run_index))\n",
    "\n",
    "early_stopping_cb = keras.callbacks.EarlyStopping(\n",
    "    min_delta=0.001, # minimium amount of change to count as an improvement\n",
    "    patience=20, # how many epochs to wait before stopping\n",
    ")\n",
    "checkpoint_cb = keras.callbacks.ModelCheckpoint(\"my_mnist_model.h5\", save_best_only=True)\n",
    "tensorboard_cb = keras.callbacks.TensorBoard(run_logdir)\n",
    "\n",
    "history = model.fit(X_train, y_train, epochs=100,\n",
    "                    validation_data=(X_valid, y_valid),\n",
    "                    callbacks=[checkpoint_cb, early_stopping_cb, tensorboard_cb])"
   ]
  },
  {
   "cell_type": "code",
   "execution_count": 34,
   "metadata": {},
   "outputs": [
    {
     "name": "stdout",
     "output_type": "stream",
     "text": [
      "371/371 [==============================] - 2s 5ms/step - loss: 6.9338 - accuracy: 0.0000e+00\n",
      "157/157 [==============================] - 1s 6ms/step - loss: 1.7328 - accuracy: 0.3198\n",
      "1327/1327 [==============================] - 8s 6ms/step - loss: 1.7114 - accuracy: 0.3313\n"
     ]
    },
    {
     "data": {
      "text/plain": [
       "[1.7114393711090088, 0.33126044273376465]"
      ]
     },
     "execution_count": 34,
     "metadata": {},
     "output_type": "execute_result"
    }
   ],
   "source": [
    "model = keras.models.load_model(\"my_mnist_model.h5\") # rollback to best model\n",
    "model.evaluate(X_test, y_test)\n",
    "model.evaluate(X_valid, y_valid)\n",
    "model.evaluate(X_train, y_train)"
   ]
  },
  {
   "cell_type": "code",
   "execution_count": 35,
   "metadata": {},
   "outputs": [
    {
     "name": "stdout",
     "output_type": "stream",
     "text": [
      "Epoch 1/20\n",
      "1327/1327 [==============================] - 8s 6ms/step - loss: 4.1032 - val_loss: 3.2049\n",
      "Epoch 2/20\n",
      "1327/1327 [==============================] - 7s 5ms/step - loss: 3.2228 - val_loss: 3.1828\n",
      "Epoch 3/20\n",
      "1327/1327 [==============================] - 4s 3ms/step - loss: 3.2147 - val_loss: 3.1928\n",
      "Epoch 4/20\n",
      "1327/1327 [==============================] - 4s 3ms/step - loss: 3.2125 - val_loss: 3.1797\n",
      "Epoch 5/20\n",
      "1327/1327 [==============================] - 4s 3ms/step - loss: 3.2112 - val_loss: 3.1773\n",
      "Epoch 6/20\n",
      "1327/1327 [==============================] - 5s 4ms/step - loss: 3.2101 - val_loss: 3.1756\n",
      "Epoch 7/20\n",
      "1327/1327 [==============================] - 6s 4ms/step - loss: 3.2093 - val_loss: 3.1853\n",
      "Epoch 8/20\n",
      "1327/1327 [==============================] - 6s 5ms/step - loss: 3.2091 - val_loss: 3.1810\n",
      "Epoch 9/20\n",
      "1327/1327 [==============================] - 5s 4ms/step - loss: 3.2080 - val_loss: 3.1746\n",
      "Epoch 10/20\n",
      "1327/1327 [==============================] - 4s 3ms/step - loss: 3.2081 - val_loss: 3.1743\n",
      "Epoch 11/20\n",
      "1327/1327 [==============================] - 5s 4ms/step - loss: 3.2065 - val_loss: 3.1803\n",
      "Epoch 12/20\n",
      "1327/1327 [==============================] - 5s 4ms/step - loss: 3.2065 - val_loss: 3.1755\n",
      "Epoch 13/20\n",
      "1327/1327 [==============================] - 5s 3ms/step - loss: 3.2065 - val_loss: 3.1726\n",
      "Epoch 14/20\n",
      "1327/1327 [==============================] - 4s 3ms/step - loss: 3.2061 - val_loss: 3.1744\n",
      "Epoch 15/20\n",
      "1327/1327 [==============================] - 5s 4ms/step - loss: 3.2064 - val_loss: 3.1727\n",
      "Epoch 16/20\n",
      "1327/1327 [==============================] - 5s 4ms/step - loss: 3.2059 - val_loss: 3.1773\n",
      "Epoch 17/20\n",
      "1327/1327 [==============================] - 7s 6ms/step - loss: 3.2063 - val_loss: 3.1731\n",
      "Epoch 18/20\n",
      "1327/1327 [==============================] - 6s 5ms/step - loss: 3.2061 - val_loss: 3.1786\n",
      "Epoch 19/20\n",
      "1327/1327 [==============================] - 6s 4ms/step - loss: 3.2058 - val_loss: 3.1733\n",
      "Epoch 20/20\n",
      "1327/1327 [==============================] - 5s 4ms/step - loss: 3.2055 - val_loss: 3.1758\n",
      "371/371 [==============================] - 2s 5ms/step - loss: 14.5887\n"
     ]
    }
   ],
   "source": [
    "from sklearn.preprocessing import StandardScaler\n",
    "\n",
    "scaler = StandardScaler()\n",
    "\n",
    "np.random.seed(42)\n",
    "tf.random.set_seed(42)\n",
    "\n",
    "model = keras.models.Sequential([\n",
    "    keras.layers.Dense(30, activation=\"relu\", input_shape=X_train.shape[1:]),\n",
    "    keras.layers.Dense(1)\n",
    "])\n",
    "model.compile(loss=\"mean_squared_error\", optimizer=tf.keras.optimizers.SGD(lr=1e-3))\n",
    "history = model.fit(X_train, y_train, epochs=20, validation_data=(X_valid, y_valid))\n",
    "mse_test = model.evaluate(X_test, y_test)\n",
    "X_new = X_test[:3]\n",
    "y_pred = model.predict(X_new)"
   ]
  },
  {
   "cell_type": "code",
   "execution_count": 36,
   "metadata": {},
   "outputs": [
    {
     "data": {
      "image/png": "[encoded data removed]",
      "text/plain": [
       "<Figure size 432x288 with 1 Axes>"
      ]
     },
     "metadata": {
      "needs_background": "light"
     },
     "output_type": "display_data"
    }
   ],
   "source": [
    "plt.plot(pd.DataFrame(history.history))\n",
    "plt.grid(True)\n",
    "plt.gca().set_ylim(0, 5)\n",
    "plt.show()"
   ]
  },
  {
   "cell_type": "code",
   "execution_count": null,
   "metadata": {},
   "outputs": [],
   "source": []
  }
 ],
 "metadata": {
  "kernelspec": {
   "display_name": "Python 3.9.12 ('base')",
   "language": "python",
   "name": "python3"
  },
  "language_info": {
   "codemirror_mode": {
    "name": "ipython",
    "version": 3
   },
   "file_extension": ".py",
   "mimetype": "text/x-python",
   "name": "python",
   "nbconvert_exporter": "python",
   "pygments_lexer": "ipython3",
   "version": "3.9.12"
  },
  "vscode": {
   "interpreter": {
    "hash": "a6f23c1e824f6170352d06cc12395b09d0b6a41c8cdaaad4a237d4edd2fffac5"
   }
  }
 },
 "nbformat": 4,
 "nbformat_minor": 2
}
