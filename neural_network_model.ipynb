{
 "cells": [
  {
   "cell_type": "markdown",
   "metadata": {},
   "source": [
    "### 1. Get Train \\& Test Data"
   ]
  },
  {
   "cell_type": "code",
   "execution_count": 37,
   "metadata": {},
   "outputs": [
    {
     "name": "stdout",
     "output_type": "stream",
     "text": [
      "Number of type 0:  1694\n",
      "Number of type 1:  15664\n",
      "Number of type 2:  9878\n",
      "Number of type 3:  32074\n",
      "Number of type 4:  10700\n",
      "Number of type 5:  16423\n",
      "Number of type 6:  32200\n"
     ]
    }
   ],
   "source": [
    "import os \n",
    "from PIL import Image, ImageOps\n",
    "import numpy as np\n",
    "import tensorflow as tf\n",
    "from tensorflow import keras\n",
    "import pandas as pd\n",
    "import matplotlib.pyplot as plt\n",
    "\n",
    "path1 = []\n",
    "path2 = []\n",
    "path3 = []\n",
    "path4 = []\n",
    "path5 = []\n",
    "path6 = []\n",
    "path7 = []\n",
    "\n",
    "# Testing just for brain_bone_window, could combine all windows\n",
    "for dirname, _, filenames in os.walk('epidural/brain_bone_window'):\n",
    "    for filename in filenames:\n",
    "        path1.append(os.path.join(dirname, filename))\n",
    "    print(\"Number of type 0: \", len(filenames))\n",
    "        \n",
    "for dirname, _, filenames in os.walk('intraparenchymal/brain_bone_window'):\n",
    "    for filename in filenames:\n",
    "        path2.append(os.path.join(dirname, filename))\n",
    "    print(\"Number of type 1: \", len(filenames))\n",
    "        \n",
    "for dirname, _, filenames in os.walk('intraventricular/brain_bone_window'):\n",
    "    for filename in filenames:\n",
    "        path3.append(os.path.join(dirname, filename))\n",
    "    print(\"Number of type 2: \", len(filenames))\n",
    "        \n",
    "for dirname, _, filenames in os.walk('multi/brain_bone_window'):\n",
    "    for filename in filenames:\n",
    "        path4.append(os.path.join(dirname, filename))  \n",
    "    print(\"Number of type 3: \", len(filenames))\n",
    "\n",
    "for dirname, _, filenames in os.walk('normal/brain_bone_window'):\n",
    "    for filename in filenames:\n",
    "        path5.append(os.path.join(dirname, filename))  \n",
    "    print(\"Number of type 4: \", len(filenames))\n",
    "\n",
    "for dirname, _, filenames in os.walk('subarachnoid/brain_bone_window'):\n",
    "    for filename in filenames:\n",
    "        path6.append(os.path.join(dirname, filename))  \n",
    "    print(\"Number of type 5: \", len(filenames))\n",
    "\n",
    "for dirname, _, filenames in os.walk('subdural/brain_bone_window'):\n",
    "    for filename in filenames:\n",
    "        path7.append(os.path.join(dirname, filename))  \n",
    "    print(\"Number of type 6: \", len(filenames))"
   ]
  },
  {
   "cell_type": "code",
   "execution_count": 38,
   "metadata": {},
   "outputs": [
    {
     "data": {
      "text/plain": [
       "OneHotEncoder()"
      ]
     },
     "execution_count": 38,
     "metadata": {},
     "output_type": "execute_result"
    }
   ],
   "source": [
    "from sklearn.preprocessing import OneHotEncoder\n",
    "\n",
    "# One Hot Encoding\n",
    "encoder = OneHotEncoder()\n",
    "encoder.fit([[0],[1],[2],[3],[4],[5], [6]])"
   ]
  },
  {
   "cell_type": "code",
   "execution_count": 67,
   "metadata": {},
   "outputs": [],
   "source": [
    "import random\n",
    "\n",
    "\n",
    "data = []\n",
    "result = []\n",
    "\n",
    "for path in path1:\n",
    "    img = Image.open(path)\n",
    "    img = ImageOps.grayscale(img) # Removes RGB dimension from image, not sure if this is alright\n",
    "    img = img.resize((128,128))\n",
    "    img = np.array(img)\n",
    "    if(img.shape == (128,128)):\n",
    "        data.append(np.array(img))\n",
    "        result.append(0)\n",
    "        \n",
    "for path in path2:\n",
    "    img = Image.open(path)\n",
    "    img = ImageOps.grayscale(img)\n",
    "    img = img.resize((128,128))\n",
    "    img = np.array(img)\n",
    "    if(img.shape == (128,128)):\n",
    "        data.append(np.array(img))\n",
    "        result.append(1) \n",
    "        \n",
    "for path in path3:\n",
    "    img = Image.open(path)\n",
    "    img = ImageOps.grayscale(img)\n",
    "    img = img.resize((128,128))\n",
    "    img = np.array(img)\n",
    "    if(img.shape == (128,128)):\n",
    "        data.append(np.array(img))\n",
    "        result.append(2)\n",
    "        \n",
    "for path in path4:\n",
    "    img = Image.open(path)\n",
    "    img = ImageOps.grayscale(img)\n",
    "    img = img.resize((128,128))\n",
    "    img = np.array(img)\n",
    "    if(img.shape == (128,128)):\n",
    "        data.append(np.array(img))\n",
    "        result.append(3)\n",
    "\n",
    "for path in path5:\n",
    "    img = Image.open(path)\n",
    "    img = ImageOps.grayscale(img)\n",
    "    img = img.resize((128,128))\n",
    "    img = np.array(img)\n",
    "    if(img.shape == (128,128)):\n",
    "        data.append(np.array(img))\n",
    "        result.append(4)\n",
    "        \n",
    "for path in path6:\n",
    "    img = Image.open(path)\n",
    "    img = ImageOps.grayscale(img)\n",
    "    img = img.resize((128,128))\n",
    "    img = np.array(img)\n",
    "    if(img.shape == (128,128)):\n",
    "        data.append(np.array(img))\n",
    "        result.append(5)\n",
    "\n",
    "for path in path7:\n",
    "    img = Image.open(path)\n",
    "    img = ImageOps.grayscale(img)\n",
    "    img = img.resize((128,128))\n",
    "    img = np.array(img)\n",
    "    if(img.shape == (128,128)):\n",
    "        data.append(np.array(img))\n",
    "        result.append(6)\n",
    "\n",
    "length = len(data)\n",
    "\n",
    "indices = np.arange(length)\n",
    "np.random.shuffle(indices)\n",
    "\n",
    "# Shuffle both arrays using the shuffled indices\n",
    "shuffled_data = [data[i] for i in indices]\n",
    "shuffled_result = [result[i] for i in indices]\n",
    "\n",
    "train_data = shuffled_data[0:int(length*0.4)]\n",
    "train_result = shuffled_result[0:int(length*0.4)]\n",
    "\n",
    "test_data = shuffled_data[int(length*0.4):int(length*0.5)]\n",
    "test_result = shuffled_result[int(length*0.4):int(length*0.5)] # FIXME: trying to reduce data so calling fit() doesn't take forever"
   ]
  },
  {
   "cell_type": "code",
   "execution_count": 68,
   "metadata": {},
   "outputs": [
    {
     "data": {
      "text/plain": [
       "(11863,)"
      ]
     },
     "execution_count": 68,
     "metadata": {},
     "output_type": "execute_result"
    }
   ],
   "source": [
    "test_data = np.array(test_data)\n",
    "test_data.shape\n",
    "\n",
    "test_result = np.array(test_result)\n",
    "test_result.shape"
   ]
  },
  {
   "cell_type": "code",
   "execution_count": 69,
   "metadata": {},
   "outputs": [
    {
     "data": {
      "text/plain": [
       "(47453,)"
      ]
     },
     "execution_count": 69,
     "metadata": {},
     "output_type": "execute_result"
    }
   ],
   "source": [
    "train_data = np.array(train_data)\n",
    "test_data.shape\n",
    "\n",
    "train_result = np.array(train_result)\n",
    "train_result.shape"
   ]
  },
  {
   "cell_type": "code",
   "execution_count": 70,
   "metadata": {},
   "outputs": [
    {
     "name": "stdout",
     "output_type": "stream",
     "text": [
      "train data:  (47453, 128, 128)\n",
      "test data:  (11863, 128, 128)\n",
      "train data after reshape:  (47453, 16384)\n",
      "test data after reshape:  (11863, 16384)\n"
     ]
    }
   ],
   "source": [
    "# Confirm shape of data \n",
    "print(\"train data: \", train_data.shape)\n",
    "print(\"test data: \", test_data.shape)\n",
    "print(\"train data after reshape: \", train_data.reshape(-1,128*128).shape)\n",
    "print(\"test data after reshape: \", test_data.reshape(-1,128*128).shape)"
   ]
  },
  {
   "cell_type": "markdown",
   "metadata": {},
   "source": [
    "### 2. Build the Neural Network\n"
   ]
  },
  {
   "cell_type": "code",
   "execution_count": 71,
   "metadata": {},
   "outputs": [
    {
     "name": "stdout",
     "output_type": "stream",
     "text": [
      "(42453, 128, 128) (5000, 128, 128) (11863, 128, 128)\n",
      "(42453,) (5000,) (11863,)\n"
     ]
    }
   ],
   "source": [
    "X_valid, X_train = train_data[:5000] / 255., train_data[5000:] / 255.\n",
    "y_valid, y_train = train_result[:5000], train_result[5000:]\n",
    "X_test = test_data / 255.\n",
    "y_test = test_result / 255.\n",
    "print(X_train.shape, X_valid.shape, X_test.shape)\n",
    "print(y_train.shape, y_valid.shape, y_test.shape)"
   ]
  },
  {
   "cell_type": "code",
   "execution_count": 72,
   "metadata": {},
   "outputs": [
    {
     "name": "stdout",
     "output_type": "stream",
     "text": [
      "(42453, 1)\n"
     ]
    }
   ],
   "source": [
    "print(y_train.reshape(42453,-1).reshape(42453, -1).shape)"
   ]
  },
  {
   "cell_type": "code",
   "execution_count": 73,
   "metadata": {},
   "outputs": [
    {
     "data": {
      "text/plain": [
       "array([6, 1, 3, ..., 0, 5, 6])"
      ]
     },
     "execution_count": 73,
     "metadata": {},
     "output_type": "execute_result"
    }
   ],
   "source": [
    "y_train"
   ]
  },
  {
   "cell_type": "code",
   "execution_count": 74,
   "metadata": {},
   "outputs": [],
   "source": [
    "class_names = [\"0\", \"1\", \"2\", \"3\", \"4\", \"5\", \"6\"]"
   ]
  },
  {
   "cell_type": "code",
   "execution_count": 75,
   "metadata": {},
   "outputs": [
    {
     "data": {
      "text/plain": [
       "[<keras.layers.core.flatten.Flatten at 0x7fc610674ac0>,\n",
       " <keras.layers.core.dense.Dense at 0x7fc610673a60>,\n",
       " <keras.layers.core.dense.Dense at 0x7fc610673d00>,\n",
       " <keras.layers.core.dense.Dense at 0x7fc610674e80>]"
      ]
     },
     "execution_count": 75,
     "metadata": {},
     "output_type": "execute_result"
    }
   ],
   "source": [
    "model = keras.models.Sequential()\n",
    "model.add(keras.layers.Flatten(input_shape=[128, 128]))\n",
    "model.add(keras.layers.Dense(300, activation=\"relu\"))\n",
    "model.add(keras.layers.Dense(100, activation=\"relu\"))\n",
    "model.add(keras.layers.Dense(10, activation=\"softmax\"))\n",
    "\n",
    "keras.backend.clear_session()\n",
    "np.random.seed(42)\n",
    "tf.random.set_seed(42)\n",
    "\n",
    "model = keras.models.Sequential([\n",
    "    keras.layers.Flatten(input_shape=[128, 128]),\n",
    "    keras.layers.Dense(300, activation=\"relu\"),\n",
    "    keras.layers.Dense(100, activation=\"relu\"),\n",
    "    keras.layers.Dense(10, activation=\"softmax\")\n",
    "])\n",
    "\n",
    "model.layers"
   ]
  },
  {
   "cell_type": "code",
   "execution_count": 76,
   "metadata": {},
   "outputs": [
    {
     "name": "stdout",
     "output_type": "stream",
     "text": [
      "Model: \"sequential\"\n",
      "_________________________________________________________________\n",
      " Layer (type)                Output Shape              Param #   \n",
      "=================================================================\n",
      " flatten (Flatten)           (None, 16384)             0         \n",
      "                                                                 \n",
      " dense (Dense)               (None, 300)               4915500   \n",
      "                                                                 \n",
      " dense_1 (Dense)             (None, 100)               30100     \n",
      "                                                                 \n",
      " dense_2 (Dense)             (None, 10)                1010      \n",
      "                                                                 \n",
      "=================================================================\n",
      "Total params: 4,946,610\n",
      "Trainable params: 4,946,610\n",
      "Non-trainable params: 0\n",
      "_________________________________________________________________\n"
     ]
    }
   ],
   "source": [
    "model.summary()"
   ]
  },
  {
   "cell_type": "code",
   "execution_count": 77,
   "metadata": {},
   "outputs": [
    {
     "data": {
      "text/plain": [
       "array([[ 0.00624145, -0.00223747, -0.00557982, ..., -0.00705057,\n",
       "         0.00983666, -0.01756085],\n",
       "       [ 0.0012146 , -0.00791551, -0.01495419, ...,  0.00153694,\n",
       "        -0.00704478, -0.01061738],\n",
       "       [-0.01577629, -0.01759288,  0.01810366, ..., -0.01080306,\n",
       "         0.01815253, -0.01868817],\n",
       "       ...,\n",
       "       [ 0.00372475,  0.01591296, -0.00610253, ...,  0.00645785,\n",
       "        -0.00081756,  0.00928183],\n",
       "       [ 0.00682121, -0.0023047 , -0.00090442, ...,  0.01544421,\n",
       "         0.01161724,  0.00345435],\n",
       "       [-0.00477747, -0.00085977,  0.00936946, ...,  0.01443502,\n",
       "        -0.0025459 , -0.0019555 ]], dtype=float32)"
      ]
     },
     "execution_count": 77,
     "metadata": {},
     "output_type": "execute_result"
    }
   ],
   "source": [
    "weights, biases = model.layers[1].get_weights()\n",
    "\n",
    "weights"
   ]
  },
  {
   "cell_type": "code",
   "execution_count": 78,
   "metadata": {},
   "outputs": [
    {
     "data": {
      "text/plain": [
       "(16384, 300)"
      ]
     },
     "execution_count": 78,
     "metadata": {},
     "output_type": "execute_result"
    }
   ],
   "source": [
    "weights.shape"
   ]
  },
  {
   "cell_type": "code",
   "execution_count": 79,
   "metadata": {},
   "outputs": [
    {
     "data": {
      "text/plain": [
       "array([0., 0., 0., 0., 0., 0., 0., 0., 0., 0., 0., 0., 0., 0., 0., 0., 0.,\n",
       "       0., 0., 0., 0., 0., 0., 0., 0., 0., 0., 0., 0., 0., 0., 0., 0., 0.,\n",
       "       0., 0., 0., 0., 0., 0., 0., 0., 0., 0., 0., 0., 0., 0., 0., 0., 0.,\n",
       "       0., 0., 0., 0., 0., 0., 0., 0., 0., 0., 0., 0., 0., 0., 0., 0., 0.,\n",
       "       0., 0., 0., 0., 0., 0., 0., 0., 0., 0., 0., 0., 0., 0., 0., 0., 0.,\n",
       "       0., 0., 0., 0., 0., 0., 0., 0., 0., 0., 0., 0., 0., 0., 0., 0., 0.,\n",
       "       0., 0., 0., 0., 0., 0., 0., 0., 0., 0., 0., 0., 0., 0., 0., 0., 0.,\n",
       "       0., 0., 0., 0., 0., 0., 0., 0., 0., 0., 0., 0., 0., 0., 0., 0., 0.,\n",
       "       0., 0., 0., 0., 0., 0., 0., 0., 0., 0., 0., 0., 0., 0., 0., 0., 0.,\n",
       "       0., 0., 0., 0., 0., 0., 0., 0., 0., 0., 0., 0., 0., 0., 0., 0., 0.,\n",
       "       0., 0., 0., 0., 0., 0., 0., 0., 0., 0., 0., 0., 0., 0., 0., 0., 0.,\n",
       "       0., 0., 0., 0., 0., 0., 0., 0., 0., 0., 0., 0., 0., 0., 0., 0., 0.,\n",
       "       0., 0., 0., 0., 0., 0., 0., 0., 0., 0., 0., 0., 0., 0., 0., 0., 0.,\n",
       "       0., 0., 0., 0., 0., 0., 0., 0., 0., 0., 0., 0., 0., 0., 0., 0., 0.,\n",
       "       0., 0., 0., 0., 0., 0., 0., 0., 0., 0., 0., 0., 0., 0., 0., 0., 0.,\n",
       "       0., 0., 0., 0., 0., 0., 0., 0., 0., 0., 0., 0., 0., 0., 0., 0., 0.,\n",
       "       0., 0., 0., 0., 0., 0., 0., 0., 0., 0., 0., 0., 0., 0., 0., 0., 0.,\n",
       "       0., 0., 0., 0., 0., 0., 0., 0., 0., 0., 0.], dtype=float32)"
      ]
     },
     "execution_count": 79,
     "metadata": {},
     "output_type": "execute_result"
    }
   ],
   "source": [
    "biases"
   ]
  },
  {
   "cell_type": "code",
   "execution_count": 80,
   "metadata": {},
   "outputs": [
    {
     "data": {
      "text/plain": [
       "(300,)"
      ]
     },
     "execution_count": 80,
     "metadata": {},
     "output_type": "execute_result"
    }
   ],
   "source": [
    "biases.shape"
   ]
  },
  {
   "cell_type": "code",
   "execution_count": 81,
   "metadata": {},
   "outputs": [],
   "source": [
    "model.compile(loss=\"sparse_categorical_crossentropy\",\n",
    "              optimizer=\"sgd\",\n",
    "              metrics=[\"accuracy\"])"
   ]
  },
  {
   "cell_type": "markdown",
   "metadata": {},
   "source": [
    "### 3. Training the Neural Network model"
   ]
  },
  {
   "cell_type": "code",
   "execution_count": 82,
   "metadata": {},
   "outputs": [
    {
     "name": "stdout",
     "output_type": "stream",
     "text": [
      "Epoch 1/30\n",
      "332/332 [==============================] - 12s 35ms/step - loss: 1.7016 - accuracy: 0.3181 - val_loss: 1.6654 - val_accuracy: 0.3252\n",
      "Epoch 2/30\n",
      "332/332 [==============================] - 8s 24ms/step - loss: 1.6528 - accuracy: 0.3414 - val_loss: 1.6437 - val_accuracy: 0.3356\n",
      "Epoch 3/30\n",
      "332/332 [==============================] - 9s 27ms/step - loss: 1.6338 - accuracy: 0.3505 - val_loss: 1.6702 - val_accuracy: 0.3144\n",
      "Epoch 4/30\n",
      "332/332 [==============================] - 8s 25ms/step - loss: 1.6193 - accuracy: 0.3608 - val_loss: 1.6250 - val_accuracy: 0.3612\n",
      "Epoch 5/30\n",
      "332/332 [==============================] - 8s 25ms/step - loss: 1.6073 - accuracy: 0.3627 - val_loss: 1.6514 - val_accuracy: 0.3140\n",
      "Epoch 6/30\n",
      "332/332 [==============================] - 8s 23ms/step - loss: 1.5988 - accuracy: 0.3677 - val_loss: 1.6069 - val_accuracy: 0.3666\n",
      "Epoch 7/30\n",
      "332/332 [==============================] - 7s 22ms/step - loss: 1.5893 - accuracy: 0.3726 - val_loss: 1.6354 - val_accuracy: 0.3456\n",
      "Epoch 8/30\n",
      "332/332 [==============================] - 8s 23ms/step - loss: 1.5818 - accuracy: 0.3742 - val_loss: 1.6130 - val_accuracy: 0.3586\n",
      "Epoch 9/30\n",
      "332/332 [==============================] - 7s 22ms/step - loss: 1.5720 - accuracy: 0.3806 - val_loss: 1.6292 - val_accuracy: 0.3496\n",
      "Epoch 10/30\n",
      "332/332 [==============================] - 7s 22ms/step - loss: 1.5646 - accuracy: 0.3836 - val_loss: 1.6224 - val_accuracy: 0.3454\n",
      "Epoch 11/30\n",
      "332/332 [==============================] - 8s 23ms/step - loss: 1.5582 - accuracy: 0.3861 - val_loss: 1.6115 - val_accuracy: 0.3520\n",
      "Epoch 12/30\n",
      "332/332 [==============================] - 7s 22ms/step - loss: 1.5498 - accuracy: 0.3890 - val_loss: 1.5960 - val_accuracy: 0.3688\n",
      "Epoch 13/30\n",
      "332/332 [==============================] - 7s 22ms/step - loss: 1.5434 - accuracy: 0.3967 - val_loss: 1.6096 - val_accuracy: 0.3520\n",
      "Epoch 14/30\n",
      "332/332 [==============================] - 8s 23ms/step - loss: 1.5348 - accuracy: 0.3982 - val_loss: 1.5921 - val_accuracy: 0.3716\n",
      "Epoch 15/30\n",
      "332/332 [==============================] - 8s 23ms/step - loss: 1.5282 - accuracy: 0.4013 - val_loss: 1.6033 - val_accuracy: 0.3560\n",
      "Epoch 16/30\n",
      "332/332 [==============================] - 8s 23ms/step - loss: 1.5208 - accuracy: 0.4031 - val_loss: 1.5966 - val_accuracy: 0.3788\n",
      "Epoch 17/30\n",
      "332/332 [==============================] - 7s 22ms/step - loss: 1.5127 - accuracy: 0.4093 - val_loss: 1.5763 - val_accuracy: 0.3728\n",
      "Epoch 18/30\n",
      "332/332 [==============================] - 7s 22ms/step - loss: 1.5065 - accuracy: 0.4101 - val_loss: 1.5941 - val_accuracy: 0.3730\n",
      "Epoch 19/30\n",
      "332/332 [==============================] - 8s 23ms/step - loss: 1.4967 - accuracy: 0.4146 - val_loss: 1.5717 - val_accuracy: 0.3712\n",
      "Epoch 20/30\n",
      "332/332 [==============================] - 7s 22ms/step - loss: 1.4878 - accuracy: 0.4223 - val_loss: 1.5844 - val_accuracy: 0.3634\n",
      "Epoch 21/30\n",
      "332/332 [==============================] - 7s 22ms/step - loss: 1.4811 - accuracy: 0.4230 - val_loss: 1.5536 - val_accuracy: 0.3890\n",
      "Epoch 22/30\n",
      "332/332 [==============================] - 8s 23ms/step - loss: 1.4756 - accuracy: 0.4234 - val_loss: 1.5892 - val_accuracy: 0.3776\n",
      "Epoch 23/30\n",
      "332/332 [==============================] - 8s 23ms/step - loss: 1.4656 - accuracy: 0.4292 - val_loss: 1.5742 - val_accuracy: 0.3798\n",
      "Epoch 24/30\n",
      "332/332 [==============================] - 8s 24ms/step - loss: 1.4580 - accuracy: 0.4328 - val_loss: 1.5995 - val_accuracy: 0.3858\n",
      "Epoch 25/30\n",
      "332/332 [==============================] - 7s 22ms/step - loss: 1.4487 - accuracy: 0.4420 - val_loss: 1.5833 - val_accuracy: 0.3672\n",
      "Epoch 26/30\n",
      "332/332 [==============================] - 7s 22ms/step - loss: 1.4453 - accuracy: 0.4411 - val_loss: 1.5404 - val_accuracy: 0.3940\n",
      "Epoch 27/30\n",
      "332/332 [==============================] - 8s 23ms/step - loss: 1.4360 - accuracy: 0.4429 - val_loss: 1.6221 - val_accuracy: 0.3562\n",
      "Epoch 28/30\n",
      "332/332 [==============================] - 7s 22ms/step - loss: 1.4265 - accuracy: 0.4488 - val_loss: 1.6382 - val_accuracy: 0.3850\n",
      "Epoch 29/30\n",
      "332/332 [==============================] - 7s 22ms/step - loss: 1.4194 - accuracy: 0.4525 - val_loss: 1.5841 - val_accuracy: 0.3774\n",
      "Epoch 30/30\n",
      "332/332 [==============================] - 8s 23ms/step - loss: 1.4109 - accuracy: 0.4583 - val_loss: 1.6173 - val_accuracy: 0.3756\n"
     ]
    }
   ],
   "source": [
    "# training the model and saving metrics in history\n",
    "# minibatch\n",
    "history = model.fit(X_train, y_train,\n",
    "          batch_size=128, epochs=30,\n",
    "          verbose=1,\n",
    "          validation_data=(X_valid, y_valid))"
   ]
  },
  {
   "cell_type": "code",
   "execution_count": 83,
   "metadata": {},
   "outputs": [
    {
     "name": "stdout",
     "output_type": "stream",
     "text": [
      "Epoch 1/30\n",
      "1327/1327 [==============================] - 23s 17ms/step - loss: 1.4978 - accuracy: 0.4150 - val_loss: 1.6095 - val_accuracy: 0.3544\n",
      "Epoch 2/30\n",
      "1327/1327 [==============================] - 16s 12ms/step - loss: 1.4657 - accuracy: 0.4299 - val_loss: 1.5955 - val_accuracy: 0.3740\n",
      "Epoch 3/30\n",
      "1327/1327 [==============================] - 16s 12ms/step - loss: 1.4404 - accuracy: 0.4396 - val_loss: 1.6380 - val_accuracy: 0.3310\n",
      "Epoch 4/30\n",
      "1327/1327 [==============================] - 16s 12ms/step - loss: 1.4185 - accuracy: 0.4525 - val_loss: 1.5676 - val_accuracy: 0.3894\n",
      "Epoch 5/30\n",
      "1327/1327 [==============================] - 16s 12ms/step - loss: 1.3961 - accuracy: 0.4630 - val_loss: 1.7471 - val_accuracy: 0.3274\n",
      "Epoch 6/30\n",
      "1327/1327 [==============================] - 16s 12ms/step - loss: 1.3746 - accuracy: 0.4717 - val_loss: 1.5697 - val_accuracy: 0.3892\n",
      "Epoch 7/30\n",
      "1327/1327 [==============================] - 16s 12ms/step - loss: 1.3516 - accuracy: 0.4806 - val_loss: 1.6153 - val_accuracy: 0.3924\n",
      "Epoch 8/30\n",
      "1327/1327 [==============================] - 16s 12ms/step - loss: 1.3251 - accuracy: 0.4925 - val_loss: 1.6497 - val_accuracy: 0.3616\n",
      "Epoch 9/30\n",
      "1327/1327 [==============================] - 16s 12ms/step - loss: 1.3021 - accuracy: 0.4998 - val_loss: 1.5586 - val_accuracy: 0.3952\n",
      "Epoch 10/30\n",
      "1327/1327 [==============================] - 16s 12ms/step - loss: 1.2808 - accuracy: 0.5143 - val_loss: 1.5635 - val_accuracy: 0.4028\n",
      "Epoch 11/30\n",
      "1327/1327 [==============================] - 16s 12ms/step - loss: 1.2565 - accuracy: 0.5212 - val_loss: 1.5791 - val_accuracy: 0.3888\n",
      "Epoch 12/30\n",
      "1327/1327 [==============================] - 16s 12ms/step - loss: 1.2371 - accuracy: 0.5295 - val_loss: 1.5649 - val_accuracy: 0.4128\n",
      "Epoch 13/30\n",
      "1327/1327 [==============================] - 16s 12ms/step - loss: 1.2090 - accuracy: 0.5418 - val_loss: 1.6660 - val_accuracy: 0.3620\n",
      "Epoch 14/30\n",
      "1327/1327 [==============================] - 16s 12ms/step - loss: 1.1896 - accuracy: 0.5502 - val_loss: 1.5523 - val_accuracy: 0.4204\n",
      "Epoch 15/30\n",
      "1327/1327 [==============================] - 16s 12ms/step - loss: 1.1654 - accuracy: 0.5640 - val_loss: 1.5987 - val_accuracy: 0.3970\n",
      "Epoch 16/30\n",
      "1327/1327 [==============================] - 16s 12ms/step - loss: 1.1358 - accuracy: 0.5724 - val_loss: 1.5864 - val_accuracy: 0.4228\n",
      "Epoch 17/30\n",
      "1327/1327 [==============================] - 16s 12ms/step - loss: 1.1130 - accuracy: 0.5835 - val_loss: 1.6980 - val_accuracy: 0.3676\n",
      "Epoch 18/30\n",
      "1327/1327 [==============================] - 16s 12ms/step - loss: 1.0900 - accuracy: 0.5889 - val_loss: 1.6459 - val_accuracy: 0.4076\n",
      "Epoch 19/30\n",
      "1327/1327 [==============================] - 18s 14ms/step - loss: 1.0691 - accuracy: 0.5999 - val_loss: 1.7261 - val_accuracy: 0.3686\n",
      "Epoch 20/30\n",
      "1327/1327 [==============================] - 16s 12ms/step - loss: 1.0403 - accuracy: 0.6106 - val_loss: 1.5842 - val_accuracy: 0.4330\n",
      "Epoch 21/30\n",
      "1327/1327 [==============================] - 16s 12ms/step - loss: 1.0176 - accuracy: 0.6223 - val_loss: 1.7266 - val_accuracy: 0.3866\n",
      "Epoch 22/30\n",
      "1327/1327 [==============================] - 16s 12ms/step - loss: 0.9928 - accuracy: 0.6299 - val_loss: 1.6710 - val_accuracy: 0.4142\n",
      "Epoch 23/30\n",
      "1327/1327 [==============================] - 16s 12ms/step - loss: 0.9700 - accuracy: 0.6388 - val_loss: 1.7666 - val_accuracy: 0.3798\n",
      "Epoch 24/30\n",
      "1327/1327 [==============================] - 16s 12ms/step - loss: 0.9481 - accuracy: 0.6491 - val_loss: 1.9169 - val_accuracy: 0.3624\n",
      "Epoch 25/30\n",
      "1327/1327 [==============================] - 16s 12ms/step - loss: 0.9242 - accuracy: 0.6578 - val_loss: 1.7375 - val_accuracy: 0.4162\n",
      "Epoch 26/30\n",
      "1327/1327 [==============================] - 16s 12ms/step - loss: 0.9064 - accuracy: 0.6655 - val_loss: 1.6928 - val_accuracy: 0.4176\n",
      "Epoch 27/30\n",
      "1327/1327 [==============================] - 16s 12ms/step - loss: 0.8776 - accuracy: 0.6761 - val_loss: 1.9759 - val_accuracy: 0.3326\n",
      "Epoch 28/30\n",
      "1327/1327 [==============================] - 16s 12ms/step - loss: 0.8518 - accuracy: 0.6882 - val_loss: 1.9089 - val_accuracy: 0.3982\n",
      "Epoch 29/30\n",
      "1327/1327 [==============================] - 16s 12ms/step - loss: 0.8346 - accuracy: 0.6926 - val_loss: 1.8353 - val_accuracy: 0.4150\n",
      "Epoch 30/30\n",
      "1327/1327 [==============================] - 16s 12ms/step - loss: 0.8073 - accuracy: 0.7050 - val_loss: 1.9117 - val_accuracy: 0.3740\n"
     ]
    }
   ],
   "source": [
    "#stochastic gradient decent\n",
    "historysgd = model.fit(X_train, y_train, epochs=30,\n",
    "                    validation_data=(X_valid, y_valid))"
   ]
  },
  {
   "cell_type": "code",
   "execution_count": 84,
   "metadata": {},
   "outputs": [
    {
     "data": {
      "image/png": "[encoded data removed]",
      "text/plain": [
       "<Figure size 576x360 with 1 Axes>"
      ]
     },
     "metadata": {
      "needs_background": "light"
     },
     "output_type": "display_data"
    }
   ],
   "source": [
    "pd.DataFrame(history.history).plot(figsize=(8, 5))\n",
    "plt.grid(True)\n",
    "plt.gca().set_ylim(0, 1)\n",
    " \n",
    "plt.show()"
   ]
  },
  {
   "cell_type": "code",
   "execution_count": 85,
   "metadata": {},
   "outputs": [
    {
     "data": {
      "image/png": "[encoded data removed]",
      "text/plain": [
       "<Figure size 576x360 with 1 Axes>"
      ]
     },
     "metadata": {
      "needs_background": "light"
     },
     "output_type": "display_data"
    }
   ],
   "source": [
    "pd.DataFrame(historysgd.history).plot(figsize=(8, 5))\n",
    "plt.grid(True)\n",
    "plt.gca().set_ylim(0, 1)\n",
    " \n",
    "plt.show()"
   ]
  },
  {
   "cell_type": "code",
   "execution_count": 86,
   "metadata": {},
   "outputs": [
    {
     "data": {
      "text/plain": [
       "array([[0.  , 0.02, 0.  , 0.01, 0.27, 0.67, 0.02, 0.  , 0.  , 0.  ],\n",
       "       [0.  , 0.01, 0.22, 0.33, 0.16, 0.03, 0.25, 0.  , 0.  , 0.  ],\n",
       "       [0.  , 0.02, 0.  , 0.62, 0.03, 0.25, 0.08, 0.  , 0.  , 0.  ]],\n",
       "      dtype=float32)"
      ]
     },
     "execution_count": 86,
     "metadata": {},
     "output_type": "execute_result"
    }
   ],
   "source": [
    "X_new = X_test[:3]\n",
    "y_proba = model.predict(X_new)\n",
    "y_proba.round(2)"
   ]
  },
  {
   "cell_type": "code",
   "execution_count": 87,
   "metadata": {},
   "outputs": [
    {
     "data": {
      "text/plain": [
       "array([5, 3, 3])"
      ]
     },
     "execution_count": 87,
     "metadata": {},
     "output_type": "execute_result"
    }
   ],
   "source": [
    "#y_pred = model.predict_classes(X_new) # deprecated\n",
    "y_pred = np.argmax(model.predict(X_new), axis=-1)\n",
    "y_pred"
   ]
  },
  {
   "cell_type": "code",
   "execution_count": 88,
   "metadata": {},
   "outputs": [
    {
     "data": {
      "text/plain": [
       "array([0.00392157, 0.02352941, 0.02352941])"
      ]
     },
     "execution_count": 88,
     "metadata": {},
     "output_type": "execute_result"
    }
   ],
   "source": [
    "np.array(class_names)[y_pred]\n",
    "y_new = y_test[:3]\n",
    "y_new"
   ]
  },
  {
   "cell_type": "code",
   "execution_count": 89,
   "metadata": {},
   "outputs": [],
   "source": [
    "K = keras.backend\n",
    "\n",
    "class ExponentialLearningRate(keras.callbacks.Callback):\n",
    "    def __init__(self, factor):\n",
    "        self.factor = factor\n",
    "        self.rates = []\n",
    "        self.losses = []\n",
    "    def on_batch_end(self, batch, logs):\n",
    "        self.rates.append(K.get_value(self.model.optimizer.lr))\n",
    "        self.losses.append(logs[\"loss\"])\n",
    "        K.set_value(self.model.optimizer.lr, self.model.optimizer.lr * self.factor)"
   ]
  },
  {
   "cell_type": "code",
   "execution_count": 90,
   "metadata": {},
   "outputs": [],
   "source": [
    "#clear the section\n",
    "keras.backend.clear_session()\n",
    "np.random.seed(42)\n",
    "tf.random.set_seed(42)\n",
    "\n",
    "model = keras.models.Sequential([\n",
    "    keras.layers.Flatten(input_shape=[128, 128]),\n",
    "    keras.layers.Dense(300, activation=\"relu\"),\n",
    "    keras.layers.Dense(100, activation=\"relu\"),\n",
    "    keras.layers.Dense(10, activation=\"softmax\")\n",
    "])"
   ]
  },
  {
   "cell_type": "code",
   "execution_count": 91,
   "metadata": {},
   "outputs": [],
   "source": [
    "model.compile(loss=\"sparse_categorical_crossentropy\",\n",
    "              optimizer=keras.optimizers.SGD(learning_rate=1e-3),\n",
    "              metrics=[\"accuracy\"])\n",
    "expon_lr = ExponentialLearningRate(factor=1.005)"
   ]
  },
  {
   "cell_type": "code",
   "execution_count": 92,
   "metadata": {},
   "outputs": [
    {
     "name": "stdout",
     "output_type": "stream",
     "text": [
      "1327/1327 [==============================] - 19s 14ms/step - loss: 1.7434 - accuracy: 0.3006 - val_loss: 1.7051 - val_accuracy: 0.3144\n"
     ]
    }
   ],
   "source": [
    "history = model.fit(X_train, y_train, epochs=1,\n",
    "                    validation_data=(X_valid, y_valid),\n",
    "                    callbacks=[expon_lr])"
   ]
  },
  {
   "cell_type": "code",
   "execution_count": 93,
   "metadata": {},
   "outputs": [
    {
     "data": {
      "text/plain": [
       "Text(0, 0.5, 'Loss')"
      ]
     },
     "execution_count": 93,
     "metadata": {},
     "output_type": "execute_result"
    },
    {
     "data": {
      "image/png": "[encoded data removed]",
      "text/plain": [
       "<Figure size 432x288 with 1 Axes>"
      ]
     },
     "metadata": {
      "needs_background": "light"
     },
     "output_type": "display_data"
    }
   ],
   "source": [
    "plt.plot(expon_lr.rates, expon_lr.losses)\n",
    "plt.gca().set_xscale('log')\n",
    "plt.hlines(min(expon_lr.losses), min(expon_lr.rates), max(expon_lr.rates))\n",
    "plt.axis([min(expon_lr.rates), max(expon_lr.rates), 0, expon_lr.losses[0]])\n",
    "plt.grid()\n",
    "plt.xlabel(\"Learning rate\")\n",
    "plt.ylabel(\"Loss\")"
   ]
  },
  {
   "cell_type": "code",
   "execution_count": 94,
   "metadata": {},
   "outputs": [],
   "source": [
    "model = keras.models.Sequential([\n",
    "    keras.layers.Flatten(input_shape=[128, 128]),\n",
    "    keras.layers.Dense(300, activation=\"relu\"),\n",
    "    keras.layers.Dense(100, activation=\"relu\"),\n",
    "    keras.layers.Dense(10, activation=\"softmax\")\n",
    "])"
   ]
  },
  {
   "cell_type": "code",
   "execution_count": 96,
   "metadata": {},
   "outputs": [
    {
     "name": "stderr",
     "output_type": "stream",
     "text": [
      "/Users/maxleroux/opt/anaconda3/lib/python3.9/site-packages/keras/optimizer_v2/gradient_descent.py:102: UserWarning: The `lr` argument is deprecated, use `learning_rate` instead.\n",
      "  super(SGD, self).__init__(name, **kwargs)\n"
     ]
    }
   ],
   "source": [
    "model.compile(loss=\"sparse_categorical_crossentropy\",\n",
    "              optimizer=tf.keras.optimizers.SGD(lr=8e-1),\n",
    "              metrics=[\"accuracy\"])"
   ]
  },
  {
   "cell_type": "code",
   "execution_count": 98,
   "metadata": {},
   "outputs": [
    {
     "name": "stdout",
     "output_type": "stream",
     "text": [
      "Epoch 1/100\n",
      "1327/1327 [==============================] - 20s 14ms/step - loss: 3.5515 - accuracy: 0.2804 - val_loss: 1.7026 - val_accuracy: 0.2920\n",
      "Epoch 2/100\n",
      "1327/1327 [==============================] - 16s 12ms/step - loss: 1.7760 - accuracy: 0.3021 - val_loss: 1.7071 - val_accuracy: 0.2882\n",
      "Epoch 3/100\n",
      "1327/1327 [==============================] - 15s 11ms/step - loss: 1.7073 - accuracy: 0.2921 - val_loss: 1.6949 - val_accuracy: 0.2834\n",
      "Epoch 4/100\n",
      "1327/1327 [==============================] - 15s 11ms/step - loss: 1.6807 - accuracy: 0.3153 - val_loss: 1.6627 - val_accuracy: 0.3252\n",
      "Epoch 5/100\n",
      "1327/1327 [==============================] - 15s 11ms/step - loss: 1.6692 - accuracy: 0.3244 - val_loss: 1.6502 - val_accuracy: 0.2920\n",
      "Epoch 6/100\n",
      "1327/1327 [==============================] - 15s 12ms/step - loss: 1.6690 - accuracy: 0.3191 - val_loss: 1.6580 - val_accuracy: 0.3172\n",
      "Epoch 7/100\n",
      "1327/1327 [==============================] - 15s 11ms/step - loss: 1.6545 - accuracy: 0.3356 - val_loss: 1.6714 - val_accuracy: 0.3228\n",
      "Epoch 8/100\n",
      "1327/1327 [==============================] - 15s 11ms/step - loss: 1.6419 - accuracy: 0.3415 - val_loss: 1.6708 - val_accuracy: 0.3394\n",
      "Epoch 9/100\n",
      "1327/1327 [==============================] - 15s 12ms/step - loss: 1.6376 - accuracy: 0.3451 - val_loss: 1.6309 - val_accuracy: 0.3458\n",
      "Epoch 10/100\n",
      "1327/1327 [==============================] - 15s 11ms/step - loss: 1.6346 - accuracy: 0.3474 - val_loss: 1.6499 - val_accuracy: 0.3384\n",
      "Epoch 11/100\n",
      "1327/1327 [==============================] - 15s 11ms/step - loss: 1.6324 - accuracy: 0.3476 - val_loss: 1.6525 - val_accuracy: 0.3296\n",
      "Epoch 12/100\n",
      "1327/1327 [==============================] - 18s 13ms/step - loss: 1.6307 - accuracy: 0.3505 - val_loss: 1.6543 - val_accuracy: 0.3384\n",
      "Epoch 13/100\n",
      "1327/1327 [==============================] - 15s 11ms/step - loss: 1.6268 - accuracy: 0.3517 - val_loss: 1.6743 - val_accuracy: 0.3298\n",
      "Epoch 14/100\n",
      "1327/1327 [==============================] - 15s 11ms/step - loss: 1.6234 - accuracy: 0.3528 - val_loss: 1.6357 - val_accuracy: 0.3518\n",
      "Epoch 15/100\n",
      "1327/1327 [==============================] - 15s 11ms/step - loss: 1.6229 - accuracy: 0.3525 - val_loss: 1.6292 - val_accuracy: 0.3424\n",
      "Epoch 16/100\n",
      "1327/1327 [==============================] - 15s 11ms/step - loss: 1.6218 - accuracy: 0.3525 - val_loss: 1.6262 - val_accuracy: 0.3486\n",
      "Epoch 17/100\n",
      "1327/1327 [==============================] - 15s 11ms/step - loss: 1.6208 - accuracy: 0.3552 - val_loss: 1.6370 - val_accuracy: 0.3360\n",
      "Epoch 18/100\n",
      "1327/1327 [==============================] - 15s 11ms/step - loss: 1.6157 - accuracy: 0.3572 - val_loss: 1.6481 - val_accuracy: 0.3416\n",
      "Epoch 19/100\n",
      "1327/1327 [==============================] - 14s 11ms/step - loss: 1.6235 - accuracy: 0.3545 - val_loss: 1.6183 - val_accuracy: 0.3398\n",
      "Epoch 20/100\n",
      "1327/1327 [==============================] - 15s 11ms/step - loss: 1.6158 - accuracy: 0.3570 - val_loss: 1.6303 - val_accuracy: 0.3416\n",
      "Epoch 21/100\n",
      "1327/1327 [==============================] - 14s 11ms/step - loss: 1.6127 - accuracy: 0.3586 - val_loss: 1.7175 - val_accuracy: 0.3130\n",
      "Epoch 22/100\n",
      "1327/1327 [==============================] - 15s 11ms/step - loss: 1.6098 - accuracy: 0.3575 - val_loss: 1.6340 - val_accuracy: 0.3502\n",
      "Epoch 23/100\n",
      "1327/1327 [==============================] - 14s 11ms/step - loss: 1.6072 - accuracy: 0.3613 - val_loss: 1.6303 - val_accuracy: 0.3478\n",
      "Epoch 24/100\n",
      "1327/1327 [==============================] - 14s 11ms/step - loss: 1.6035 - accuracy: 0.3605 - val_loss: 1.6779 - val_accuracy: 0.3476\n",
      "Epoch 25/100\n",
      "1327/1327 [==============================] - 14s 11ms/step - loss: 1.5999 - accuracy: 0.3632 - val_loss: 1.6434 - val_accuracy: 0.3368\n",
      "Epoch 26/100\n",
      "1327/1327 [==============================] - 15s 11ms/step - loss: 1.6000 - accuracy: 0.3638 - val_loss: 1.6174 - val_accuracy: 0.3512\n",
      "Epoch 27/100\n",
      "1327/1327 [==============================] - 15s 11ms/step - loss: 1.5972 - accuracy: 0.3677 - val_loss: 1.6365 - val_accuracy: 0.3496\n",
      "Epoch 28/100\n",
      "1327/1327 [==============================] - 15s 11ms/step - loss: 1.5948 - accuracy: 0.3674 - val_loss: 1.6468 - val_accuracy: 0.3476\n",
      "Epoch 29/100\n",
      "1327/1327 [==============================] - 14s 11ms/step - loss: 1.5920 - accuracy: 0.3683 - val_loss: 1.6148 - val_accuracy: 0.3548\n",
      "Epoch 30/100\n",
      "1327/1327 [==============================] - 15s 11ms/step - loss: 1.5908 - accuracy: 0.3691 - val_loss: 1.6350 - val_accuracy: 0.3460\n",
      "Epoch 31/100\n",
      "1327/1327 [==============================] - 15s 11ms/step - loss: 1.5860 - accuracy: 0.3731 - val_loss: 1.6330 - val_accuracy: 0.3458\n",
      "Epoch 32/100\n",
      "1327/1327 [==============================] - 14s 11ms/step - loss: 1.5852 - accuracy: 0.3714 - val_loss: 1.6247 - val_accuracy: 0.3532\n",
      "Epoch 33/100\n",
      "1327/1327 [==============================] - 14s 11ms/step - loss: 1.5810 - accuracy: 0.3746 - val_loss: 1.6180 - val_accuracy: 0.3492\n",
      "Epoch 34/100\n",
      "1327/1327 [==============================] - 14s 11ms/step - loss: 1.5800 - accuracy: 0.3750 - val_loss: 1.6435 - val_accuracy: 0.3410\n",
      "Epoch 35/100\n",
      "1327/1327 [==============================] - 15s 11ms/step - loss: 1.5809 - accuracy: 0.3742 - val_loss: 1.6213 - val_accuracy: 0.3556\n",
      "Epoch 36/100\n",
      "1327/1327 [==============================] - 14s 11ms/step - loss: 1.5781 - accuracy: 0.3767 - val_loss: 1.6481 - val_accuracy: 0.3384\n",
      "Epoch 37/100\n",
      "1327/1327 [==============================] - 14s 11ms/step - loss: 1.5749 - accuracy: 0.3783 - val_loss: 1.6193 - val_accuracy: 0.3560\n",
      "Epoch 38/100\n",
      "1327/1327 [==============================] - 14s 11ms/step - loss: 1.5745 - accuracy: 0.3785 - val_loss: 1.6234 - val_accuracy: 0.3612\n",
      "Epoch 39/100\n",
      "1327/1327 [==============================] - 15s 11ms/step - loss: 1.5705 - accuracy: 0.3791 - val_loss: 1.6440 - val_accuracy: 0.3262\n",
      "Epoch 40/100\n",
      "1327/1327 [==============================] - 382s 288ms/step - loss: 1.5708 - accuracy: 0.3770 - val_loss: 1.6173 - val_accuracy: 0.3550\n",
      "Epoch 41/100\n",
      "1327/1327 [==============================] - 60s 45ms/step - loss: 1.5656 - accuracy: 0.3818 - val_loss: 1.6316 - val_accuracy: 0.3508\n",
      "Epoch 42/100\n",
      "1327/1327 [==============================] - 16s 12ms/step - loss: 1.5656 - accuracy: 0.3821 - val_loss: 1.7528 - val_accuracy: 0.3060\n",
      "Epoch 43/100\n",
      "1327/1327 [==============================] - 1897s 1s/step - loss: 1.5626 - accuracy: 0.3839 - val_loss: 1.6274 - val_accuracy: 0.3546\n",
      "Epoch 44/100\n",
      "1327/1327 [==============================] - 20s 15ms/step - loss: 1.5629 - accuracy: 0.3844 - val_loss: 1.6417 - val_accuracy: 0.3554\n",
      "Epoch 45/100\n",
      "1327/1327 [==============================] - 15s 11ms/step - loss: 1.5603 - accuracy: 0.3844 - val_loss: 1.6235 - val_accuracy: 0.3460\n",
      "Epoch 46/100\n",
      "1327/1327 [==============================] - 14s 11ms/step - loss: 1.5584 - accuracy: 0.3857 - val_loss: 1.6647 - val_accuracy: 0.3482\n",
      "Epoch 47/100\n",
      "1327/1327 [==============================] - 14s 11ms/step - loss: 1.5590 - accuracy: 0.3862 - val_loss: 1.6210 - val_accuracy: 0.3576\n",
      "Epoch 48/100\n",
      "1327/1327 [==============================] - 14s 11ms/step - loss: 1.5539 - accuracy: 0.3865 - val_loss: 1.6341 - val_accuracy: 0.3566\n",
      "Epoch 49/100\n",
      "1327/1327 [==============================] - 14s 11ms/step - loss: 1.5548 - accuracy: 0.3855 - val_loss: 1.6261 - val_accuracy: 0.3592\n"
     ]
    }
   ],
   "source": [
    "from tensorflow.keras.callbacks import EarlyStopping\n",
    "from tensorflow.keras import layers, callbacks\n",
    "\n",
    "keras.backend.clear_session()\n",
    "np.random.seed(42)\n",
    "tf.random.set_seed(42)\n",
    "\n",
    "model = keras.models.Sequential([\n",
    "    keras.layers.Flatten(input_shape=[128, 128]),\n",
    "    keras.layers.Dense(300, activation=\"relu\"),\n",
    "    keras.layers.Dense(100, activation=\"relu\"),\n",
    "    keras.layers.Dense(10, activation=\"softmax\")\n",
    "])\n",
    "#The model needs to be recalled each time.\n",
    "\n",
    "model.compile(loss=\"sparse_categorical_crossentropy\",\n",
    "              optimizer=tf.keras.optimizers.SGD(lr=2e-1),\n",
    "              metrics=[\"accuracy\"])\n",
    "\n",
    "run_index = 1 # increment this at every run\n",
    "run_logdir = os.path.join(os.curdir, \"my_mnist_logs\", \"run_{:03d}\".format(run_index))\n",
    "\n",
    "early_stopping_cb = keras.callbacks.EarlyStopping(\n",
    "    min_delta=0.001, # minimium amount of change to count as an improvement\n",
    "    patience=20, # how many epochs to wait before stopping\n",
    ")\n",
    "checkpoint_cb = keras.callbacks.ModelCheckpoint(\"my_mnist_model.h5\", save_best_only=True)\n",
    "tensorboard_cb = keras.callbacks.TensorBoard(run_logdir)\n",
    "\n",
    "history = model.fit(X_train, y_train, epochs=100,\n",
    "                    validation_data=(X_valid, y_valid),\n",
    "                    callbacks=[checkpoint_cb, early_stopping_cb, tensorboard_cb])"
   ]
  },
  {
   "cell_type": "code",
   "execution_count": 99,
   "metadata": {},
   "outputs": [
    {
     "name": "stdout",
     "output_type": "stream",
     "text": [
      "371/371 [==============================] - 62s 152ms/step - loss: 4.4391 - accuracy: 0.0000e+00 47s\n",
      "157/157 [==============================] - 1s 5ms/step - loss: 1.6148 - accuracy: 0.3548\n",
      "1327/1327 [==============================] - 114s 85ms/step - loss: 1.5727 - accuracy: 0.3790\n"
     ]
    },
    {
     "data": {
      "text/plain": [
       "[1.5726678371429443, 0.37900736927986145]"
      ]
     },
     "execution_count": 99,
     "metadata": {},
     "output_type": "execute_result"
    }
   ],
   "source": [
    "model = keras.models.load_model(\"my_mnist_model.h5\") # rollback to best model\n",
    "model.evaluate(X_test, y_test)\n",
    "model.evaluate(X_valid, y_valid)\n",
    "model.evaluate(X_train, y_train)"
   ]
  },
  {
   "cell_type": "code",
   "execution_count": 100,
   "metadata": {},
   "outputs": [
    {
     "name": "stderr",
     "output_type": "stream",
     "text": [
      "/Users/maxleroux/opt/anaconda3/lib/python3.9/site-packages/keras/optimizer_v2/gradient_descent.py:102: UserWarning: The `lr` argument is deprecated, use `learning_rate` instead.\n",
      "  super(SGD, self).__init__(name, **kwargs)\n"
     ]
    },
    {
     "name": "stdout",
     "output_type": "stream",
     "text": [
      "Epoch 1/20\n",
      "363/363 [==============================] - 38s 3ms/step - loss: 1.6419 - val_loss: 0.8560\n",
      "Epoch 2/20\n",
      "363/363 [==============================] - 1s 2ms/step - loss: 0.7047 - val_loss: 0.6531\n",
      "Epoch 3/20\n",
      "363/363 [==============================] - 0s 1ms/step - loss: 0.6345 - val_loss: 0.6099\n",
      "Epoch 4/20\n",
      "363/363 [==============================] - 0s 1ms/step - loss: 0.5977 - val_loss: 0.5658\n",
      "Epoch 5/20\n",
      "363/363 [==============================] - 0s 1ms/step - loss: 0.5706 - val_loss: 0.5355\n",
      "Epoch 6/20\n",
      "363/363 [==============================] - 0s 1ms/step - loss: 0.5472 - val_loss: 0.5173\n",
      "Epoch 7/20\n",
      "363/363 [==============================] - 0s 1ms/step - loss: 0.5288 - val_loss: 0.5081\n",
      "Epoch 8/20\n",
      "363/363 [==============================] - 0s 1ms/step - loss: 0.5130 - val_loss: 0.4799\n",
      "Epoch 9/20\n",
      "363/363 [==============================] - 0s 1ms/step - loss: 0.4992 - val_loss: 0.4690\n",
      "Epoch 10/20\n",
      "363/363 [==============================] - 0s 1ms/step - loss: 0.4875 - val_loss: 0.4656\n",
      "Epoch 11/20\n",
      "363/363 [==============================] - 0s 1ms/step - loss: 0.4777 - val_loss: 0.4482\n",
      "Epoch 12/20\n",
      "363/363 [==============================] - 0s 1ms/step - loss: 0.4688 - val_loss: 0.4479\n",
      "Epoch 13/20\n",
      "363/363 [==============================] - 0s 1ms/step - loss: 0.4615 - val_loss: 0.4296\n",
      "Epoch 14/20\n",
      "363/363 [==============================] - 0s 1ms/step - loss: 0.4547 - val_loss: 0.4233\n",
      "Epoch 15/20\n",
      "363/363 [==============================] - 1s 1ms/step - loss: 0.4488 - val_loss: 0.4176\n",
      "Epoch 16/20\n",
      "363/363 [==============================] - 1s 3ms/step - loss: 0.4435 - val_loss: 0.4123\n",
      "Epoch 17/20\n",
      "363/363 [==============================] - 0s 1ms/step - loss: 0.4389 - val_loss: 0.4071\n",
      "Epoch 18/20\n",
      "363/363 [==============================] - 886s 2s/step - loss: 0.4347 - val_loss: 0.4037\n",
      "Epoch 19/20\n",
      "363/363 [==============================] - 2s 4ms/step - loss: 0.4306 - val_loss: 0.4000 ETA: \n",
      "Epoch 20/20\n",
      "363/363 [==============================] - 1s 3ms/step - loss: 0.4273 - val_loss: 0.3969\n",
      "162/162 [==============================] - 0s 1ms/step - loss: 0.4212\n"
     ]
    }
   ],
   "source": [
    "from sklearn.datasets import fetch_california_housing\n",
    "from sklearn.model_selection import train_test_split\n",
    "from sklearn.preprocessing import StandardScaler\n",
    "\n",
    "housing = fetch_california_housing()\n",
    "\n",
    "X_train_full, X_test, y_train_full, y_test = train_test_split(housing.data, housing.target, random_state=42)\n",
    "X_train, X_valid, y_train, y_valid = train_test_split(X_train_full, y_train_full, random_state=42)\n",
    "\n",
    "scaler = StandardScaler()\n",
    "X_train = scaler.fit_transform(X_train)\n",
    "X_valid = scaler.transform(X_valid)\n",
    "X_test = scaler.transform(X_test)\n",
    "\n",
    "np.random.seed(42)\n",
    "tf.random.set_seed(42)\n",
    "\n",
    "model = keras.models.Sequential([\n",
    "    keras.layers.Dense(30, activation=\"relu\", input_shape=X_train.shape[1:]),\n",
    "    keras.layers.Dense(1)\n",
    "])\n",
    "model.compile(loss=\"mean_squared_error\", optimizer=tf.keras.optimizers.SGD(lr=1e-3))\n",
    "history = model.fit(X_train, y_train, epochs=20, validation_data=(X_valid, y_valid))\n",
    "mse_test = model.evaluate(X_test, y_test)\n",
    "X_new = X_test[:3]\n",
    "y_pred = model.predict(X_new)"
   ]
  },
  {
   "cell_type": "code",
   "execution_count": 101,
   "metadata": {},
   "outputs": [
    {
     "data": {
      "image/png": "[encoded data removed]",
      "text/plain": [
       "<Figure size 432x288 with 1 Axes>"
      ]
     },
     "metadata": {
      "needs_background": "light"
     },
     "output_type": "display_data"
    }
   ],
   "source": [
    "plt.plot(pd.DataFrame(history.history))\n",
    "plt.grid(True)\n",
    "plt.gca().set_ylim(0, 1)\n",
    "plt.show()"
   ]
  },
  {
   "cell_type": "code",
   "execution_count": 102,
   "metadata": {},
   "outputs": [
    {
     "name": "stdout",
     "output_type": "stream",
     "text": [
      "Epoch 1/10\n",
      "363/363 [==============================] - 1s 2ms/step - loss: 1.8866 - val_loss: 0.7126\n",
      "Epoch 2/10\n",
      "363/363 [==============================] - 1s 2ms/step - loss: 0.6577 - val_loss: 0.6880\n",
      "Epoch 3/10\n",
      "363/363 [==============================] - 1s 2ms/step - loss: 0.5934 - val_loss: 0.5803\n",
      "Epoch 4/10\n",
      "363/363 [==============================] - 1s 2ms/step - loss: 0.5557 - val_loss: 0.5166\n",
      "Epoch 5/10\n",
      "363/363 [==============================] - 1s 2ms/step - loss: 0.5272 - val_loss: 0.4895\n",
      "Epoch 6/10\n",
      "363/363 [==============================] - 1s 2ms/step - loss: 0.5033 - val_loss: 0.4951\n",
      "Epoch 7/10\n",
      "363/363 [==============================] - 1s 2ms/step - loss: 0.4854 - val_loss: 0.4861\n",
      "Epoch 8/10\n",
      "363/363 [==============================] - 0s 1ms/step - loss: 0.4709 - val_loss: 0.4554\n",
      "Epoch 9/10\n",
      "363/363 [==============================] - 1s 2ms/step - loss: 0.4578 - val_loss: 0.4413\n",
      "Epoch 10/10\n",
      "363/363 [==============================] - 1s 1ms/step - loss: 0.4474 - val_loss: 0.4379\n",
      "162/162 [==============================] - 0s 1ms/step - loss: 0.4382\n"
     ]
    }
   ],
   "source": [
    "np.random.seed(42)\n",
    "tf.random.set_seed(42)\n",
    "\n",
    "model = keras.models.Sequential([\n",
    "    keras.layers.Dense(30, activation=\"relu\", input_shape=[8]),\n",
    "    keras.layers.Dense(30, activation=\"relu\"),\n",
    "    keras.layers.Dense(1)\n",
    "]) \n",
    "\n",
    "model.compile(loss=\"mse\", optimizer=tf.keras.optimizers.SGD(lr=1e-3))\n",
    "history = model.fit(X_train, y_train, epochs=10, validation_data=(X_valid, y_valid))\n",
    "mse_test = model.evaluate(X_test, y_test)"
   ]
  },
  {
   "cell_type": "code",
   "execution_count": null,
   "metadata": {},
   "outputs": [],
   "source": []
  }
 ],
 "metadata": {
  "kernelspec": {
   "display_name": "Python 3.9.12 ('base')",
   "language": "python",
   "name": "python3"
  },
  "language_info": {
   "codemirror_mode": {
    "name": "ipython",
    "version": 3
   },
   "file_extension": ".py",
   "mimetype": "text/x-python",
   "name": "python",
   "nbconvert_exporter": "python",
   "pygments_lexer": "ipython3",
   "version": "3.9.12"
  },
  "vscode": {
   "interpreter": {
    "hash": "a6f23c1e824f6170352d06cc12395b09d0b6a41c8cdaaad4a237d4edd2fffac5"
   }
  }
 },
 "nbformat": 4,
 "nbformat_minor": 2
}
