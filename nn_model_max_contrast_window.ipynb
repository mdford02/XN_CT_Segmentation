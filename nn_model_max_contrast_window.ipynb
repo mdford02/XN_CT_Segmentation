{
 "cells": [
  {
   "cell_type": "markdown",
   "metadata": {},
   "source": [
    "### 1. Get Train \\& Test Data"
   ]
  },
  {
   "cell_type": "code",
   "execution_count": 184,
   "metadata": {},
   "outputs": [
    {
     "name": "stdout",
     "output_type": "stream",
     "text": [
      "Number of type 0:  1694\n",
      "Number of type 1:  15664\n",
      "Number of type 2:  9878\n",
      "Number of type 3:  32074\n",
      "Number of type 4:  8599\n",
      "Number of type 5:  16423\n",
      "Number of type 6:  32200\n"
     ]
    }
   ],
   "source": [
    "import os \n",
    "from PIL import Image, ImageOps\n",
    "import numpy as np\n",
    "import tensorflow as tf\n",
    "from tensorflow import keras\n",
    "import pandas as pd\n",
    "import matplotlib.pyplot as plt\n",
    "\n",
    "path1 = []\n",
    "path2 = []\n",
    "path3 = []\n",
    "path4 = []\n",
    "path5 = []\n",
    "path6 = []\n",
    "path7 = []\n",
    "\n",
    "# Testing just for brain_bone_window, could combine all windows\n",
    "for dirname, _, filenames in os.walk('epidural/max_contrast_window'):\n",
    "    for filename in filenames:\n",
    "        path1.append(os.path.join(dirname, filename))\n",
    "    print(\"Number of type 0: \", len(filenames))\n",
    "        \n",
    "for dirname, _, filenames in os.walk('intraparenchymal/max_contrast_window'):\n",
    "    for filename in filenames:\n",
    "        path2.append(os.path.join(dirname, filename))\n",
    "    print(\"Number of type 1: \", len(filenames))\n",
    "        \n",
    "for dirname, _, filenames in os.walk('intraventricular/max_contrast_window'):\n",
    "    for filename in filenames:\n",
    "        path3.append(os.path.join(dirname, filename))\n",
    "    print(\"Number of type 2: \", len(filenames))\n",
    "        \n",
    "for dirname, _, filenames in os.walk('multi/max_contrast_window'):\n",
    "    for filename in filenames:\n",
    "        path4.append(os.path.join(dirname, filename))  \n",
    "    print(\"Number of type 3: \", len(filenames))\n",
    "\n",
    "for dirname, _, filenames in os.walk('normal/max_contrast_window'):\n",
    "    for filename in filenames:\n",
    "        path5.append(os.path.join(dirname, filename))  \n",
    "    print(\"Number of type 4: \", len(filenames))\n",
    "\n",
    "for dirname, _, filenames in os.walk('subarachnoid/max_contrast_window'):\n",
    "    for filename in filenames:\n",
    "        path6.append(os.path.join(dirname, filename))  \n",
    "    print(\"Number of type 5: \", len(filenames))\n",
    "\n",
    "for dirname, _, filenames in os.walk('subdural/max_contrast_window'):\n",
    "    for filename in filenames:\n",
    "        path7.append(os.path.join(dirname, filename))  \n",
    "    print(\"Number of type 6: \", len(filenames))"
   ]
  },
  {
   "cell_type": "code",
   "execution_count": 185,
   "metadata": {},
   "outputs": [
    {
     "data": {
      "text/plain": [
       "OneHotEncoder()"
      ]
     },
     "execution_count": 185,
     "metadata": {},
     "output_type": "execute_result"
    }
   ],
   "source": [
    "from sklearn.preprocessing import OneHotEncoder\n",
    "\n",
    "# One Hot Encoding\n",
    "encoder = OneHotEncoder()\n",
    "encoder.fit([[0],[1],[2],[3],[4],[5], [6]])"
   ]
  },
  {
   "cell_type": "code",
   "execution_count": 186,
   "metadata": {},
   "outputs": [],
   "source": [
    "import random\n",
    "\n",
    "\n",
    "data = []\n",
    "result = []\n",
    "\n",
    "for path in path1:\n",
    "    img = Image.open(path)\n",
    "    img = ImageOps.grayscale(img) # Removes RGB dimension from image, not sure if this is alright\n",
    "    img = img.resize((128,128))\n",
    "    img = np.array(img)\n",
    "    if(img.shape == (128,128)):\n",
    "        data.append(np.array(img))\n",
    "        result.append(0)\n",
    "        \n",
    "for path in path2:\n",
    "    img = Image.open(path)\n",
    "    img = ImageOps.grayscale(img)\n",
    "    img = img.resize((128,128))\n",
    "    img = np.array(img)\n",
    "    if(img.shape == (128,128)):\n",
    "        data.append(np.array(img))\n",
    "        result.append(1) \n",
    "        \n",
    "for path in path3:\n",
    "    img = Image.open(path)\n",
    "    img = ImageOps.grayscale(img)\n",
    "    img = img.resize((128,128))\n",
    "    img = np.array(img)\n",
    "    if(img.shape == (128,128)):\n",
    "        data.append(np.array(img))\n",
    "        result.append(2)\n",
    "        \n",
    "for path in path4:\n",
    "    img = Image.open(path)\n",
    "    img = ImageOps.grayscale(img)\n",
    "    img = img.resize((128,128))\n",
    "    img = np.array(img)\n",
    "    if(img.shape == (128,128)):\n",
    "        data.append(np.array(img))\n",
    "        result.append(3)\n",
    "\n",
    "for path in path5:\n",
    "    img = Image.open(path)\n",
    "    img = ImageOps.grayscale(img)\n",
    "    img = img.resize((128,128))\n",
    "    img = np.array(img)\n",
    "    if(img.shape == (128,128)):\n",
    "        data.append(np.array(img))\n",
    "        result.append(4)\n",
    "        \n",
    "for path in path6:\n",
    "    img = Image.open(path)\n",
    "    img = ImageOps.grayscale(img)\n",
    "    img = img.resize((128,128))\n",
    "    img = np.array(img)\n",
    "    if(img.shape == (128,128)):\n",
    "        data.append(np.array(img))\n",
    "        result.append(5)\n",
    "\n",
    "for path in path7:\n",
    "    img = Image.open(path)\n",
    "    img = ImageOps.grayscale(img)\n",
    "    img = img.resize((128,128))\n",
    "    img = np.array(img)\n",
    "    if(img.shape == (128,128)):\n",
    "        data.append(np.array(img))\n",
    "        result.append(6)\n",
    "\n",
    "length = len(data)\n",
    "\n",
    "indices = np.arange(length)\n",
    "np.random.shuffle(indices)\n",
    "\n",
    "# Shuffle both arrays using the shuffled indices\n",
    "shuffled_data = [data[i] for i in indices]\n",
    "shuffled_result = [result[i] for i in indices]\n",
    "\n",
    "train_data = shuffled_data[0:int(length*0.4)]\n",
    "train_result = shuffled_result[0:int(length*0.4)]\n",
    "\n",
    "test_data = shuffled_data[int(length*0.4):int(length*0.5)]\n",
    "test_result = shuffled_result[int(length*0.4):int(length*0.5)] # FIXME: trying to reduce data so calling fit() doesn't take forever"
   ]
  },
  {
   "cell_type": "code",
   "execution_count": 187,
   "metadata": {},
   "outputs": [
    {
     "data": {
      "text/plain": [
       "(11654,)"
      ]
     },
     "execution_count": 187,
     "metadata": {},
     "output_type": "execute_result"
    }
   ],
   "source": [
    "test_data = np.array(test_data)\n",
    "test_data.shape\n",
    "\n",
    "test_result = np.array(test_result)\n",
    "test_result.shape"
   ]
  },
  {
   "cell_type": "code",
   "execution_count": 188,
   "metadata": {},
   "outputs": [
    {
     "data": {
      "text/plain": [
       "(46612,)"
      ]
     },
     "execution_count": 188,
     "metadata": {},
     "output_type": "execute_result"
    }
   ],
   "source": [
    "train_data = np.array(train_data)\n",
    "test_data.shape\n",
    "\n",
    "train_result = np.array(train_result)\n",
    "train_result.shape"
   ]
  },
  {
   "cell_type": "code",
   "execution_count": 189,
   "metadata": {},
   "outputs": [
    {
     "name": "stdout",
     "output_type": "stream",
     "text": [
      "train data:  (46612, 128, 128)\n",
      "test data:  (11654, 128, 128)\n",
      "train data after reshape:  (46612, 16384)\n",
      "test data after reshape:  (11654, 16384)\n"
     ]
    }
   ],
   "source": [
    "# Confirm shape of data \n",
    "print(\"train data: \", train_data.shape)\n",
    "print(\"test data: \", test_data.shape)\n",
    "print(\"train data after reshape: \", train_data.reshape(-1,128*128).shape)\n",
    "print(\"test data after reshape: \", test_data.reshape(-1,128*128).shape)"
   ]
  },
  {
   "cell_type": "markdown",
   "metadata": {},
   "source": [
    "### 2. Build the Neural Network\n"
   ]
  },
  {
   "cell_type": "code",
   "execution_count": 190,
   "metadata": {},
   "outputs": [
    {
     "name": "stdout",
     "output_type": "stream",
     "text": [
      "(41612, 128, 128) (5000, 128, 128) (11654, 128, 128)\n",
      "(41612,) (5000,) (11654,)\n"
     ]
    }
   ],
   "source": [
    "X_valid, X_train = train_data[:5000] / 255., train_data[5000:] / 255.\n",
    "y_valid, y_train = train_result[:5000], train_result[5000:]\n",
    "X_test = test_data / 255.\n",
    "y_test = test_result / 255.\n",
    "print(X_train.shape, X_valid.shape, X_test.shape)\n",
    "print(y_train.shape, y_valid.shape, y_test.shape)"
   ]
  },
  {
   "cell_type": "code",
   "execution_count": 192,
   "metadata": {},
   "outputs": [
    {
     "name": "stdout",
     "output_type": "stream",
     "text": [
      "(41612, 1)\n"
     ]
    }
   ],
   "source": [
    "print(y_train.reshape(41612,-1).reshape(41612, -1).shape)"
   ]
  },
  {
   "cell_type": "code",
   "execution_count": 193,
   "metadata": {},
   "outputs": [
    {
     "data": {
      "text/plain": [
       "array([5, 1, 3, ..., 3, 3, 4])"
      ]
     },
     "execution_count": 193,
     "metadata": {},
     "output_type": "execute_result"
    }
   ],
   "source": [
    "y_train"
   ]
  },
  {
   "cell_type": "code",
   "execution_count": 194,
   "metadata": {},
   "outputs": [],
   "source": [
    "class_names = [\"0\", \"1\", \"2\", \"3\", \"4\", \"5\", \"6\"]"
   ]
  },
  {
   "cell_type": "code",
   "execution_count": 195,
   "metadata": {},
   "outputs": [
    {
     "data": {
      "text/plain": [
       "[<keras.layers.core.flatten.Flatten at 0x7fbfe3e5dfa0>,\n",
       " <keras.layers.core.dense.Dense at 0x7fbfe3e5dd60>,\n",
       " <keras.layers.core.dense.Dense at 0x7fbfe3e5d0a0>,\n",
       " <keras.layers.core.dense.Dense at 0x7fbfcf516340>]"
      ]
     },
     "execution_count": 195,
     "metadata": {},
     "output_type": "execute_result"
    }
   ],
   "source": [
    "model = keras.models.Sequential()\n",
    "model.add(keras.layers.Flatten(input_shape=[128, 128]))\n",
    "model.add(keras.layers.Dense(300, activation=\"relu\"))\n",
    "model.add(keras.layers.Dense(100, activation=\"relu\"))\n",
    "model.add(keras.layers.Dense(10, activation=\"softmax\"))\n",
    "\n",
    "keras.backend.clear_session()\n",
    "np.random.seed(42)\n",
    "tf.random.set_seed(42)\n",
    "\n",
    "model = keras.models.Sequential([\n",
    "    keras.layers.Flatten(input_shape=[128, 128]),\n",
    "    keras.layers.Dense(300, activation=\"relu\"),\n",
    "    keras.layers.Dense(100, activation=\"relu\"),\n",
    "    keras.layers.Dense(10, activation=\"softmax\")\n",
    "])\n",
    "\n",
    "model.layers"
   ]
  },
  {
   "cell_type": "code",
   "execution_count": 196,
   "metadata": {},
   "outputs": [
    {
     "name": "stdout",
     "output_type": "stream",
     "text": [
      "Model: \"sequential\"\n",
      "_________________________________________________________________\n",
      " Layer (type)                Output Shape              Param #   \n",
      "=================================================================\n",
      " flatten (Flatten)           (None, 16384)             0         \n",
      "                                                                 \n",
      " dense (Dense)               (None, 300)               4915500   \n",
      "                                                                 \n",
      " dense_1 (Dense)             (None, 100)               30100     \n",
      "                                                                 \n",
      " dense_2 (Dense)             (None, 10)                1010      \n",
      "                                                                 \n",
      "=================================================================\n",
      "Total params: 4,946,610\n",
      "Trainable params: 4,946,610\n",
      "Non-trainable params: 0\n",
      "_________________________________________________________________\n"
     ]
    }
   ],
   "source": [
    "model.summary()"
   ]
  },
  {
   "cell_type": "code",
   "execution_count": 197,
   "metadata": {},
   "outputs": [
    {
     "data": {
      "text/plain": [
       "array([[ 0.00624145, -0.00223747, -0.00557982, ..., -0.00705057,\n",
       "         0.00983666, -0.01756085],\n",
       "       [ 0.0012146 , -0.00791551, -0.01495419, ...,  0.00153694,\n",
       "        -0.00704478, -0.01061738],\n",
       "       [-0.01577629, -0.01759288,  0.01810366, ..., -0.01080306,\n",
       "         0.01815253, -0.01868817],\n",
       "       ...,\n",
       "       [ 0.00372475,  0.01591296, -0.00610253, ...,  0.00645785,\n",
       "        -0.00081756,  0.00928183],\n",
       "       [ 0.00682121, -0.0023047 , -0.00090442, ...,  0.01544421,\n",
       "         0.01161724,  0.00345435],\n",
       "       [-0.00477747, -0.00085977,  0.00936946, ...,  0.01443502,\n",
       "        -0.0025459 , -0.0019555 ]], dtype=float32)"
      ]
     },
     "execution_count": 197,
     "metadata": {},
     "output_type": "execute_result"
    }
   ],
   "source": [
    "weights, biases = model.layers[1].get_weights()\n",
    "\n",
    "weights"
   ]
  },
  {
   "cell_type": "code",
   "execution_count": 198,
   "metadata": {},
   "outputs": [
    {
     "data": {
      "text/plain": [
       "(16384, 300)"
      ]
     },
     "execution_count": 198,
     "metadata": {},
     "output_type": "execute_result"
    }
   ],
   "source": [
    "weights.shape"
   ]
  },
  {
   "cell_type": "code",
   "execution_count": 199,
   "metadata": {},
   "outputs": [
    {
     "data": {
      "text/plain": [
       "array([0., 0., 0., 0., 0., 0., 0., 0., 0., 0., 0., 0., 0., 0., 0., 0., 0.,\n",
       "       0., 0., 0., 0., 0., 0., 0., 0., 0., 0., 0., 0., 0., 0., 0., 0., 0.,\n",
       "       0., 0., 0., 0., 0., 0., 0., 0., 0., 0., 0., 0., 0., 0., 0., 0., 0.,\n",
       "       0., 0., 0., 0., 0., 0., 0., 0., 0., 0., 0., 0., 0., 0., 0., 0., 0.,\n",
       "       0., 0., 0., 0., 0., 0., 0., 0., 0., 0., 0., 0., 0., 0., 0., 0., 0.,\n",
       "       0., 0., 0., 0., 0., 0., 0., 0., 0., 0., 0., 0., 0., 0., 0., 0., 0.,\n",
       "       0., 0., 0., 0., 0., 0., 0., 0., 0., 0., 0., 0., 0., 0., 0., 0., 0.,\n",
       "       0., 0., 0., 0., 0., 0., 0., 0., 0., 0., 0., 0., 0., 0., 0., 0., 0.,\n",
       "       0., 0., 0., 0., 0., 0., 0., 0., 0., 0., 0., 0., 0., 0., 0., 0., 0.,\n",
       "       0., 0., 0., 0., 0., 0., 0., 0., 0., 0., 0., 0., 0., 0., 0., 0., 0.,\n",
       "       0., 0., 0., 0., 0., 0., 0., 0., 0., 0., 0., 0., 0., 0., 0., 0., 0.,\n",
       "       0., 0., 0., 0., 0., 0., 0., 0., 0., 0., 0., 0., 0., 0., 0., 0., 0.,\n",
       "       0., 0., 0., 0., 0., 0., 0., 0., 0., 0., 0., 0., 0., 0., 0., 0., 0.,\n",
       "       0., 0., 0., 0., 0., 0., 0., 0., 0., 0., 0., 0., 0., 0., 0., 0., 0.,\n",
       "       0., 0., 0., 0., 0., 0., 0., 0., 0., 0., 0., 0., 0., 0., 0., 0., 0.,\n",
       "       0., 0., 0., 0., 0., 0., 0., 0., 0., 0., 0., 0., 0., 0., 0., 0., 0.,\n",
       "       0., 0., 0., 0., 0., 0., 0., 0., 0., 0., 0., 0., 0., 0., 0., 0., 0.,\n",
       "       0., 0., 0., 0., 0., 0., 0., 0., 0., 0., 0.], dtype=float32)"
      ]
     },
     "execution_count": 199,
     "metadata": {},
     "output_type": "execute_result"
    }
   ],
   "source": [
    "biases"
   ]
  },
  {
   "cell_type": "code",
   "execution_count": 200,
   "metadata": {},
   "outputs": [
    {
     "data": {
      "text/plain": [
       "(300,)"
      ]
     },
     "execution_count": 200,
     "metadata": {},
     "output_type": "execute_result"
    }
   ],
   "source": [
    "biases.shape"
   ]
  },
  {
   "cell_type": "code",
   "execution_count": 201,
   "metadata": {},
   "outputs": [],
   "source": [
    "model.compile(loss=\"sparse_categorical_crossentropy\",\n",
    "              optimizer=\"sgd\",\n",
    "              metrics=[\"accuracy\"])"
   ]
  },
  {
   "cell_type": "markdown",
   "metadata": {},
   "source": [
    "### 3. Training the Neural Network model"
   ]
  },
  {
   "cell_type": "code",
   "execution_count": 202,
   "metadata": {},
   "outputs": [
    {
     "name": "stdout",
     "output_type": "stream",
     "text": [
      "Epoch 1/30\n",
      "326/326 [==============================] - 20s 39ms/step - loss: 1.7026 - accuracy: 0.3132 - val_loss: 1.9506 - val_accuracy: 0.1762\n",
      "Epoch 2/30\n",
      "326/326 [==============================] - 8s 24ms/step - loss: 1.6491 - accuracy: 0.3421 - val_loss: 1.9138 - val_accuracy: 0.2522\n",
      "Epoch 3/30\n",
      "326/326 [==============================] - 8s 23ms/step - loss: 1.6314 - accuracy: 0.3507 - val_loss: 1.7753 - val_accuracy: 0.2080\n",
      "Epoch 4/30\n",
      "326/326 [==============================] - 10s 30ms/step - loss: 1.6190 - accuracy: 0.3543 - val_loss: 1.6548 - val_accuracy: 0.3326\n",
      "Epoch 5/30\n",
      "326/326 [==============================] - 9s 29ms/step - loss: 1.6075 - accuracy: 0.3586 - val_loss: 1.7001 - val_accuracy: 0.3466\n",
      "Epoch 6/30\n",
      "326/326 [==============================] - 8s 24ms/step - loss: 1.5990 - accuracy: 0.3651 - val_loss: 1.6981 - val_accuracy: 0.3312\n",
      "Epoch 7/30\n",
      "326/326 [==============================] - 8s 23ms/step - loss: 1.5907 - accuracy: 0.3672 - val_loss: 1.8128 - val_accuracy: 0.2990\n",
      "Epoch 8/30\n",
      "326/326 [==============================] - 9s 27ms/step - loss: 1.5846 - accuracy: 0.3703 - val_loss: 1.7639 - val_accuracy: 0.2936\n",
      "Epoch 9/30\n",
      "326/326 [==============================] - 7s 23ms/step - loss: 1.5768 - accuracy: 0.3726 - val_loss: 1.6520 - val_accuracy: 0.3548\n",
      "Epoch 10/30\n",
      "326/326 [==============================] - 7s 23ms/step - loss: 1.5719 - accuracy: 0.3765 - val_loss: 1.6311 - val_accuracy: 0.3440\n",
      "Epoch 11/30\n",
      "326/326 [==============================] - 8s 24ms/step - loss: 1.5658 - accuracy: 0.3778 - val_loss: 1.7917 - val_accuracy: 0.2778\n",
      "Epoch 12/30\n",
      "326/326 [==============================] - 8s 26ms/step - loss: 1.5584 - accuracy: 0.3812 - val_loss: 1.6980 - val_accuracy: 0.2726\n",
      "Epoch 13/30\n",
      "326/326 [==============================] - 9s 28ms/step - loss: 1.5525 - accuracy: 0.3841 - val_loss: 2.1599 - val_accuracy: 0.2780\n",
      "Epoch 14/30\n",
      "326/326 [==============================] - 7s 23ms/step - loss: 1.5509 - accuracy: 0.3863 - val_loss: 1.6399 - val_accuracy: 0.3458\n",
      "Epoch 15/30\n",
      "326/326 [==============================] - 8s 24ms/step - loss: 1.5419 - accuracy: 0.3907 - val_loss: 1.6141 - val_accuracy: 0.3476\n",
      "Epoch 16/30\n",
      "326/326 [==============================] - 9s 28ms/step - loss: 1.5376 - accuracy: 0.3931 - val_loss: 1.6607 - val_accuracy: 0.3302\n",
      "Epoch 17/30\n",
      "326/326 [==============================] - 8s 24ms/step - loss: 1.5326 - accuracy: 0.3963 - val_loss: 1.8805 - val_accuracy: 0.1960\n",
      "Epoch 18/30\n",
      "326/326 [==============================] - 8s 23ms/step - loss: 1.5280 - accuracy: 0.3946 - val_loss: 1.7361 - val_accuracy: 0.2894\n",
      "Epoch 19/30\n",
      "326/326 [==============================] - 9s 29ms/step - loss: 1.5245 - accuracy: 0.4006 - val_loss: 1.7073 - val_accuracy: 0.3152\n",
      "Epoch 20/30\n",
      "326/326 [==============================] - 7s 21ms/step - loss: 1.5186 - accuracy: 0.4010 - val_loss: 1.6017 - val_accuracy: 0.3742\n",
      "Epoch 21/30\n",
      "326/326 [==============================] - 7s 21ms/step - loss: 1.5121 - accuracy: 0.4056 - val_loss: 1.5895 - val_accuracy: 0.3664\n",
      "Epoch 22/30\n",
      "326/326 [==============================] - 8s 26ms/step - loss: 1.5072 - accuracy: 0.4059 - val_loss: 1.7892 - val_accuracy: 0.2010\n",
      "Epoch 23/30\n",
      "326/326 [==============================] - 9s 26ms/step - loss: 1.5018 - accuracy: 0.4069 - val_loss: 1.8629 - val_accuracy: 0.2758\n",
      "Epoch 24/30\n",
      "326/326 [==============================] - 8s 24ms/step - loss: 1.4978 - accuracy: 0.4119 - val_loss: 1.8872 - val_accuracy: 0.3102\n",
      "Epoch 25/30\n",
      "326/326 [==============================] - 8s 23ms/step - loss: 1.4940 - accuracy: 0.4151 - val_loss: 1.7442 - val_accuracy: 0.3304\n",
      "Epoch 26/30\n",
      "326/326 [==============================] - 8s 26ms/step - loss: 1.4881 - accuracy: 0.4145 - val_loss: 1.6226 - val_accuracy: 0.3478\n",
      "Epoch 27/30\n",
      "326/326 [==============================] - 8s 25ms/step - loss: 1.4827 - accuracy: 0.4187 - val_loss: 1.9436 - val_accuracy: 0.3314\n",
      "Epoch 28/30\n",
      "326/326 [==============================] - 7s 22ms/step - loss: 1.4794 - accuracy: 0.4189 - val_loss: 1.8827 - val_accuracy: 0.1854\n",
      "Epoch 29/30\n",
      "326/326 [==============================] - 7s 22ms/step - loss: 1.4732 - accuracy: 0.4211 - val_loss: 1.6944 - val_accuracy: 0.3310\n",
      "Epoch 30/30\n",
      "326/326 [==============================] - 7s 22ms/step - loss: 1.4691 - accuracy: 0.4215 - val_loss: 1.8683 - val_accuracy: 0.2970\n"
     ]
    }
   ],
   "source": [
    "# training the model and saving metrics in history\n",
    "# minibatch\n",
    "history = model.fit(X_train, y_train,\n",
    "          batch_size=128, epochs=30,\n",
    "          verbose=1,\n",
    "          validation_data=(X_valid, y_valid))"
   ]
  },
  {
   "cell_type": "code",
   "execution_count": 204,
   "metadata": {},
   "outputs": [
    {
     "name": "stdout",
     "output_type": "stream",
     "text": [
      "Epoch 1/30\n",
      "1301/1301 [==============================] - 25s 19ms/step - loss: 1.3510 - accuracy: 0.4756 - val_loss: 1.5714 - val_accuracy: 0.3862\n",
      "Epoch 2/30\n",
      "1301/1301 [==============================] - 21s 16ms/step - loss: 1.3408 - accuracy: 0.4796 - val_loss: 1.5656 - val_accuracy: 0.3870\n",
      "Epoch 3/30\n",
      "1301/1301 [==============================] - 19s 14ms/step - loss: 1.3294 - accuracy: 0.4869 - val_loss: 1.5894 - val_accuracy: 0.3796\n",
      "Epoch 4/30\n",
      "1301/1301 [==============================] - 16s 13ms/step - loss: 1.3208 - accuracy: 0.4899 - val_loss: 1.6097 - val_accuracy: 0.3950\n",
      "Epoch 5/30\n",
      "1301/1301 [==============================] - 16s 12ms/step - loss: 1.3096 - accuracy: 0.4944 - val_loss: 1.6273 - val_accuracy: 0.3952\n",
      "Epoch 6/30\n",
      "1301/1301 [==============================] - 16s 13ms/step - loss: 1.2981 - accuracy: 0.4984 - val_loss: 1.6029 - val_accuracy: 0.3968\n",
      "Epoch 7/30\n",
      "1301/1301 [==============================] - 16s 12ms/step - loss: 1.2861 - accuracy: 0.5037 - val_loss: 1.6032 - val_accuracy: 0.4062\n",
      "Epoch 8/30\n",
      "1301/1301 [==============================] - 17s 13ms/step - loss: 1.2770 - accuracy: 0.5099 - val_loss: 1.5964 - val_accuracy: 0.3736\n",
      "Epoch 9/30\n",
      "1301/1301 [==============================] - 17s 13ms/step - loss: 1.2638 - accuracy: 0.5107 - val_loss: 1.5718 - val_accuracy: 0.4104\n",
      "Epoch 10/30\n",
      "1301/1301 [==============================] - 16s 12ms/step - loss: 1.2539 - accuracy: 0.5202 - val_loss: 1.5732 - val_accuracy: 0.4006\n",
      "Epoch 11/30\n",
      "1301/1301 [==============================] - 17s 13ms/step - loss: 1.2422 - accuracy: 0.5248 - val_loss: 1.6931 - val_accuracy: 0.3678\n",
      "Epoch 12/30\n",
      "1301/1301 [==============================] - 15s 12ms/step - loss: 1.2286 - accuracy: 0.5293 - val_loss: 1.7939 - val_accuracy: 0.3278\n",
      "Epoch 13/30\n",
      "1301/1301 [==============================] - 16s 13ms/step - loss: 1.2161 - accuracy: 0.5358 - val_loss: 1.9367 - val_accuracy: 0.3468\n",
      "Epoch 14/30\n",
      "1301/1301 [==============================] - 16s 13ms/step - loss: 1.2050 - accuracy: 0.5391 - val_loss: 1.5197 - val_accuracy: 0.4308\n",
      "Epoch 15/30\n",
      "1301/1301 [==============================] - 16s 12ms/step - loss: 1.1949 - accuracy: 0.5440 - val_loss: 1.5686 - val_accuracy: 0.4138\n",
      "Epoch 16/30\n",
      "1301/1301 [==============================] - 16s 12ms/step - loss: 1.1817 - accuracy: 0.5494 - val_loss: 1.6258 - val_accuracy: 0.3918\n",
      "Epoch 17/30\n",
      "1301/1301 [==============================] - 16s 12ms/step - loss: 1.1693 - accuracy: 0.5552 - val_loss: 1.7625 - val_accuracy: 0.3454\n",
      "Epoch 18/30\n",
      "1301/1301 [==============================] - 16s 12ms/step - loss: 1.1642 - accuracy: 0.5587 - val_loss: 1.5894 - val_accuracy: 0.4118\n",
      "Epoch 19/30\n",
      "1301/1301 [==============================] - 16s 12ms/step - loss: 1.1549 - accuracy: 0.5607 - val_loss: 1.6888 - val_accuracy: 0.3736\n",
      "Epoch 20/30\n",
      "1301/1301 [==============================] - 16s 12ms/step - loss: 1.1363 - accuracy: 0.5699 - val_loss: 1.5842 - val_accuracy: 0.4196\n",
      "Epoch 21/30\n",
      "1301/1301 [==============================] - 16s 12ms/step - loss: 1.1270 - accuracy: 0.5725 - val_loss: 1.5384 - val_accuracy: 0.4348\n",
      "Epoch 22/30\n",
      "1301/1301 [==============================] - 15s 12ms/step - loss: 1.1116 - accuracy: 0.5795 - val_loss: 1.6660 - val_accuracy: 0.3928\n",
      "Epoch 23/30\n",
      "1301/1301 [==============================] - 15s 12ms/step - loss: 1.1041 - accuracy: 0.5831 - val_loss: 1.7723 - val_accuracy: 0.3596\n",
      "Epoch 24/30\n",
      "1301/1301 [==============================] - 16s 12ms/step - loss: 1.0923 - accuracy: 0.5854 - val_loss: 1.6768 - val_accuracy: 0.4054\n",
      "Epoch 25/30\n",
      "1301/1301 [==============================] - 16s 12ms/step - loss: 1.0782 - accuracy: 0.5895 - val_loss: 1.5930 - val_accuracy: 0.4320\n",
      "Epoch 26/30\n",
      "1301/1301 [==============================] - 16s 12ms/step - loss: 1.0652 - accuracy: 0.5975 - val_loss: 1.6395 - val_accuracy: 0.4202\n",
      "Epoch 27/30\n",
      "1301/1301 [==============================] - 15s 12ms/step - loss: 1.0563 - accuracy: 0.5997 - val_loss: 1.6510 - val_accuracy: 0.4216\n",
      "Epoch 28/30\n",
      "1301/1301 [==============================] - 21s 16ms/step - loss: 1.0466 - accuracy: 0.6060 - val_loss: 1.8873 - val_accuracy: 0.3584\n",
      "Epoch 29/30\n",
      "1301/1301 [==============================] - 19s 14ms/step - loss: 1.0340 - accuracy: 0.6101 - val_loss: 1.7715 - val_accuracy: 0.3978\n",
      "Epoch 30/30\n",
      "1301/1301 [==============================] - 16s 12ms/step - loss: 1.0205 - accuracy: 0.6157 - val_loss: 1.6035 - val_accuracy: 0.4324\n"
     ]
    }
   ],
   "source": [
    "#stochastic gradient decent\n",
    "historysgd = model.fit(X_train, y_train, epochs=30,\n",
    "                    validation_data=(X_valid, y_valid))"
   ]
  },
  {
   "cell_type": "code",
   "execution_count": 215,
   "metadata": {},
   "outputs": [
    {
     "data": {
      "image/png": "[encoded data removed]",
      "text/plain": [
       "<Figure size 576x360 with 1 Axes>"
      ]
     },
     "metadata": {
      "needs_background": "light"
     },
     "output_type": "display_data"
    }
   ],
   "source": [
    "pd.DataFrame(history.history).plot(figsize=(8, 5))\n",
    "plt.grid(True)\n",
    "plt.gca().set_ylim(0, 2.5)\n",
    " \n",
    "plt.show()"
   ]
  },
  {
   "cell_type": "code",
   "execution_count": 216,
   "metadata": {},
   "outputs": [
    {
     "data": {
      "image/png": "[encoded data removed]",
      "text/plain": [
       "<Figure size 576x360 with 1 Axes>"
      ]
     },
     "metadata": {
      "needs_background": "light"
     },
     "output_type": "display_data"
    }
   ],
   "source": [
    "pd.DataFrame(historysgd.history).plot(figsize=(8, 5))\n",
    "plt.grid(True)\n",
    "plt.gca().set_ylim(0, 2.5)\n",
    " \n",
    "plt.show()"
   ]
  },
  {
   "cell_type": "code",
   "execution_count": 217,
   "metadata": {},
   "outputs": [
    {
     "data": {
      "text/plain": [
       "array([[0.01, 0.16, 0.08, 0.19, 0.07, 0.11, 0.38, 0.  , 0.  , 0.  ],\n",
       "       [0.01, 0.16, 0.09, 0.18, 0.1 , 0.12, 0.34, 0.  , 0.  , 0.  ],\n",
       "       [0.01, 0.2 , 0.08, 0.16, 0.08, 0.09, 0.38, 0.  , 0.  , 0.  ]],\n",
       "      dtype=float32)"
      ]
     },
     "execution_count": 217,
     "metadata": {},
     "output_type": "execute_result"
    }
   ],
   "source": [
    "X_new = X_test[:3]\n",
    "y_proba = model.predict(X_new)\n",
    "y_proba.round(2)"
   ]
  },
  {
   "cell_type": "code",
   "execution_count": 218,
   "metadata": {},
   "outputs": [
    {
     "data": {
      "text/plain": [
       "array([6, 6, 6])"
      ]
     },
     "execution_count": 218,
     "metadata": {},
     "output_type": "execute_result"
    }
   ],
   "source": [
    "#y_pred = model.predict_classes(X_new) # deprecated\n",
    "y_pred = np.argmax(model.predict(X_new), axis=-1)\n",
    "y_pred"
   ]
  },
  {
   "cell_type": "code",
   "execution_count": 219,
   "metadata": {},
   "outputs": [
    {
     "data": {
      "text/plain": [
       "array([0.02352941, 0.01960784, 0.00392157])"
      ]
     },
     "execution_count": 219,
     "metadata": {},
     "output_type": "execute_result"
    }
   ],
   "source": [
    "np.array(class_names)[y_pred]\n",
    "y_new = y_test[:3]\n",
    "y_new"
   ]
  },
  {
   "cell_type": "code",
   "execution_count": 220,
   "metadata": {},
   "outputs": [],
   "source": [
    "K = keras.backend\n",
    "\n",
    "class ExponentialLearningRate(keras.callbacks.Callback):\n",
    "    def __init__(self, factor):\n",
    "        self.factor = factor\n",
    "        self.rates = []\n",
    "        self.losses = []\n",
    "    def on_batch_end(self, batch, logs):\n",
    "        self.rates.append(K.get_value(self.model.optimizer.lr))\n",
    "        self.losses.append(logs[\"loss\"])\n",
    "        K.set_value(self.model.optimizer.lr, self.model.optimizer.lr * self.factor)"
   ]
  },
  {
   "cell_type": "code",
   "execution_count": 221,
   "metadata": {},
   "outputs": [],
   "source": [
    "#clear the section\n",
    "keras.backend.clear_session()\n",
    "np.random.seed(42)\n",
    "tf.random.set_seed(42)\n",
    "\n",
    "model = keras.models.Sequential([\n",
    "    keras.layers.Flatten(input_shape=[128, 128]),\n",
    "    keras.layers.Dense(300, activation=\"relu\"),\n",
    "    keras.layers.Dense(100, activation=\"relu\"),\n",
    "    keras.layers.Dense(10, activation=\"softmax\")\n",
    "])"
   ]
  },
  {
   "cell_type": "code",
   "execution_count": 222,
   "metadata": {},
   "outputs": [],
   "source": [
    "model.compile(loss=\"sparse_categorical_crossentropy\",\n",
    "              optimizer=keras.optimizers.SGD(learning_rate=1e-3),\n",
    "              metrics=[\"accuracy\"])\n",
    "expon_lr = ExponentialLearningRate(factor=1.005)"
   ]
  },
  {
   "cell_type": "code",
   "execution_count": 223,
   "metadata": {},
   "outputs": [
    {
     "name": "stdout",
     "output_type": "stream",
     "text": [
      "1301/1301 [==============================] - 29s 21ms/step - loss: 1.7827 - accuracy: 0.2918 - val_loss: 1.7847 - val_accuracy: 0.2854\n"
     ]
    }
   ],
   "source": [
    "history = model.fit(X_train, y_train, epochs=1,\n",
    "                    validation_data=(X_valid, y_valid),\n",
    "                    callbacks=[expon_lr])"
   ]
  },
  {
   "cell_type": "code",
   "execution_count": 224,
   "metadata": {},
   "outputs": [
    {
     "data": {
      "text/plain": [
       "Text(0, 0.5, 'Loss')"
      ]
     },
     "execution_count": 224,
     "metadata": {},
     "output_type": "execute_result"
    },
    {
     "data": {
      "image/png": "[encoded data removed]",
      "text/plain": [
       "<Figure size 432x288 with 1 Axes>"
      ]
     },
     "metadata": {
      "needs_background": "light"
     },
     "output_type": "display_data"
    }
   ],
   "source": [
    "plt.plot(expon_lr.rates, expon_lr.losses)\n",
    "plt.gca().set_xscale('log')\n",
    "plt.hlines(min(expon_lr.losses), min(expon_lr.rates), max(expon_lr.rates))\n",
    "plt.axis([min(expon_lr.rates), max(expon_lr.rates), 0, expon_lr.losses[0]])\n",
    "plt.grid()\n",
    "plt.xlabel(\"Learning rate\")\n",
    "plt.ylabel(\"Loss\")"
   ]
  },
  {
   "cell_type": "code",
   "execution_count": 225,
   "metadata": {},
   "outputs": [],
   "source": [
    "model = keras.models.Sequential([\n",
    "    keras.layers.Flatten(input_shape=[128, 128]),\n",
    "    keras.layers.Dense(300, activation=\"relu\"),\n",
    "    keras.layers.Dense(100, activation=\"relu\"),\n",
    "    keras.layers.Dense(10, activation=\"softmax\")\n",
    "])"
   ]
  },
  {
   "cell_type": "code",
   "execution_count": 226,
   "metadata": {},
   "outputs": [
    {
     "name": "stderr",
     "output_type": "stream",
     "text": [
      "/Users/maxleroux/opt/anaconda3/lib/python3.9/site-packages/keras/optimizer_v2/gradient_descent.py:102: UserWarning: The `lr` argument is deprecated, use `learning_rate` instead.\n",
      "  super(SGD, self).__init__(name, **kwargs)\n"
     ]
    }
   ],
   "source": [
    "model.compile(loss=\"sparse_categorical_crossentropy\",\n",
    "              optimizer=tf.keras.optimizers.SGD(lr=8e-1),\n",
    "              metrics=[\"accuracy\"])"
   ]
  },
  {
   "cell_type": "code",
   "execution_count": 227,
   "metadata": {},
   "outputs": [
    {
     "name": "stdout",
     "output_type": "stream",
     "text": [
      "Epoch 1/100\n",
      "1301/1301 [==============================] - 28s 21ms/step - loss: 106932.6484 - accuracy: 0.2742 - val_loss: 1.7341 - val_accuracy: 0.2854\n",
      "Epoch 2/100\n",
      "1301/1301 [==============================] - 19s 15ms/step - loss: 1.7329 - accuracy: 0.2767 - val_loss: 1.7303 - val_accuracy: 0.2854\n",
      "Epoch 3/100\n",
      "1301/1301 [==============================] - 18s 14ms/step - loss: 1.7227 - accuracy: 0.2782 - val_loss: 1.7292 - val_accuracy: 0.2854\n",
      "Epoch 4/100\n",
      "1301/1301 [==============================] - 19s 14ms/step - loss: 1.7220 - accuracy: 0.2734 - val_loss: 1.7294 - val_accuracy: 0.2602\n",
      "Epoch 5/100\n",
      "1301/1301 [==============================] - 17s 13ms/step - loss: 1.7214 - accuracy: 0.2761 - val_loss: 1.7273 - val_accuracy: 0.2602\n",
      "Epoch 6/100\n",
      "1301/1301 [==============================] - 17s 13ms/step - loss: 1.7209 - accuracy: 0.2785 - val_loss: 1.7284 - val_accuracy: 0.2602\n",
      "Epoch 7/100\n",
      "1301/1301 [==============================] - 18s 14ms/step - loss: 1.7206 - accuracy: 0.2786 - val_loss: 1.7284 - val_accuracy: 0.2602\n",
      "Epoch 8/100\n",
      "1301/1301 [==============================] - 17s 13ms/step - loss: 1.7206 - accuracy: 0.2746 - val_loss: 1.7258 - val_accuracy: 0.2854\n",
      "Epoch 9/100\n",
      "1301/1301 [==============================] - 17s 13ms/step - loss: 1.7205 - accuracy: 0.2767 - val_loss: 1.7259 - val_accuracy: 0.2854\n",
      "Epoch 10/100\n",
      "1301/1301 [==============================] - 17s 13ms/step - loss: 1.7202 - accuracy: 0.2764 - val_loss: 1.7279 - val_accuracy: 0.2854\n",
      "Epoch 11/100\n",
      "1301/1301 [==============================] - 18s 14ms/step - loss: 1.7203 - accuracy: 0.2767 - val_loss: 1.7284 - val_accuracy: 0.2602\n",
      "Epoch 12/100\n",
      "1301/1301 [==============================] - 17s 13ms/step - loss: 1.7203 - accuracy: 0.2780 - val_loss: 1.7288 - val_accuracy: 0.2602\n",
      "Epoch 13/100\n",
      "1301/1301 [==============================] - 17s 13ms/step - loss: 1.7202 - accuracy: 0.2795 - val_loss: 1.7268 - val_accuracy: 0.2854\n",
      "Epoch 14/100\n",
      "1301/1301 [==============================] - 19s 15ms/step - loss: 1.7202 - accuracy: 0.2771 - val_loss: 1.7256 - val_accuracy: 0.2854\n",
      "Epoch 15/100\n",
      "1301/1301 [==============================] - 20s 15ms/step - loss: 1.7200 - accuracy: 0.2737 - val_loss: 1.7278 - val_accuracy: 0.2602\n",
      "Epoch 16/100\n",
      "1301/1301 [==============================] - 17s 13ms/step - loss: 1.7199 - accuracy: 0.2803 - val_loss: 1.7280 - val_accuracy: 0.2602\n",
      "Epoch 17/100\n",
      "1301/1301 [==============================] - 18s 14ms/step - loss: 1.7202 - accuracy: 0.2777 - val_loss: 1.7270 - val_accuracy: 0.2602\n",
      "Epoch 18/100\n",
      "1301/1301 [==============================] - 20s 15ms/step - loss: 1.7199 - accuracy: 0.2785 - val_loss: 1.7257 - val_accuracy: 0.2854\n",
      "Epoch 19/100\n",
      "1301/1301 [==============================] - 18s 14ms/step - loss: 1.7201 - accuracy: 0.2765 - val_loss: 1.7267 - val_accuracy: 0.2854\n",
      "Epoch 20/100\n",
      "1301/1301 [==============================] - 20s 16ms/step - loss: 1.7199 - accuracy: 0.2755 - val_loss: 1.7255 - val_accuracy: 0.2854\n",
      "Epoch 21/100\n",
      "1301/1301 [==============================] - 19s 15ms/step - loss: 1.7200 - accuracy: 0.2766 - val_loss: 1.7254 - val_accuracy: 0.2854\n",
      "Epoch 22/100\n",
      "1301/1301 [==============================] - 18s 14ms/step - loss: 1.7199 - accuracy: 0.2755 - val_loss: 1.7282 - val_accuracy: 0.2602\n",
      "Epoch 23/100\n",
      "1301/1301 [==============================] - 21s 16ms/step - loss: 1.7199 - accuracy: 0.2756 - val_loss: 1.7287 - val_accuracy: 0.2602\n",
      "Epoch 24/100\n",
      "1301/1301 [==============================] - 22s 17ms/step - loss: 1.7197 - accuracy: 0.2774 - val_loss: 1.7279 - val_accuracy: 0.2854\n",
      "Epoch 25/100\n",
      "1301/1301 [==============================] - 24s 18ms/step - loss: 1.7197 - accuracy: 0.2812 - val_loss: 1.7265 - val_accuracy: 0.2602\n",
      "Epoch 26/100\n",
      "1301/1301 [==============================] - 23s 17ms/step - loss: 1.7198 - accuracy: 0.2754 - val_loss: 1.7266 - val_accuracy: 0.2854\n",
      "Epoch 27/100\n",
      "1301/1301 [==============================] - 22s 17ms/step - loss: 1.7199 - accuracy: 0.2766 - val_loss: 1.7268 - val_accuracy: 0.2854\n",
      "Epoch 28/100\n",
      "1301/1301 [==============================] - 23s 18ms/step - loss: 1.7200 - accuracy: 0.2743 - val_loss: 1.7260 - val_accuracy: 0.2854\n"
     ]
    }
   ],
   "source": [
    "from tensorflow.keras.callbacks import EarlyStopping\n",
    "from tensorflow.keras import layers, callbacks\n",
    "\n",
    "keras.backend.clear_session()\n",
    "np.random.seed(42)\n",
    "tf.random.set_seed(42)\n",
    "\n",
    "model = keras.models.Sequential([\n",
    "    keras.layers.Flatten(input_shape=[128, 128]),\n",
    "    keras.layers.Dense(300, activation=\"relu\"),\n",
    "    keras.layers.Dense(100, activation=\"relu\"),\n",
    "    keras.layers.Dense(10, activation=\"softmax\")\n",
    "])\n",
    "#The model needs to be recalled each time.\n",
    "\n",
    "model.compile(loss=\"sparse_categorical_crossentropy\",\n",
    "              optimizer=tf.keras.optimizers.SGD(lr=2e-1),\n",
    "              metrics=[\"accuracy\"])\n",
    "\n",
    "run_index = 1 # increment this at every run\n",
    "run_logdir = os.path.join(os.curdir, \"my_mnist_logs\", \"run_{:03d}\".format(run_index))\n",
    "\n",
    "early_stopping_cb = keras.callbacks.EarlyStopping(\n",
    "    min_delta=0.001, # minimium amount of change to count as an improvement\n",
    "    patience=20, # how many epochs to wait before stopping\n",
    ")\n",
    "checkpoint_cb = keras.callbacks.ModelCheckpoint(\"my_mnist_model.h5\", save_best_only=True)\n",
    "tensorboard_cb = keras.callbacks.TensorBoard(run_logdir)\n",
    "\n",
    "history = model.fit(X_train, y_train, epochs=100,\n",
    "                    validation_data=(X_valid, y_valid),\n",
    "                    callbacks=[checkpoint_cb, early_stopping_cb, tensorboard_cb])"
   ]
  },
  {
   "cell_type": "code",
   "execution_count": 228,
   "metadata": {},
   "outputs": [
    {
     "name": "stdout",
     "output_type": "stream",
     "text": [
      "365/365 [==============================] - 3s 7ms/step - loss: 4.1983 - accuracy: 0.0000e+00\n",
      "157/157 [==============================] - 2s 7ms/step - loss: 1.7254 - accuracy: 0.2854\n",
      "1301/1301 [==============================] - 13s 10ms/step - loss: 1.7195 - accuracy: 0.2792\n"
     ]
    },
    {
     "data": {
      "text/plain": [
       "[1.7195444107055664, 0.279174268245697]"
      ]
     },
     "execution_count": 228,
     "metadata": {},
     "output_type": "execute_result"
    }
   ],
   "source": [
    "model = keras.models.load_model(\"my_mnist_model.h5\") # rollback to best model\n",
    "model.evaluate(X_test, y_test)\n",
    "model.evaluate(X_valid, y_valid)\n",
    "model.evaluate(X_train, y_train)"
   ]
  },
  {
   "cell_type": "code",
   "execution_count": 229,
   "metadata": {},
   "outputs": [
    {
     "name": "stdout",
     "output_type": "stream",
     "text": [
      "Epoch 1/20\n",
      "1301/1301 [==============================] - 18s 12ms/step - loss: 4.1553 - val_loss: 3.4022\n",
      "Epoch 2/20\n",
      "1301/1301 [==============================] - 7s 6ms/step - loss: 3.3146 - val_loss: 3.2325\n",
      "Epoch 3/20\n",
      "1301/1301 [==============================] - 8s 6ms/step - loss: 3.2588 - val_loss: 3.2403\n",
      "Epoch 4/20\n",
      "1301/1301 [==============================] - 8s 6ms/step - loss: 3.2548 - val_loss: 3.2414\n",
      "Epoch 5/20\n",
      "1301/1301 [==============================] - 8s 6ms/step - loss: 3.2517 - val_loss: 3.2222\n",
      "Epoch 6/20\n",
      "1301/1301 [==============================] - 7s 6ms/step - loss: 3.2496 - val_loss: 3.2252\n",
      "Epoch 7/20\n",
      "1301/1301 [==============================] - 7s 5ms/step - loss: 3.2488 - val_loss: 3.2174\n",
      "Epoch 8/20\n",
      "1301/1301 [==============================] - 7s 5ms/step - loss: 3.2485 - val_loss: 3.2198\n",
      "Epoch 9/20\n",
      "1301/1301 [==============================] - 9s 7ms/step - loss: 3.2466 - val_loss: 3.2173\n",
      "Epoch 10/20\n",
      "1301/1301 [==============================] - 8s 6ms/step - loss: 3.2453 - val_loss: 3.2154\n",
      "Epoch 11/20\n",
      "1301/1301 [==============================] - 8s 7ms/step - loss: 3.2447 - val_loss: 3.2150\n",
      "Epoch 12/20\n",
      "1301/1301 [==============================] - 9s 7ms/step - loss: 3.2467 - val_loss: 3.2155\n",
      "Epoch 13/20\n",
      "1301/1301 [==============================] - 8s 6ms/step - loss: 3.2454 - val_loss: 3.2476\n",
      "Epoch 14/20\n",
      "1301/1301 [==============================] - 8s 6ms/step - loss: 3.2446 - val_loss: 3.2196\n",
      "Epoch 15/20\n",
      "1301/1301 [==============================] - 8s 6ms/step - loss: 3.2437 - val_loss: 3.2242\n",
      "Epoch 16/20\n",
      "1301/1301 [==============================] - 8s 6ms/step - loss: 3.2437 - val_loss: 3.2517\n",
      "Epoch 17/20\n",
      "1301/1301 [==============================] - 9s 7ms/step - loss: 3.2438 - val_loss: 3.2234\n",
      "Epoch 18/20\n",
      "1301/1301 [==============================] - 8s 6ms/step - loss: 3.2432 - val_loss: 3.2129\n",
      "Epoch 19/20\n",
      "1301/1301 [==============================] - 7s 6ms/step - loss: 3.2435 - val_loss: 3.2148\n",
      "Epoch 20/20\n",
      "1301/1301 [==============================] - 8s 6ms/step - loss: 3.2441 - val_loss: 3.2127\n",
      "365/365 [==============================] - 4s 8ms/step - loss: 13.9361\n"
     ]
    }
   ],
   "source": [
    "from sklearn.preprocessing import StandardScaler\n",
    "\n",
    "scaler = StandardScaler()\n",
    "\n",
    "np.random.seed(42)\n",
    "tf.random.set_seed(42)\n",
    "\n",
    "model = keras.models.Sequential([\n",
    "    keras.layers.Dense(30, activation=\"relu\", input_shape=X_train.shape[1:]),\n",
    "    keras.layers.Dense(1)\n",
    "])\n",
    "model.compile(loss=\"mean_squared_error\", optimizer=tf.keras.optimizers.SGD(lr=1e-3))\n",
    "history = model.fit(X_train, y_train, epochs=20, validation_data=(X_valid, y_valid))\n",
    "mse_test = model.evaluate(X_test, y_test)\n",
    "X_new = X_test[:3]\n",
    "y_pred = model.predict(X_new)"
   ]
  },
  {
   "cell_type": "code",
   "execution_count": 230,
   "metadata": {},
   "outputs": [
    {
     "data": {
      "image/png": "[encoded data removed]",
      "text/plain": [
       "<Figure size 432x288 with 1 Axes>"
      ]
     },
     "metadata": {
      "needs_background": "light"
     },
     "output_type": "display_data"
    }
   ],
   "source": [
    "plt.plot(pd.DataFrame(history.history))\n",
    "plt.grid(True)\n",
    "plt.gca().set_ylim(0, 5)\n",
    "plt.show()"
   ]
  },
  {
   "cell_type": "code",
   "execution_count": null,
   "metadata": {},
   "outputs": [],
   "source": []
  }
 ],
 "metadata": {
  "kernelspec": {
   "display_name": "Python 3.9.12 ('base')",
   "language": "python",
   "name": "python3"
  },
  "language_info": {
   "codemirror_mode": {
    "name": "ipython",
    "version": 3
   },
   "file_extension": ".py",
   "mimetype": "text/x-python",
   "name": "python",
   "nbconvert_exporter": "python",
   "pygments_lexer": "ipython3",
   "version": "3.9.12"
  },
  "vscode": {
   "interpreter": {
    "hash": "a6f23c1e824f6170352d06cc12395b09d0b6a41c8cdaaad4a237d4edd2fffac5"
   }
  }
 },
 "nbformat": 4,
 "nbformat_minor": 2
}
