{
 "cells": [
  {
   "cell_type": "code",
   "execution_count": 4,
   "metadata": {},
   "outputs": [],
   "source": [
    "\n",
    "import pandas as pd \n",
    "import os \n",
    "import numpy as np \n",
    "import matplotlib.pyplot as plt \n",
    "from sklearn import svm \n",
    "from sklearn.model_selection import GridSearchCV \n",
    "from sklearn.model_selection import train_test_split \n",
    "from sklearn.metrics import accuracy_score \n",
    "from sklearn.metrics import classification_report\n",
    "from PIL import Image\n"
   ]
  },
  {
   "cell_type": "code",
   "execution_count": 8,
   "metadata": {},
   "outputs": [
    {
     "name": "stdout",
     "output_type": "stream",
     "text": [
      "Loading category: epidural\n",
      "Loaded category: epidural successfully\n",
      "Loading category: intraparenchymal\n",
      "Loaded category: intraparenchymal successfully\n",
      "Loading category: intraventricular\n",
      "Loaded category: intraventricular successfully\n",
      "Loading category: subarachnoid\n",
      "Loaded category: subarachnoid successfully\n",
      "Loading category: normal\n",
      "Loaded category: normal successfully\n",
      "Loading category: multi\n",
      "Loaded category: multi successfully\n"
     ]
    }
   ],
   "source": [
    "\n",
    "Categories=['epidural','intraparenchymal','intraventricular','subarachnoid','normal', 'multi'] \n",
    "flat_data_arr=[] #input array \n",
    "target_arr=[] #output array \n",
    "datadir='data/' \n",
    "\n",
    "for category in Categories: \n",
    "    print(f'Loading category: {category}') \n",
    "    category_path = os.path.join(datadir, category, 'brain_window')  # limit to one image type for now\n",
    "    \n",
    "    for img_name in os.listdir(category_path): \n",
    "        img_path = os.path.join(category_path, img_name)\n",
    "        \n",
    "        img = Image.open(img_path)\n",
    "        img_resized = img.resize((250, 250))\n",
    "        \n",
    "        img_array = np.array(img_resized)\n",
    "        flat_data_arr.append(img_array.flatten())\n",
    "        \n",
    "        target_arr.append(Categories.index(category))\n",
    "    \n",
    "    print(f'Loaded category: {category} successfully') \n",
    "\n",
    "flat_data = np.array(flat_data_arr) \n",
    "target = np.array(target_arr)"
   ]
  },
  {
   "cell_type": "code",
   "execution_count": 9,
   "metadata": {},
   "outputs": [
    {
     "data": {
      "text/plain": [
       "(81813, 187501)"
      ]
     },
     "execution_count": 9,
     "metadata": {},
     "output_type": "execute_result"
    }
   ],
   "source": [
    "df=pd.DataFrame(flat_data)  \n",
    "df['Target']=target \n",
    "df.shape\n"
   ]
  },
  {
   "cell_type": "code",
   "execution_count": 10,
   "metadata": {},
   "outputs": [],
   "source": [
    "x=df.iloc[:,:-1]  \n",
    "y=df.iloc[:,-1]"
   ]
  },
  {
   "cell_type": "code",
   "execution_count": 11,
   "metadata": {},
   "outputs": [],
   "source": [
    "x_train,x_test,y_train,y_test=train_test_split(x,y,test_size=0.20, \n",
    "                                               random_state=77, \n",
    "                                               stratify=y) "
   ]
  },
  {
   "cell_type": "code",
   "execution_count": 12,
   "metadata": {},
   "outputs": [],
   "source": [
    "\n",
    "param_grid={'C':[0.1,1,10,100], \n",
    "            'gamma':[0.0001,0.001,0.1,1], \n",
    "            'kernel':['rbf','poly']} \n",
    "  \n",
    "svc=svm.SVC(probability=True) \n",
    "  \n",
    "model=GridSearchCV(svc,param_grid)"
   ]
  },
  {
   "cell_type": "code",
   "execution_count": 13,
   "metadata": {},
   "outputs": [
    {
     "ename": "",
     "evalue": "",
     "output_type": "error",
     "traceback": [
      "\u001b[1;31mThe Kernel crashed while executing code in the current cell or a previous cell. \n",
      "\u001b[1;31mPlease review the code in the cell(s) to identify a possible cause of the failure. \n",
      "\u001b[1;31mClick <a href='https://aka.ms/vscodeJupyterKernelCrash'>here</a> for more info. \n",
      "\u001b[1;31mView Jupyter <a href='command:jupyter.viewOutput'>log</a> for further details."
     ]
    }
   ],
   "source": [
    "\n",
    "model.fit(x_train,y_train)"
   ]
  },
  {
   "cell_type": "code",
   "execution_count": null,
   "metadata": {},
   "outputs": [],
   "source": [
    "\n",
    "# Testing the model using the testing data \n",
    "y_pred = model.predict(x_test) \n",
    "  \n",
    "# Calculating the accuracy of the model \n",
    "accuracy = accuracy_score(y_pred, y_test) \n",
    "  \n",
    "# Print the accuracy of the model \n",
    "print(f\"The model is {accuracy*100}% accurate\")"
   ]
  },
  {
   "cell_type": "code",
   "execution_count": null,
   "metadata": {},
   "outputs": [],
   "source": [
    "\n",
    "print(classification_report(y_test, y_pred, target_names=Categories))"
   ]
  },
  {
   "cell_type": "markdown",
   "metadata": {},
   "source": [
    "Could show prediciton for specific images?"
   ]
  },
  {
   "cell_type": "code",
   "execution_count": null,
   "metadata": {},
   "outputs": [],
   "source": [
    "from PIL import Image\n",
    "import matplotlib.pyplot as plt\n",
    "import numpy as np\n",
    "\n",
    "# Load the image using PIL\n",
    "path = 'data/epidural/brain_bone_window/ID_0a3f30540.jpg'\n",
    "img = Image.open(path)\n",
    "\n",
    "# Display the image using matplotlib\n",
    "plt.imshow(img)\n",
    "plt.show()\n",
    "\n",
    "# Resize the image\n",
    "img_resized = img.resize((250, 250))\n",
    "\n",
    "# Convert the resized image to a numpy array and flatten it\n",
    "img_array = np.array(img_resized)\n",
    "flat_data = img_array.flatten()\n",
    "\n",
    "# Create a list with the flattened image data\n",
    "l = [flat_data]\n",
    "\n",
    "# Assuming 'model' is your trained model\n",
    "probability = model.predict_proba(l)\n",
    "\n",
    "# Display the prediction probabilities for each category\n",
    "for ind, val in enumerate(Categories):\n",
    "    print(f'{val} = {probability[0][ind]*100}%')\n",
    "\n",
    "# Get the predicted category\n",
    "predicted_category = Categories[model.predict(l)[0]]\n",
    "print(\"The predicted image is : \" + predicted_category)\n"
   ]
  }
 ],
 "metadata": {
  "kernelspec": {
   "display_name": "Python 3",
   "language": "python",
   "name": "python3"
  },
  "language_info": {
   "codemirror_mode": {
    "name": "ipython",
    "version": 3
   },
   "file_extension": ".py",
   "mimetype": "text/x-python",
   "name": "python",
   "nbconvert_exporter": "python",
   "pygments_lexer": "ipython3",
   "version": "3.12.1"
  }
 },
 "nbformat": 4,
 "nbformat_minor": 2
}
