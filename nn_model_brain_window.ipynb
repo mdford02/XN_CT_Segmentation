{
 "cells": [
  {
   "cell_type": "markdown",
   "metadata": {},
   "source": [
    "### 1. Get Train \\& Test Data"
   ]
  },
  {
   "cell_type": "code",
   "execution_count": 147,
   "metadata": {},
   "outputs": [
    {
     "name": "stdout",
     "output_type": "stream",
     "text": [
      "Number of type 0:  107\n",
      "Number of type 1:  15664\n",
      "Number of type 2:  9878\n",
      "Number of type 3:  32074\n",
      "Number of type 4:  6080\n",
      "Number of type 5:  16423\n",
      "Number of type 6:  32200\n"
     ]
    }
   ],
   "source": [
    "import os \n",
    "from PIL import Image, ImageOps\n",
    "import numpy as np\n",
    "import tensorflow as tf\n",
    "from tensorflow import keras\n",
    "import pandas as pd\n",
    "import matplotlib.pyplot as plt\n",
    "\n",
    "path1 = []\n",
    "path2 = []\n",
    "path3 = []\n",
    "path4 = []\n",
    "path5 = []\n",
    "path6 = []\n",
    "path7 = []\n",
    "\n",
    "# Testing just for brain_bone_window, could combine all windows\n",
    "for dirname, _, filenames in os.walk('epidural/brain_window'):\n",
    "    for filename in filenames:\n",
    "        path1.append(os.path.join(dirname, filename))\n",
    "    print(\"Number of type 0: \", len(filenames))\n",
    "        \n",
    "for dirname, _, filenames in os.walk('intraparenchymal/brain_window'):\n",
    "    for filename in filenames:\n",
    "        path2.append(os.path.join(dirname, filename))\n",
    "    print(\"Number of type 1: \", len(filenames))\n",
    "        \n",
    "for dirname, _, filenames in os.walk('intraventricular/brain_window'):\n",
    "    for filename in filenames:\n",
    "        path3.append(os.path.join(dirname, filename))\n",
    "    print(\"Number of type 2: \", len(filenames))\n",
    "        \n",
    "for dirname, _, filenames in os.walk('multi/brain_window'):\n",
    "    for filename in filenames:\n",
    "        path4.append(os.path.join(dirname, filename))  \n",
    "    print(\"Number of type 3: \", len(filenames))\n",
    "\n",
    "for dirname, _, filenames in os.walk('normal/brain_window'):\n",
    "    for filename in filenames:\n",
    "        path5.append(os.path.join(dirname, filename))  \n",
    "    print(\"Number of type 4: \", len(filenames))\n",
    "\n",
    "for dirname, _, filenames in os.walk('subarachnoid/brain_window'):\n",
    "    for filename in filenames:\n",
    "        path6.append(os.path.join(dirname, filename))  \n",
    "    print(\"Number of type 5: \", len(filenames))\n",
    "\n",
    "for dirname, _, filenames in os.walk('subdural/brain_window'):\n",
    "    for filename in filenames:\n",
    "        path7.append(os.path.join(dirname, filename))  \n",
    "    print(\"Number of type 6: \", len(filenames))"
   ]
  },
  {
   "cell_type": "code",
   "execution_count": 148,
   "metadata": {},
   "outputs": [
    {
     "data": {
      "text/plain": [
       "OneHotEncoder()"
      ]
     },
     "execution_count": 148,
     "metadata": {},
     "output_type": "execute_result"
    }
   ],
   "source": [
    "from sklearn.preprocessing import OneHotEncoder\n",
    "\n",
    "# One Hot Encoding\n",
    "encoder = OneHotEncoder()\n",
    "encoder.fit([[0],[1],[2],[3],[4],[5], [6]])"
   ]
  },
  {
   "cell_type": "code",
   "execution_count": 149,
   "metadata": {},
   "outputs": [],
   "source": [
    "import random\n",
    "\n",
    "\n",
    "data = []\n",
    "result = []\n",
    "\n",
    "for path in path1:\n",
    "    img = Image.open(path)\n",
    "    img = ImageOps.grayscale(img) # Removes RGB dimension from image, not sure if this is alright\n",
    "    img = img.resize((128,128))\n",
    "    img = np.array(img)\n",
    "    if(img.shape == (128,128)):\n",
    "        data.append(np.array(img))\n",
    "        result.append(0)\n",
    "        \n",
    "for path in path2:\n",
    "    img = Image.open(path)\n",
    "    img = ImageOps.grayscale(img)\n",
    "    img = img.resize((128,128))\n",
    "    img = np.array(img)\n",
    "    if(img.shape == (128,128)):\n",
    "        data.append(np.array(img))\n",
    "        result.append(1) \n",
    "        \n",
    "for path in path3:\n",
    "    img = Image.open(path)\n",
    "    img = ImageOps.grayscale(img)\n",
    "    img = img.resize((128,128))\n",
    "    img = np.array(img)\n",
    "    if(img.shape == (128,128)):\n",
    "        data.append(np.array(img))\n",
    "        result.append(2)\n",
    "        \n",
    "for path in path4:\n",
    "    img = Image.open(path)\n",
    "    img = ImageOps.grayscale(img)\n",
    "    img = img.resize((128,128))\n",
    "    img = np.array(img)\n",
    "    if(img.shape == (128,128)):\n",
    "        data.append(np.array(img))\n",
    "        result.append(3)\n",
    "\n",
    "for path in path5:\n",
    "    img = Image.open(path)\n",
    "    img = ImageOps.grayscale(img)\n",
    "    img = img.resize((128,128))\n",
    "    img = np.array(img)\n",
    "    if(img.shape == (128,128)):\n",
    "        data.append(np.array(img))\n",
    "        result.append(4)\n",
    "        \n",
    "for path in path6:\n",
    "    img = Image.open(path)\n",
    "    img = ImageOps.grayscale(img)\n",
    "    img = img.resize((128,128))\n",
    "    img = np.array(img)\n",
    "    if(img.shape == (128,128)):\n",
    "        data.append(np.array(img))\n",
    "        result.append(5)\n",
    "\n",
    "for path in path7:\n",
    "    img = Image.open(path)\n",
    "    img = ImageOps.grayscale(img)\n",
    "    img = img.resize((128,128))\n",
    "    img = np.array(img)\n",
    "    if(img.shape == (128,128)):\n",
    "        data.append(np.array(img))\n",
    "        result.append(6)\n",
    "\n",
    "length = len(data)\n",
    "\n",
    "indices = np.arange(length)\n",
    "np.random.shuffle(indices)\n",
    "\n",
    "# Shuffle both arrays using the shuffled indices\n",
    "shuffled_data = [data[i] for i in indices]\n",
    "shuffled_result = [result[i] for i in indices]\n",
    "\n",
    "train_data = shuffled_data[0:int(length*0.4)]\n",
    "train_result = shuffled_result[0:int(length*0.4)]\n",
    "\n",
    "test_data = shuffled_data[int(length*0.4):int(length*0.5)]\n",
    "test_result = shuffled_result[int(length*0.4):int(length*0.5)] # FIXME: trying to reduce data so calling fit() doesn't take forever"
   ]
  },
  {
   "cell_type": "code",
   "execution_count": 150,
   "metadata": {},
   "outputs": [
    {
     "data": {
      "text/plain": [
       "(11243,)"
      ]
     },
     "execution_count": 150,
     "metadata": {},
     "output_type": "execute_result"
    }
   ],
   "source": [
    "test_data = np.array(test_data)\n",
    "test_data.shape\n",
    "\n",
    "test_result = np.array(test_result)\n",
    "test_result.shape"
   ]
  },
  {
   "cell_type": "code",
   "execution_count": 151,
   "metadata": {},
   "outputs": [
    {
     "data": {
      "text/plain": [
       "(44970,)"
      ]
     },
     "execution_count": 151,
     "metadata": {},
     "output_type": "execute_result"
    }
   ],
   "source": [
    "train_data = np.array(train_data)\n",
    "test_data.shape\n",
    "\n",
    "train_result = np.array(train_result)\n",
    "train_result.shape"
   ]
  },
  {
   "cell_type": "code",
   "execution_count": 152,
   "metadata": {},
   "outputs": [
    {
     "name": "stdout",
     "output_type": "stream",
     "text": [
      "train data:  (44970, 128, 128)\n",
      "test data:  (11243, 128, 128)\n",
      "train data after reshape:  (44970, 16384)\n",
      "test data after reshape:  (11243, 16384)\n"
     ]
    }
   ],
   "source": [
    "# Confirm shape of data \n",
    "print(\"train data: \", train_data.shape)\n",
    "print(\"test data: \", test_data.shape)\n",
    "print(\"train data after reshape: \", train_data.reshape(-1,128*128).shape)\n",
    "print(\"test data after reshape: \", test_data.reshape(-1,128*128).shape)"
   ]
  },
  {
   "cell_type": "markdown",
   "metadata": {},
   "source": [
    "### 2. Build the Neural Network\n"
   ]
  },
  {
   "cell_type": "code",
   "execution_count": 153,
   "metadata": {},
   "outputs": [
    {
     "name": "stdout",
     "output_type": "stream",
     "text": [
      "(39970, 128, 128) (5000, 128, 128) (11243, 128, 128)\n",
      "(39970,) (5000,) (11243,)\n"
     ]
    }
   ],
   "source": [
    "X_valid, X_train = train_data[:5000] / 255., train_data[5000:] / 255.\n",
    "y_valid, y_train = train_result[:5000], train_result[5000:]\n",
    "X_test = test_data / 255.\n",
    "y_test = test_result / 255.\n",
    "print(X_train.shape, X_valid.shape, X_test.shape)\n",
    "print(y_train.shape, y_valid.shape, y_test.shape)"
   ]
  },
  {
   "cell_type": "code",
   "execution_count": 156,
   "metadata": {},
   "outputs": [
    {
     "name": "stdout",
     "output_type": "stream",
     "text": [
      "(39970, 1)\n"
     ]
    }
   ],
   "source": [
    "print(y_train.reshape(39970,-1).reshape(39970, -1).shape)"
   ]
  },
  {
   "cell_type": "code",
   "execution_count": 157,
   "metadata": {},
   "outputs": [
    {
     "data": {
      "text/plain": [
       "array([6, 5, 3, ..., 6, 2, 5])"
      ]
     },
     "execution_count": 157,
     "metadata": {},
     "output_type": "execute_result"
    }
   ],
   "source": [
    "y_train"
   ]
  },
  {
   "cell_type": "code",
   "execution_count": 158,
   "metadata": {},
   "outputs": [],
   "source": [
    "class_names = [\"0\", \"1\", \"2\", \"3\", \"4\", \"5\", \"6\"]"
   ]
  },
  {
   "cell_type": "code",
   "execution_count": 159,
   "metadata": {},
   "outputs": [
    {
     "data": {
      "text/plain": [
       "[<keras.layers.core.flatten.Flatten at 0x7fc2d682c160>,\n",
       " <keras.layers.core.dense.Dense at 0x7fbfe3e6cb80>,\n",
       " <keras.layers.core.dense.Dense at 0x7fbfe3e6c3a0>,\n",
       " <keras.layers.core.dense.Dense at 0x7fbfcf083d00>]"
      ]
     },
     "execution_count": 159,
     "metadata": {},
     "output_type": "execute_result"
    }
   ],
   "source": [
    "model = keras.models.Sequential()\n",
    "model.add(keras.layers.Flatten(input_shape=[128, 128]))\n",
    "model.add(keras.layers.Dense(300, activation=\"relu\"))\n",
    "model.add(keras.layers.Dense(100, activation=\"relu\"))\n",
    "model.add(keras.layers.Dense(10, activation=\"softmax\"))\n",
    "\n",
    "keras.backend.clear_session()\n",
    "np.random.seed(42)\n",
    "tf.random.set_seed(42)\n",
    "\n",
    "model = keras.models.Sequential([\n",
    "    keras.layers.Flatten(input_shape=[128, 128]),\n",
    "    keras.layers.Dense(300, activation=\"relu\"),\n",
    "    keras.layers.Dense(100, activation=\"relu\"),\n",
    "    keras.layers.Dense(10, activation=\"softmax\")\n",
    "])\n",
    "\n",
    "model.layers"
   ]
  },
  {
   "cell_type": "code",
   "execution_count": 160,
   "metadata": {},
   "outputs": [
    {
     "name": "stdout",
     "output_type": "stream",
     "text": [
      "Model: \"sequential\"\n",
      "_________________________________________________________________\n",
      " Layer (type)                Output Shape              Param #   \n",
      "=================================================================\n",
      " flatten (Flatten)           (None, 16384)             0         \n",
      "                                                                 \n",
      " dense (Dense)               (None, 300)               4915500   \n",
      "                                                                 \n",
      " dense_1 (Dense)             (None, 100)               30100     \n",
      "                                                                 \n",
      " dense_2 (Dense)             (None, 10)                1010      \n",
      "                                                                 \n",
      "=================================================================\n",
      "Total params: 4,946,610\n",
      "Trainable params: 4,946,610\n",
      "Non-trainable params: 0\n",
      "_________________________________________________________________\n"
     ]
    }
   ],
   "source": [
    "model.summary()"
   ]
  },
  {
   "cell_type": "code",
   "execution_count": 161,
   "metadata": {},
   "outputs": [
    {
     "data": {
      "text/plain": [
       "array([[ 0.00624145, -0.00223747, -0.00557982, ..., -0.00705057,\n",
       "         0.00983666, -0.01756085],\n",
       "       [ 0.0012146 , -0.00791551, -0.01495419, ...,  0.00153694,\n",
       "        -0.00704478, -0.01061738],\n",
       "       [-0.01577629, -0.01759288,  0.01810366, ..., -0.01080306,\n",
       "         0.01815253, -0.01868817],\n",
       "       ...,\n",
       "       [ 0.00372475,  0.01591296, -0.00610253, ...,  0.00645785,\n",
       "        -0.00081756,  0.00928183],\n",
       "       [ 0.00682121, -0.0023047 , -0.00090442, ...,  0.01544421,\n",
       "         0.01161724,  0.00345435],\n",
       "       [-0.00477747, -0.00085977,  0.00936946, ...,  0.01443502,\n",
       "        -0.0025459 , -0.0019555 ]], dtype=float32)"
      ]
     },
     "execution_count": 161,
     "metadata": {},
     "output_type": "execute_result"
    }
   ],
   "source": [
    "weights, biases = model.layers[1].get_weights()\n",
    "\n",
    "weights"
   ]
  },
  {
   "cell_type": "code",
   "execution_count": 162,
   "metadata": {},
   "outputs": [
    {
     "data": {
      "text/plain": [
       "(16384, 300)"
      ]
     },
     "execution_count": 162,
     "metadata": {},
     "output_type": "execute_result"
    }
   ],
   "source": [
    "weights.shape"
   ]
  },
  {
   "cell_type": "code",
   "execution_count": 163,
   "metadata": {},
   "outputs": [
    {
     "data": {
      "text/plain": [
       "array([0., 0., 0., 0., 0., 0., 0., 0., 0., 0., 0., 0., 0., 0., 0., 0., 0.,\n",
       "       0., 0., 0., 0., 0., 0., 0., 0., 0., 0., 0., 0., 0., 0., 0., 0., 0.,\n",
       "       0., 0., 0., 0., 0., 0., 0., 0., 0., 0., 0., 0., 0., 0., 0., 0., 0.,\n",
       "       0., 0., 0., 0., 0., 0., 0., 0., 0., 0., 0., 0., 0., 0., 0., 0., 0.,\n",
       "       0., 0., 0., 0., 0., 0., 0., 0., 0., 0., 0., 0., 0., 0., 0., 0., 0.,\n",
       "       0., 0., 0., 0., 0., 0., 0., 0., 0., 0., 0., 0., 0., 0., 0., 0., 0.,\n",
       "       0., 0., 0., 0., 0., 0., 0., 0., 0., 0., 0., 0., 0., 0., 0., 0., 0.,\n",
       "       0., 0., 0., 0., 0., 0., 0., 0., 0., 0., 0., 0., 0., 0., 0., 0., 0.,\n",
       "       0., 0., 0., 0., 0., 0., 0., 0., 0., 0., 0., 0., 0., 0., 0., 0., 0.,\n",
       "       0., 0., 0., 0., 0., 0., 0., 0., 0., 0., 0., 0., 0., 0., 0., 0., 0.,\n",
       "       0., 0., 0., 0., 0., 0., 0., 0., 0., 0., 0., 0., 0., 0., 0., 0., 0.,\n",
       "       0., 0., 0., 0., 0., 0., 0., 0., 0., 0., 0., 0., 0., 0., 0., 0., 0.,\n",
       "       0., 0., 0., 0., 0., 0., 0., 0., 0., 0., 0., 0., 0., 0., 0., 0., 0.,\n",
       "       0., 0., 0., 0., 0., 0., 0., 0., 0., 0., 0., 0., 0., 0., 0., 0., 0.,\n",
       "       0., 0., 0., 0., 0., 0., 0., 0., 0., 0., 0., 0., 0., 0., 0., 0., 0.,\n",
       "       0., 0., 0., 0., 0., 0., 0., 0., 0., 0., 0., 0., 0., 0., 0., 0., 0.,\n",
       "       0., 0., 0., 0., 0., 0., 0., 0., 0., 0., 0., 0., 0., 0., 0., 0., 0.,\n",
       "       0., 0., 0., 0., 0., 0., 0., 0., 0., 0., 0.], dtype=float32)"
      ]
     },
     "execution_count": 163,
     "metadata": {},
     "output_type": "execute_result"
    }
   ],
   "source": [
    "biases"
   ]
  },
  {
   "cell_type": "code",
   "execution_count": 164,
   "metadata": {},
   "outputs": [
    {
     "data": {
      "text/plain": [
       "(300,)"
      ]
     },
     "execution_count": 164,
     "metadata": {},
     "output_type": "execute_result"
    }
   ],
   "source": [
    "biases.shape"
   ]
  },
  {
   "cell_type": "code",
   "execution_count": 165,
   "metadata": {},
   "outputs": [],
   "source": [
    "model.compile(loss=\"sparse_categorical_crossentropy\",\n",
    "              optimizer=\"sgd\",\n",
    "              metrics=[\"accuracy\"])"
   ]
  },
  {
   "cell_type": "markdown",
   "metadata": {},
   "source": [
    "### 3. Training the Neural Network model"
   ]
  },
  {
   "cell_type": "code",
   "execution_count": 166,
   "metadata": {},
   "outputs": [
    {
     "name": "stdout",
     "output_type": "stream",
     "text": [
      "Epoch 1/30\n",
      "313/313 [==============================] - 14s 41ms/step - loss: 1.6147 - accuracy: 0.3404 - val_loss: 1.5823 - val_accuracy: 0.3570\n",
      "Epoch 2/30\n",
      "313/313 [==============================] - 6s 20ms/step - loss: 1.5567 - accuracy: 0.3732 - val_loss: 1.5805 - val_accuracy: 0.3372\n",
      "Epoch 3/30\n",
      "313/313 [==============================] - 6s 21ms/step - loss: 1.5329 - accuracy: 0.3816 - val_loss: 1.5400 - val_accuracy: 0.3656\n",
      "Epoch 4/30\n",
      "313/313 [==============================] - 7s 22ms/step - loss: 1.5117 - accuracy: 0.3943 - val_loss: 1.5626 - val_accuracy: 0.3542\n",
      "Epoch 5/30\n",
      "313/313 [==============================] - 7s 21ms/step - loss: 1.4956 - accuracy: 0.4014 - val_loss: 1.6057 - val_accuracy: 0.3216\n",
      "Epoch 6/30\n",
      "313/313 [==============================] - 6s 21ms/step - loss: 1.4783 - accuracy: 0.4113 - val_loss: 1.5237 - val_accuracy: 0.3924\n",
      "Epoch 7/30\n",
      "313/313 [==============================] - 6s 20ms/step - loss: 1.4605 - accuracy: 0.4177 - val_loss: 1.5219 - val_accuracy: 0.3714\n",
      "Epoch 8/30\n",
      "313/313 [==============================] - 6s 20ms/step - loss: 1.4461 - accuracy: 0.4252 - val_loss: 1.5492 - val_accuracy: 0.3922\n",
      "Epoch 9/30\n",
      "313/313 [==============================] - 6s 20ms/step - loss: 1.4307 - accuracy: 0.4364 - val_loss: 1.6499 - val_accuracy: 0.3324\n",
      "Epoch 10/30\n",
      "313/313 [==============================] - 9s 27ms/step - loss: 1.4198 - accuracy: 0.4378 - val_loss: 1.7544 - val_accuracy: 0.2182\n",
      "Epoch 11/30\n",
      "313/313 [==============================] - 9s 27ms/step - loss: 1.3988 - accuracy: 0.4504 - val_loss: 1.6696 - val_accuracy: 0.2814\n",
      "Epoch 12/30\n",
      "313/313 [==============================] - 7s 22ms/step - loss: 1.3814 - accuracy: 0.4587 - val_loss: 1.5371 - val_accuracy: 0.3672\n",
      "Epoch 13/30\n",
      "313/313 [==============================] - 8s 26ms/step - loss: 1.3686 - accuracy: 0.4635 - val_loss: 1.5755 - val_accuracy: 0.3746\n",
      "Epoch 14/30\n",
      "313/313 [==============================] - 8s 25ms/step - loss: 1.3530 - accuracy: 0.4722 - val_loss: 1.4839 - val_accuracy: 0.4032\n",
      "Epoch 15/30\n",
      "313/313 [==============================] - 7s 22ms/step - loss: 1.3328 - accuracy: 0.4848 - val_loss: 1.5105 - val_accuracy: 0.4060\n",
      "Epoch 16/30\n",
      "313/313 [==============================] - 7s 22ms/step - loss: 1.3205 - accuracy: 0.4876 - val_loss: 1.5161 - val_accuracy: 0.3988\n",
      "Epoch 17/30\n",
      "313/313 [==============================] - 7s 22ms/step - loss: 1.3033 - accuracy: 0.4981 - val_loss: 1.6571 - val_accuracy: 0.3336\n",
      "Epoch 18/30\n",
      "313/313 [==============================] - 7s 23ms/step - loss: 1.2864 - accuracy: 0.5049 - val_loss: 1.7337 - val_accuracy: 0.3630\n",
      "Epoch 19/30\n",
      "313/313 [==============================] - 7s 22ms/step - loss: 1.2677 - accuracy: 0.5143 - val_loss: 1.5441 - val_accuracy: 0.3900\n",
      "Epoch 20/30\n",
      "313/313 [==============================] - 7s 23ms/step - loss: 1.2525 - accuracy: 0.5213 - val_loss: 1.7139 - val_accuracy: 0.3348\n",
      "Epoch 21/30\n",
      "313/313 [==============================] - 7s 22ms/step - loss: 1.2341 - accuracy: 0.5303 - val_loss: 1.5616 - val_accuracy: 0.4032\n",
      "Epoch 22/30\n",
      "313/313 [==============================] - 7s 23ms/step - loss: 1.2164 - accuracy: 0.5416 - val_loss: 1.6786 - val_accuracy: 0.3506\n",
      "Epoch 23/30\n",
      "313/313 [==============================] - 7s 21ms/step - loss: 1.2005 - accuracy: 0.5456 - val_loss: 1.5248 - val_accuracy: 0.4080\n",
      "Epoch 24/30\n",
      "313/313 [==============================] - 7s 21ms/step - loss: 1.1842 - accuracy: 0.5535 - val_loss: 1.6482 - val_accuracy: 0.3370\n",
      "Epoch 25/30\n",
      "313/313 [==============================] - 7s 21ms/step - loss: 1.1655 - accuracy: 0.5632 - val_loss: 1.5847 - val_accuracy: 0.3530\n",
      "Epoch 26/30\n",
      "313/313 [==============================] - 7s 24ms/step - loss: 1.1332 - accuracy: 0.5776 - val_loss: 1.5352 - val_accuracy: 0.4276\n",
      "Epoch 27/30\n",
      "313/313 [==============================] - 8s 26ms/step - loss: 1.1294 - accuracy: 0.5775 - val_loss: 1.5058 - val_accuracy: 0.4296\n",
      "Epoch 28/30\n",
      "313/313 [==============================] - 8s 25ms/step - loss: 1.1113 - accuracy: 0.5887 - val_loss: 1.5435 - val_accuracy: 0.4164\n",
      "Epoch 29/30\n",
      "313/313 [==============================] - 7s 21ms/step - loss: 1.0878 - accuracy: 0.5986 - val_loss: 1.5180 - val_accuracy: 0.4176\n",
      "Epoch 30/30\n",
      "313/313 [==============================] - 6s 20ms/step - loss: 1.0709 - accuracy: 0.6058 - val_loss: 1.5191 - val_accuracy: 0.4204\n"
     ]
    }
   ],
   "source": [
    "# training the model and saving metrics in history\n",
    "# minibatch\n",
    "history = model.fit(X_train, y_train,\n",
    "          batch_size=128, epochs=30,\n",
    "          verbose=1,\n",
    "          validation_data=(X_valid, y_valid))"
   ]
  },
  {
   "cell_type": "code",
   "execution_count": 167,
   "metadata": {},
   "outputs": [
    {
     "name": "stdout",
     "output_type": "stream",
     "text": [
      "Epoch 1/30\n",
      "1250/1250 [==============================] - 18s 14ms/step - loss: 1.2555 - accuracy: 0.5168 - val_loss: 1.7725 - val_accuracy: 0.3874\n",
      "Epoch 2/30\n",
      "1250/1250 [==============================] - 15s 12ms/step - loss: 1.1813 - accuracy: 0.5462 - val_loss: 2.0638 - val_accuracy: 0.3566\n",
      "Epoch 3/30\n",
      "1250/1250 [==============================] - 14s 12ms/step - loss: 1.1216 - accuracy: 0.5745 - val_loss: 2.8749 - val_accuracy: 0.3010\n",
      "Epoch 4/30\n",
      "1250/1250 [==============================] - 15s 12ms/step - loss: 1.0741 - accuracy: 0.5983 - val_loss: 2.8388 - val_accuracy: 0.3214\n",
      "Epoch 5/30\n",
      "1250/1250 [==============================] - 15s 12ms/step - loss: 1.0234 - accuracy: 0.6186 - val_loss: 2.7246 - val_accuracy: 0.3310\n",
      "Epoch 6/30\n",
      "1250/1250 [==============================] - 15s 12ms/step - loss: 0.9815 - accuracy: 0.6332 - val_loss: 4.3019 - val_accuracy: 0.1564\n",
      "Epoch 7/30\n",
      "1250/1250 [==============================] - 15s 12ms/step - loss: 0.9383 - accuracy: 0.6511 - val_loss: 3.2336 - val_accuracy: 0.2062\n",
      "Epoch 8/30\n",
      "1250/1250 [==============================] - 15s 12ms/step - loss: 0.8939 - accuracy: 0.6712 - val_loss: 3.2587 - val_accuracy: 0.3450\n",
      "Epoch 9/30\n",
      "1250/1250 [==============================] - 18s 14ms/step - loss: 0.8471 - accuracy: 0.6878 - val_loss: 3.0846 - val_accuracy: 0.2504\n",
      "Epoch 10/30\n",
      "1250/1250 [==============================] - 17s 14ms/step - loss: 0.8124 - accuracy: 0.7014 - val_loss: 2.5797 - val_accuracy: 0.3634\n",
      "Epoch 11/30\n",
      "1250/1250 [==============================] - 17s 14ms/step - loss: 0.7666 - accuracy: 0.7186 - val_loss: 8.8277 - val_accuracy: 0.2896\n",
      "Epoch 12/30\n",
      "1250/1250 [==============================] - 19s 15ms/step - loss: 0.7731 - accuracy: 0.7194 - val_loss: 1.7601 - val_accuracy: 0.4290\n",
      "Epoch 13/30\n",
      "1250/1250 [==============================] - 20s 16ms/step - loss: 0.6982 - accuracy: 0.7451 - val_loss: 1.8186 - val_accuracy: 0.4436\n",
      "Epoch 14/30\n",
      "1250/1250 [==============================] - 17s 14ms/step - loss: 0.6551 - accuracy: 0.7615 - val_loss: 7.7600 - val_accuracy: 0.1774\n",
      "Epoch 15/30\n",
      "1250/1250 [==============================] - 17s 13ms/step - loss: 0.6445 - accuracy: 0.7671 - val_loss: 3.2479 - val_accuracy: 0.3790\n",
      "Epoch 16/30\n",
      "1250/1250 [==============================] - 17s 13ms/step - loss: 0.6061 - accuracy: 0.7818 - val_loss: 1.7964 - val_accuracy: 0.4612\n",
      "Epoch 17/30\n",
      "1250/1250 [==============================] - 17s 14ms/step - loss: 0.5632 - accuracy: 0.7984 - val_loss: 2.4955 - val_accuracy: 0.4020\n",
      "Epoch 18/30\n",
      "1250/1250 [==============================] - 15s 12ms/step - loss: 0.5342 - accuracy: 0.8076 - val_loss: 2.3928 - val_accuracy: 0.4314\n",
      "Epoch 19/30\n",
      "1250/1250 [==============================] - 16s 13ms/step - loss: 0.4985 - accuracy: 0.8235 - val_loss: 1.8963 - val_accuracy: 0.4662\n",
      "Epoch 20/30\n",
      "1250/1250 [==============================] - 16s 13ms/step - loss: 0.4658 - accuracy: 0.8353 - val_loss: 2.1561 - val_accuracy: 0.4338\n",
      "Epoch 21/30\n",
      "1250/1250 [==============================] - 15s 12ms/step - loss: 0.4454 - accuracy: 0.8407 - val_loss: 2.0991 - val_accuracy: 0.4666\n",
      "Epoch 22/30\n",
      "1250/1250 [==============================] - 15s 12ms/step - loss: 0.4179 - accuracy: 0.8509 - val_loss: 5.5496 - val_accuracy: 0.2488\n",
      "Epoch 23/30\n",
      "1250/1250 [==============================] - 15s 12ms/step - loss: 0.4118 - accuracy: 0.8550 - val_loss: 2.1110 - val_accuracy: 0.4424\n",
      "Epoch 24/30\n",
      "1250/1250 [==============================] - 15s 12ms/step - loss: 0.3743 - accuracy: 0.8681 - val_loss: 2.0880 - val_accuracy: 0.4762\n",
      "Epoch 25/30\n",
      "1250/1250 [==============================] - 15s 12ms/step - loss: 0.3414 - accuracy: 0.8799 - val_loss: 2.5030 - val_accuracy: 0.4500\n",
      "Epoch 26/30\n",
      "1250/1250 [==============================] - 15s 12ms/step - loss: 0.3217 - accuracy: 0.8875 - val_loss: 3.1449 - val_accuracy: 0.4404\n",
      "Epoch 27/30\n",
      "1250/1250 [==============================] - 15s 12ms/step - loss: 0.3114 - accuracy: 0.8926 - val_loss: 9.3007 - val_accuracy: 0.3102\n",
      "Epoch 28/30\n",
      "1250/1250 [==============================] - 15s 12ms/step - loss: 0.3278 - accuracy: 0.8881 - val_loss: 2.3197 - val_accuracy: 0.4550\n",
      "Epoch 29/30\n",
      "1250/1250 [==============================] - 15s 12ms/step - loss: 0.2598 - accuracy: 0.9126 - val_loss: 3.1301 - val_accuracy: 0.4158\n",
      "Epoch 30/30\n",
      "1250/1250 [==============================] - 15s 12ms/step - loss: 0.2569 - accuracy: 0.9108 - val_loss: 2.5303 - val_accuracy: 0.4634\n"
     ]
    }
   ],
   "source": [
    "#stochastic gradient decent\n",
    "historysgd = model.fit(X_train, y_train, epochs=30,\n",
    "                    validation_data=(X_valid, y_valid))"
   ]
  },
  {
   "cell_type": "code",
   "execution_count": 168,
   "metadata": {},
   "outputs": [
    {
     "data": {
      "image/png": "[encoded data removed]",
      "text/plain": [
       "<Figure size 576x360 with 1 Axes>"
      ]
     },
     "metadata": {
      "needs_background": "light"
     },
     "output_type": "display_data"
    }
   ],
   "source": [
    "pd.DataFrame(history.history).plot(figsize=(8, 5))\n",
    "plt.grid(True)\n",
    "plt.gca().set_ylim(0, 1)\n",
    " \n",
    "plt.show()"
   ]
  },
  {
   "cell_type": "code",
   "execution_count": 169,
   "metadata": {},
   "outputs": [
    {
     "data": {
      "image/png": "[encoded data removed]",
      "text/plain": [
       "<Figure size 576x360 with 1 Axes>"
      ]
     },
     "metadata": {
      "needs_background": "light"
     },
     "output_type": "display_data"
    }
   ],
   "source": [
    "pd.DataFrame(historysgd.history).plot(figsize=(8, 5))\n",
    "plt.grid(True)\n",
    "plt.gca().set_ylim(0, 1)\n",
    " \n",
    "plt.show()"
   ]
  },
  {
   "cell_type": "code",
   "execution_count": 170,
   "metadata": {},
   "outputs": [
    {
     "name": "stdout",
     "output_type": "stream",
     "text": [
      "WARNING:tensorflow:6 out of the last 8 calls to <function Model.make_predict_function.<locals>.predict_function at 0x7fbfc7751af0> triggered tf.function retracing. Tracing is expensive and the excessive number of tracings could be due to (1) creating @tf.function repeatedly in a loop, (2) passing tensors with different shapes, (3) passing Python objects instead of tensors. For (1), please define your @tf.function outside of the loop. For (2), @tf.function has experimental_relax_shapes=True option that relaxes argument shapes that can avoid unnecessary retracing. For (3), please refer to https://www.tensorflow.org/guide/function#controlling_retracing and https://www.tensorflow.org/api_docs/python/tf/function for  more details.\n"
     ]
    },
    {
     "data": {
      "text/plain": [
       "array([[0.03, 0.43, 0.03, 0.05, 0.05, 0.07, 0.34, 0.  , 0.  , 0.  ],\n",
       "       [0.  , 0.  , 0.  , 0.95, 0.  , 0.  , 0.04, 0.  , 0.  , 0.  ],\n",
       "       [0.  , 0.  , 0.02, 0.58, 0.02, 0.  , 0.39, 0.  , 0.  , 0.  ]],\n",
       "      dtype=float32)"
      ]
     },
     "execution_count": 170,
     "metadata": {},
     "output_type": "execute_result"
    }
   ],
   "source": [
    "X_new = X_test[:3]\n",
    "y_proba = model.predict(X_new)\n",
    "y_proba.round(2)"
   ]
  },
  {
   "cell_type": "code",
   "execution_count": 171,
   "metadata": {},
   "outputs": [
    {
     "data": {
      "text/plain": [
       "array([1, 3, 3])"
      ]
     },
     "execution_count": 171,
     "metadata": {},
     "output_type": "execute_result"
    }
   ],
   "source": [
    "#y_pred = model.predict_classes(X_new) # deprecated\n",
    "y_pred = np.argmax(model.predict(X_new), axis=-1)\n",
    "y_pred"
   ]
  },
  {
   "cell_type": "code",
   "execution_count": 172,
   "metadata": {},
   "outputs": [
    {
     "data": {
      "text/plain": [
       "array([0.01176471, 0.01960784, 0.00784314])"
      ]
     },
     "execution_count": 172,
     "metadata": {},
     "output_type": "execute_result"
    }
   ],
   "source": [
    "np.array(class_names)[y_pred]\n",
    "y_new = y_test[:3]\n",
    "y_new"
   ]
  },
  {
   "cell_type": "code",
   "execution_count": 173,
   "metadata": {},
   "outputs": [],
   "source": [
    "K = keras.backend\n",
    "\n",
    "class ExponentialLearningRate(keras.callbacks.Callback):\n",
    "    def __init__(self, factor):\n",
    "        self.factor = factor\n",
    "        self.rates = []\n",
    "        self.losses = []\n",
    "    def on_batch_end(self, batch, logs):\n",
    "        self.rates.append(K.get_value(self.model.optimizer.lr))\n",
    "        self.losses.append(logs[\"loss\"])\n",
    "        K.set_value(self.model.optimizer.lr, self.model.optimizer.lr * self.factor)"
   ]
  },
  {
   "cell_type": "code",
   "execution_count": 174,
   "metadata": {},
   "outputs": [],
   "source": [
    "#clear the section\n",
    "keras.backend.clear_session()\n",
    "np.random.seed(42)\n",
    "tf.random.set_seed(42)\n",
    "\n",
    "model = keras.models.Sequential([\n",
    "    keras.layers.Flatten(input_shape=[128, 128]),\n",
    "    keras.layers.Dense(300, activation=\"relu\"),\n",
    "    keras.layers.Dense(100, activation=\"relu\"),\n",
    "    keras.layers.Dense(10, activation=\"softmax\")\n",
    "])"
   ]
  },
  {
   "cell_type": "code",
   "execution_count": 175,
   "metadata": {},
   "outputs": [],
   "source": [
    "model.compile(loss=\"sparse_categorical_crossentropy\",\n",
    "              optimizer=keras.optimizers.SGD(learning_rate=1e-3),\n",
    "              metrics=[\"accuracy\"])\n",
    "expon_lr = ExponentialLearningRate(factor=1.005)"
   ]
  },
  {
   "cell_type": "code",
   "execution_count": 176,
   "metadata": {},
   "outputs": [
    {
     "name": "stdout",
     "output_type": "stream",
     "text": [
      "1250/1250 [==============================] - 20s 15ms/step - loss: 1.6786 - accuracy: 0.3158 - val_loss: 1.7488 - val_accuracy: 0.2822\n"
     ]
    }
   ],
   "source": [
    "history = model.fit(X_train, y_train, epochs=1,\n",
    "                    validation_data=(X_valid, y_valid),\n",
    "                    callbacks=[expon_lr])"
   ]
  },
  {
   "cell_type": "code",
   "execution_count": 177,
   "metadata": {},
   "outputs": [
    {
     "data": {
      "text/plain": [
       "Text(0, 0.5, 'Loss')"
      ]
     },
     "execution_count": 177,
     "metadata": {},
     "output_type": "execute_result"
    },
    {
     "data": {
      "image/png": "[encoded data removed]",
      "text/plain": [
       "<Figure size 432x288 with 1 Axes>"
      ]
     },
     "metadata": {
      "needs_background": "light"
     },
     "output_type": "display_data"
    }
   ],
   "source": [
    "plt.plot(expon_lr.rates, expon_lr.losses)\n",
    "plt.gca().set_xscale('log')\n",
    "plt.hlines(min(expon_lr.losses), min(expon_lr.rates), max(expon_lr.rates))\n",
    "plt.axis([min(expon_lr.rates), max(expon_lr.rates), 0, expon_lr.losses[0]])\n",
    "plt.grid()\n",
    "plt.xlabel(\"Learning rate\")\n",
    "plt.ylabel(\"Loss\")"
   ]
  },
  {
   "cell_type": "code",
   "execution_count": 178,
   "metadata": {},
   "outputs": [],
   "source": [
    "model = keras.models.Sequential([\n",
    "    keras.layers.Flatten(input_shape=[128, 128]),\n",
    "    keras.layers.Dense(300, activation=\"relu\"),\n",
    "    keras.layers.Dense(100, activation=\"relu\"),\n",
    "    keras.layers.Dense(10, activation=\"softmax\")\n",
    "])"
   ]
  },
  {
   "cell_type": "code",
   "execution_count": 179,
   "metadata": {},
   "outputs": [
    {
     "name": "stderr",
     "output_type": "stream",
     "text": [
      "/Users/maxleroux/opt/anaconda3/lib/python3.9/site-packages/keras/optimizer_v2/gradient_descent.py:102: UserWarning: The `lr` argument is deprecated, use `learning_rate` instead.\n",
      "  super(SGD, self).__init__(name, **kwargs)\n"
     ]
    }
   ],
   "source": [
    "model.compile(loss=\"sparse_categorical_crossentropy\",\n",
    "              optimizer=tf.keras.optimizers.SGD(lr=8e-1),\n",
    "              metrics=[\"accuracy\"])"
   ]
  },
  {
   "cell_type": "code",
   "execution_count": 180,
   "metadata": {},
   "outputs": [
    {
     "name": "stdout",
     "output_type": "stream",
     "text": [
      "Epoch 1/100\n",
      "1250/1250 [==============================] - 21s 16ms/step - loss: 3.4056 - accuracy: 0.2909 - val_loss: 1.6434 - val_accuracy: 0.2978\n",
      "Epoch 2/100\n",
      "1250/1250 [==============================] - 15s 12ms/step - loss: 1.6218 - accuracy: 0.3082 - val_loss: 1.9613 - val_accuracy: 0.2674\n",
      "Epoch 3/100\n",
      "1250/1250 [==============================] - 18s 14ms/step - loss: 1.6096 - accuracy: 0.3098 - val_loss: 1.6162 - val_accuracy: 0.3126\n",
      "Epoch 4/100\n",
      "1250/1250 [==============================] - 15s 12ms/step - loss: 1.6047 - accuracy: 0.3186 - val_loss: 1.6243 - val_accuracy: 0.3156\n",
      "Epoch 5/100\n",
      "1250/1250 [==============================] - 14s 11ms/step - loss: 1.6018 - accuracy: 0.3240 - val_loss: 1.6065 - val_accuracy: 0.3098\n",
      "Epoch 6/100\n",
      "1250/1250 [==============================] - 14s 12ms/step - loss: 1.5991 - accuracy: 0.3262 - val_loss: 1.6281 - val_accuracy: 0.3122\n",
      "Epoch 7/100\n",
      "1250/1250 [==============================] - 17s 14ms/step - loss: 1.5964 - accuracy: 0.3220 - val_loss: 1.6023 - val_accuracy: 0.3244\n",
      "Epoch 8/100\n",
      "1250/1250 [==============================] - 15s 12ms/step - loss: 1.5932 - accuracy: 0.3272 - val_loss: 1.6247 - val_accuracy: 0.2924\n",
      "Epoch 9/100\n",
      "1250/1250 [==============================] - 17s 14ms/step - loss: 1.5925 - accuracy: 0.3332 - val_loss: 1.6110 - val_accuracy: 0.3146\n",
      "Epoch 10/100\n",
      "1250/1250 [==============================] - 16s 13ms/step - loss: 1.5866 - accuracy: 0.3430 - val_loss: 1.5888 - val_accuracy: 0.3212\n",
      "Epoch 11/100\n",
      "1250/1250 [==============================] - 16s 12ms/step - loss: 1.5813 - accuracy: 0.3438 - val_loss: 1.6398 - val_accuracy: 0.2922\n",
      "Epoch 12/100\n",
      "1250/1250 [==============================] - 15s 12ms/step - loss: 1.5909 - accuracy: 0.3427 - val_loss: 1.5903 - val_accuracy: 0.3340\n",
      "Epoch 13/100\n",
      "1250/1250 [==============================] - 17s 14ms/step - loss: 1.5806 - accuracy: 0.3496 - val_loss: 1.5913 - val_accuracy: 0.3154\n",
      "Epoch 14/100\n",
      "1250/1250 [==============================] - 16s 13ms/step - loss: 1.5679 - accuracy: 0.3452 - val_loss: 1.5760 - val_accuracy: 0.3390\n",
      "Epoch 15/100\n",
      "1250/1250 [==============================] - 16s 13ms/step - loss: 1.5620 - accuracy: 0.3522 - val_loss: 1.5878 - val_accuracy: 0.3272\n",
      "Epoch 16/100\n",
      "1250/1250 [==============================] - 15s 12ms/step - loss: 1.5568 - accuracy: 0.3555 - val_loss: 4.1028 - val_accuracy: 0.1250\n",
      "Epoch 17/100\n",
      "1250/1250 [==============================] - 15s 12ms/step - loss: 1.5684 - accuracy: 0.3586 - val_loss: 1.6142 - val_accuracy: 0.3370\n",
      "Epoch 18/100\n",
      "1250/1250 [==============================] - 16s 12ms/step - loss: 1.5636 - accuracy: 0.3586 - val_loss: 1.5711 - val_accuracy: 0.3414\n",
      "Epoch 19/100\n",
      "1250/1250 [==============================] - 16s 13ms/step - loss: 1.5593 - accuracy: 0.3592 - val_loss: 1.5850 - val_accuracy: 0.3350\n",
      "Epoch 20/100\n",
      "1250/1250 [==============================] - 16s 12ms/step - loss: 1.5589 - accuracy: 0.3625 - val_loss: 1.6327 - val_accuracy: 0.2988\n",
      "Epoch 21/100\n",
      "1250/1250 [==============================] - 15s 12ms/step - loss: 1.5580 - accuracy: 0.3613 - val_loss: 1.5910 - val_accuracy: 0.3436\n",
      "Epoch 22/100\n",
      "1250/1250 [==============================] - 15s 12ms/step - loss: 1.5512 - accuracy: 0.3673 - val_loss: 1.6655 - val_accuracy: 0.3500\n",
      "Epoch 23/100\n",
      "1250/1250 [==============================] - 15s 12ms/step - loss: 1.5553 - accuracy: 0.3656 - val_loss: 1.6216 - val_accuracy: 0.3034\n",
      "Epoch 24/100\n",
      "1250/1250 [==============================] - 15s 12ms/step - loss: 1.5551 - accuracy: 0.3582 - val_loss: 1.6276 - val_accuracy: 0.3484\n",
      "Epoch 25/100\n",
      "1250/1250 [==============================] - 15s 12ms/step - loss: 1.5485 - accuracy: 0.3644 - val_loss: 1.5736 - val_accuracy: 0.3016\n",
      "Epoch 26/100\n",
      "1250/1250 [==============================] - 15s 12ms/step - loss: 1.5476 - accuracy: 0.3686 - val_loss: 1.5709 - val_accuracy: 0.3500\n",
      "Epoch 27/100\n",
      "1250/1250 [==============================] - 15s 12ms/step - loss: 1.5425 - accuracy: 0.3717 - val_loss: 1.6339 - val_accuracy: 0.3526\n",
      "Epoch 28/100\n",
      "1250/1250 [==============================] - 16s 13ms/step - loss: 1.5415 - accuracy: 0.3753 - val_loss: 1.6034 - val_accuracy: 0.3432\n",
      "Epoch 29/100\n",
      "1250/1250 [==============================] - 16s 13ms/step - loss: 1.5397 - accuracy: 0.3758 - val_loss: 1.5948 - val_accuracy: 0.3508\n",
      "Epoch 30/100\n",
      "1250/1250 [==============================] - 16s 13ms/step - loss: 1.5364 - accuracy: 0.3779 - val_loss: 1.6120 - val_accuracy: 0.3544\n",
      "Epoch 31/100\n",
      "1250/1250 [==============================] - 15s 12ms/step - loss: 1.5375 - accuracy: 0.3736 - val_loss: 1.6122 - val_accuracy: 0.3454\n",
      "Epoch 32/100\n",
      "1250/1250 [==============================] - 16s 13ms/step - loss: 1.5335 - accuracy: 0.3766 - val_loss: 1.5652 - val_accuracy: 0.3556\n",
      "Epoch 33/100\n",
      "1250/1250 [==============================] - 15s 12ms/step - loss: 1.5314 - accuracy: 0.3801 - val_loss: 1.6018 - val_accuracy: 0.3476\n",
      "Epoch 34/100\n",
      "1250/1250 [==============================] - 14s 11ms/step - loss: 1.5347 - accuracy: 0.3779 - val_loss: 1.5903 - val_accuracy: 0.3412\n",
      "Epoch 35/100\n",
      "1250/1250 [==============================] - 14s 11ms/step - loss: 1.5294 - accuracy: 0.3787 - val_loss: 1.6290 - val_accuracy: 0.3564\n",
      "Epoch 36/100\n",
      "1250/1250 [==============================] - 14s 11ms/step - loss: 1.5313 - accuracy: 0.3791 - val_loss: 1.5762 - val_accuracy: 0.3548\n",
      "Epoch 37/100\n",
      "1250/1250 [==============================] - 14s 11ms/step - loss: 1.5258 - accuracy: 0.3792 - val_loss: 1.6070 - val_accuracy: 0.3372\n",
      "Epoch 38/100\n",
      "1250/1250 [==============================] - 14s 11ms/step - loss: 1.5233 - accuracy: 0.3849 - val_loss: 1.6018 - val_accuracy: 0.3548\n",
      "Epoch 39/100\n",
      "1250/1250 [==============================] - 16s 13ms/step - loss: 1.5221 - accuracy: 0.3888 - val_loss: 1.5729 - val_accuracy: 0.3566\n",
      "Epoch 40/100\n",
      "1250/1250 [==============================] - 16s 12ms/step - loss: 1.5159 - accuracy: 0.3873 - val_loss: 1.6251 - val_accuracy: 0.3534\n",
      "Epoch 41/100\n",
      "1250/1250 [==============================] - 15s 12ms/step - loss: 1.5170 - accuracy: 0.3855 - val_loss: 1.5701 - val_accuracy: 0.3570\n",
      "Epoch 42/100\n",
      "1250/1250 [==============================] - 15s 12ms/step - loss: 1.5134 - accuracy: 0.3876 - val_loss: 1.5679 - val_accuracy: 0.3530\n",
      "Epoch 43/100\n",
      "1250/1250 [==============================] - 15s 12ms/step - loss: 1.5094 - accuracy: 0.3898 - val_loss: 1.8380 - val_accuracy: 0.3332\n",
      "Epoch 44/100\n",
      "1250/1250 [==============================] - 15s 12ms/step - loss: 1.5088 - accuracy: 0.3883 - val_loss: 1.5641 - val_accuracy: 0.3540\n",
      "Epoch 45/100\n",
      "1250/1250 [==============================] - 16s 13ms/step - loss: 1.5046 - accuracy: 0.3931 - val_loss: 1.8331 - val_accuracy: 0.3598\n",
      "Epoch 46/100\n",
      "1250/1250 [==============================] - 16s 12ms/step - loss: 1.4985 - accuracy: 0.3950 - val_loss: 1.6823 - val_accuracy: 0.3482\n",
      "Epoch 47/100\n",
      "1250/1250 [==============================] - 15s 12ms/step - loss: 1.4919 - accuracy: 0.3972 - val_loss: 2.1579 - val_accuracy: 0.2422\n",
      "Epoch 48/100\n",
      "1250/1250 [==============================] - 15s 12ms/step - loss: 1.4926 - accuracy: 0.3985 - val_loss: 1.5801 - val_accuracy: 0.3624\n",
      "Epoch 49/100\n",
      "1250/1250 [==============================] - 16s 13ms/step - loss: 1.4868 - accuracy: 0.4009 - val_loss: 1.8321 - val_accuracy: 0.3188\n",
      "Epoch 50/100\n",
      "1250/1250 [==============================] - 15s 12ms/step - loss: 1.4882 - accuracy: 0.3952 - val_loss: 1.5839 - val_accuracy: 0.3702\n",
      "Epoch 51/100\n",
      "1250/1250 [==============================] - 16s 13ms/step - loss: 1.4817 - accuracy: 0.4011 - val_loss: 1.6286 - val_accuracy: 0.3500\n",
      "Epoch 52/100\n",
      "1250/1250 [==============================] - 14s 11ms/step - loss: 1.4792 - accuracy: 0.4036 - val_loss: 1.6909 - val_accuracy: 0.3558\n",
      "Epoch 53/100\n",
      "1250/1250 [==============================] - 507s 406ms/step - loss: 1.4752 - accuracy: 0.4045 - val_loss: 1.5775 - val_accuracy: 0.3656\n",
      "Epoch 54/100\n",
      "1250/1250 [==============================] - 20s 16ms/step - loss: 1.5024 - accuracy: 0.3957 - val_loss: 1.6086 - val_accuracy: 0.3610\n",
      "Epoch 55/100\n",
      "1250/1250 [==============================] - 15s 12ms/step - loss: 1.4701 - accuracy: 0.4053 - val_loss: 1.6599 - val_accuracy: 0.3506\n",
      "Epoch 56/100\n",
      "1250/1250 [==============================] - 14s 11ms/step - loss: 1.4700 - accuracy: 0.4022 - val_loss: 1.6170 - val_accuracy: 0.3466\n",
      "Epoch 57/100\n",
      "1250/1250 [==============================] - 15s 12ms/step - loss: 1.4625 - accuracy: 0.4100 - val_loss: 1.5793 - val_accuracy: 0.3656\n",
      "Epoch 58/100\n",
      "1250/1250 [==============================] - 14s 11ms/step - loss: 1.4603 - accuracy: 0.4093 - val_loss: 4.9301 - val_accuracy: 0.1800\n",
      "Epoch 59/100\n",
      "1250/1250 [==============================] - 14s 11ms/step - loss: 1.4932 - accuracy: 0.3988 - val_loss: 1.5563 - val_accuracy: 0.3678\n",
      "Epoch 60/100\n",
      "1250/1250 [==============================] - 14s 11ms/step - loss: 1.4897 - accuracy: 0.4027 - val_loss: 3.3357 - val_accuracy: 0.2766\n",
      "Epoch 61/100\n",
      "1250/1250 [==============================] - 14s 11ms/step - loss: 1.4883 - accuracy: 0.3825 - val_loss: 1.6505 - val_accuracy: 0.3450\n",
      "Epoch 62/100\n",
      "1250/1250 [==============================] - 14s 11ms/step - loss: 1.4720 - accuracy: 0.3865 - val_loss: 1.9086 - val_accuracy: 0.3522\n",
      "Epoch 63/100\n",
      "1250/1250 [==============================] - 14s 11ms/step - loss: 1.4635 - accuracy: 0.3862 - val_loss: 1.7477 - val_accuracy: 0.3516\n",
      "Epoch 64/100\n",
      "1250/1250 [==============================] - 14s 12ms/step - loss: 1.4625 - accuracy: 0.3865 - val_loss: 1.5734 - val_accuracy: 0.3536\n",
      "Epoch 65/100\n",
      "1250/1250 [==============================] - 15s 12ms/step - loss: 1.4574 - accuracy: 0.3894 - val_loss: 1.9723 - val_accuracy: 0.2666\n",
      "Epoch 66/100\n",
      "1250/1250 [==============================] - 14s 11ms/step - loss: 1.4536 - accuracy: 0.3947 - val_loss: 1.5505 - val_accuracy: 0.3718\n",
      "Epoch 67/100\n",
      "1250/1250 [==============================] - 14s 11ms/step - loss: 1.4528 - accuracy: 0.3918 - val_loss: 1.5706 - val_accuracy: 0.3562\n",
      "Epoch 68/100\n",
      "1250/1250 [==============================] - 14s 11ms/step - loss: 1.4467 - accuracy: 0.3960 - val_loss: 1.6750 - val_accuracy: 0.3538\n",
      "Epoch 69/100\n",
      "1250/1250 [==============================] - 14s 11ms/step - loss: 1.4515 - accuracy: 0.3967 - val_loss: 1.6340 - val_accuracy: 0.3486\n",
      "Epoch 70/100\n",
      "1250/1250 [==============================] - 14s 11ms/step - loss: 1.4492 - accuracy: 0.3978 - val_loss: 1.5537 - val_accuracy: 0.3528\n",
      "Epoch 71/100\n",
      "1250/1250 [==============================] - 14s 11ms/step - loss: 1.4448 - accuracy: 0.3999 - val_loss: 2.1315 - val_accuracy: 0.3048\n",
      "Epoch 72/100\n",
      "1250/1250 [==============================] - 16s 12ms/step - loss: 1.4429 - accuracy: 0.4009 - val_loss: 1.6687 - val_accuracy: 0.3548\n",
      "Epoch 73/100\n",
      "1250/1250 [==============================] - 16s 13ms/step - loss: 1.4466 - accuracy: 0.3958 - val_loss: 1.5883 - val_accuracy: 0.3422\n",
      "Epoch 74/100\n",
      "1250/1250 [==============================] - 15s 12ms/step - loss: 1.4405 - accuracy: 0.4050 - val_loss: 1.6115 - val_accuracy: 0.3650\n",
      "Epoch 75/100\n",
      "1250/1250 [==============================] - 16s 12ms/step - loss: 1.4273 - accuracy: 0.4144 - val_loss: 1.6412 - val_accuracy: 0.3654\n",
      "Epoch 76/100\n",
      "1250/1250 [==============================] - 16s 13ms/step - loss: 1.4306 - accuracy: 0.4179 - val_loss: 1.6283 - val_accuracy: 0.3102\n",
      "Epoch 77/100\n",
      "1250/1250 [==============================] - 15s 12ms/step - loss: 1.4215 - accuracy: 0.4218 - val_loss: 1.6247 - val_accuracy: 0.3600\n",
      "Epoch 78/100\n",
      "1250/1250 [==============================] - 17s 14ms/step - loss: 1.4194 - accuracy: 0.4244 - val_loss: 1.6566 - val_accuracy: 0.3566\n",
      "Epoch 79/100\n",
      "1250/1250 [==============================] - 16s 13ms/step - loss: 1.4183 - accuracy: 0.4235 - val_loss: 2.7995 - val_accuracy: 0.3510\n",
      "Epoch 80/100\n",
      "1250/1250 [==============================] - 16s 13ms/step - loss: 1.4172 - accuracy: 0.4284 - val_loss: 1.6715 - val_accuracy: 0.3574\n",
      "Epoch 81/100\n",
      "1250/1250 [==============================] - 19s 15ms/step - loss: 1.4142 - accuracy: 0.4246 - val_loss: 1.6597 - val_accuracy: 0.3546\n",
      "Epoch 82/100\n",
      "1250/1250 [==============================] - 16s 13ms/step - loss: 1.4106 - accuracy: 0.4294 - val_loss: 1.6294 - val_accuracy: 0.3644\n",
      "Epoch 83/100\n",
      "1250/1250 [==============================] - 17s 13ms/step - loss: 1.4064 - accuracy: 0.4292 - val_loss: 1.6382 - val_accuracy: 0.3604\n",
      "Epoch 84/100\n",
      "1250/1250 [==============================] - 17s 13ms/step - loss: 1.4076 - accuracy: 0.4305 - val_loss: 1.6558 - val_accuracy: 0.3644\n",
      "Epoch 85/100\n",
      "1250/1250 [==============================] - 15s 12ms/step - loss: 1.4051 - accuracy: 0.4308 - val_loss: 1.5985 - val_accuracy: 0.3706\n",
      "Epoch 86/100\n",
      "1250/1250 [==============================] - 17s 14ms/step - loss: 1.4003 - accuracy: 0.4339 - val_loss: 1.7801 - val_accuracy: 0.3496\n"
     ]
    }
   ],
   "source": [
    "from tensorflow.keras.callbacks import EarlyStopping\n",
    "from tensorflow.keras import layers, callbacks\n",
    "\n",
    "keras.backend.clear_session()\n",
    "np.random.seed(42)\n",
    "tf.random.set_seed(42)\n",
    "\n",
    "model = keras.models.Sequential([\n",
    "    keras.layers.Flatten(input_shape=[128, 128]),\n",
    "    keras.layers.Dense(300, activation=\"relu\"),\n",
    "    keras.layers.Dense(100, activation=\"relu\"),\n",
    "    keras.layers.Dense(10, activation=\"softmax\")\n",
    "])\n",
    "#The model needs to be recalled each time.\n",
    "\n",
    "model.compile(loss=\"sparse_categorical_crossentropy\",\n",
    "              optimizer=tf.keras.optimizers.SGD(lr=2e-1),\n",
    "              metrics=[\"accuracy\"])\n",
    "\n",
    "run_index = 1 # increment this at every run\n",
    "run_logdir = os.path.join(os.curdir, \"my_mnist_logs\", \"run_{:03d}\".format(run_index))\n",
    "\n",
    "early_stopping_cb = keras.callbacks.EarlyStopping(\n",
    "    min_delta=0.001, # minimium amount of change to count as an improvement\n",
    "    patience=20, # how many epochs to wait before stopping\n",
    ")\n",
    "checkpoint_cb = keras.callbacks.ModelCheckpoint(\"my_mnist_model.h5\", save_best_only=True)\n",
    "tensorboard_cb = keras.callbacks.TensorBoard(run_logdir)\n",
    "\n",
    "history = model.fit(X_train, y_train, epochs=100,\n",
    "                    validation_data=(X_valid, y_valid),\n",
    "                    callbacks=[checkpoint_cb, early_stopping_cb, tensorboard_cb])"
   ]
  },
  {
   "cell_type": "code",
   "execution_count": 181,
   "metadata": {},
   "outputs": [
    {
     "name": "stdout",
     "output_type": "stream",
     "text": [
      "352/352 [==============================] - 2s 6ms/step - loss: 7.8130 - accuracy: 0.0000e+00\n",
      "157/157 [==============================] - 1s 6ms/step - loss: 1.5505 - accuracy: 0.3718\n",
      "1250/1250 [==============================] - 8s 6ms/step - loss: 1.4251 - accuracy: 0.4107\n"
     ]
    },
    {
     "data": {
      "text/plain": [
       "[1.425061821937561, 0.41065800189971924]"
      ]
     },
     "execution_count": 181,
     "metadata": {},
     "output_type": "execute_result"
    }
   ],
   "source": [
    "model = keras.models.load_model(\"my_mnist_model.h5\") # rollback to best model\n",
    "model.evaluate(X_test, y_test)\n",
    "model.evaluate(X_valid, y_valid)\n",
    "model.evaluate(X_train, y_train)"
   ]
  },
  {
   "cell_type": "code",
   "execution_count": 182,
   "metadata": {},
   "outputs": [
    {
     "name": "stdout",
     "output_type": "stream",
     "text": [
      "Epoch 1/20\n",
      "1250/1250 [==============================] - 9s 7ms/step - loss: 4.1520 - val_loss: 3.2759\n",
      "Epoch 2/20\n",
      "1250/1250 [==============================] - 7s 6ms/step - loss: 3.1735 - val_loss: 3.2498\n",
      "Epoch 3/20\n",
      "1250/1250 [==============================] - 7s 6ms/step - loss: 3.1648 - val_loss: 3.2422\n",
      "Epoch 4/20\n",
      "1250/1250 [==============================] - 6s 5ms/step - loss: 3.1597 - val_loss: 3.2388\n",
      "Epoch 5/20\n",
      "1250/1250 [==============================] - 5s 4ms/step - loss: 3.1572 - val_loss: 3.2371\n",
      "Epoch 6/20\n",
      "1250/1250 [==============================] - 4s 3ms/step - loss: 3.1552 - val_loss: 3.2381\n",
      "Epoch 7/20\n",
      "1250/1250 [==============================] - 4s 3ms/step - loss: 3.1536 - val_loss: 3.2344\n",
      "Epoch 8/20\n",
      "1250/1250 [==============================] - 4s 3ms/step - loss: 3.1522 - val_loss: 3.2520\n",
      "Epoch 9/20\n",
      "1250/1250 [==============================] - 5s 4ms/step - loss: 3.1514 - val_loss: 3.2306\n",
      "Epoch 10/20\n",
      "1250/1250 [==============================] - 4s 3ms/step - loss: 3.1502 - val_loss: 3.2319\n",
      "Epoch 11/20\n",
      "1250/1250 [==============================] - 5s 4ms/step - loss: 3.1491 - val_loss: 3.2370\n",
      "Epoch 12/20\n",
      "1250/1250 [==============================] - 5s 4ms/step - loss: 3.1487 - val_loss: 3.2334\n",
      "Epoch 13/20\n",
      "1250/1250 [==============================] - 5s 4ms/step - loss: 3.1467 - val_loss: 3.2306\n",
      "Epoch 14/20\n",
      "1250/1250 [==============================] - 4s 4ms/step - loss: 3.1470 - val_loss: 3.2298\n",
      "Epoch 15/20\n",
      "1250/1250 [==============================] - 4s 4ms/step - loss: 3.1466 - val_loss: 3.2269\n",
      "Epoch 16/20\n",
      "1250/1250 [==============================] - 4s 3ms/step - loss: 3.1467 - val_loss: 3.2364\n",
      "Epoch 17/20\n",
      "1250/1250 [==============================] - 4s 3ms/step - loss: 3.1460 - val_loss: 3.2336\n",
      "Epoch 18/20\n",
      "1250/1250 [==============================] - 5s 4ms/step - loss: 3.1457 - val_loss: 3.2343\n",
      "Epoch 19/20\n",
      "1250/1250 [==============================] - 5s 4ms/step - loss: 3.1454 - val_loss: 3.2493\n",
      "Epoch 20/20\n",
      "1250/1250 [==============================] - 4s 4ms/step - loss: 3.1453 - val_loss: 3.2285\n",
      "352/352 [==============================] - 1s 3ms/step - loss: 14.9027\n"
     ]
    }
   ],
   "source": [
    "from sklearn.preprocessing import StandardScaler\n",
    "\n",
    "scaler = StandardScaler()\n",
    "\n",
    "np.random.seed(42)\n",
    "tf.random.set_seed(42)\n",
    "\n",
    "model = keras.models.Sequential([\n",
    "    keras.layers.Dense(30, activation=\"relu\", input_shape=X_train.shape[1:]),\n",
    "    keras.layers.Dense(1)\n",
    "])\n",
    "model.compile(loss=\"mean_squared_error\", optimizer=tf.keras.optimizers.SGD(lr=1e-3))\n",
    "history = model.fit(X_train, y_train, epochs=20, validation_data=(X_valid, y_valid))\n",
    "mse_test = model.evaluate(X_test, y_test)\n",
    "X_new = X_test[:3]\n",
    "y_pred = model.predict(X_new)"
   ]
  },
  {
   "cell_type": "code",
   "execution_count": 183,
   "metadata": {},
   "outputs": [
    {
     "data": {
      "image/png": "[encoded data removed]",
      "text/plain": [
       "<Figure size 432x288 with 1 Axes>"
      ]
     },
     "metadata": {
      "needs_background": "light"
     },
     "output_type": "display_data"
    }
   ],
   "source": [
    "plt.plot(pd.DataFrame(history.history))\n",
    "plt.grid(True)\n",
    "plt.gca().set_ylim(0, 5)\n",
    "plt.show()"
   ]
  },
  {
   "cell_type": "code",
   "execution_count": null,
   "metadata": {},
   "outputs": [],
   "source": []
  }
 ],
 "metadata": {
  "kernelspec": {
   "display_name": "Python 3.9.12 ('base')",
   "language": "python",
   "name": "python3"
  },
  "language_info": {
   "codemirror_mode": {
    "name": "ipython",
    "version": 3
   },
   "file_extension": ".py",
   "mimetype": "text/x-python",
   "name": "python",
   "nbconvert_exporter": "python",
   "pygments_lexer": "ipython3",
   "version": "3.9.12"
  },
  "vscode": {
   "interpreter": {
    "hash": "a6f23c1e824f6170352d06cc12395b09d0b6a41c8cdaaad4a237d4edd2fffac5"
   }
  }
 },
 "nbformat": 4,
 "nbformat_minor": 2
}
