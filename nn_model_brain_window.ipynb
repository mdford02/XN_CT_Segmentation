{
 "cells": [
  {
   "cell_type": "markdown",
   "metadata": {},
   "source": [
    "### 1. Get Train \\& Test Data"
   ]
  },
  {
   "cell_type": "code",
   "execution_count": 1,
   "metadata": {},
   "outputs": [
    {
     "name": "stderr",
     "output_type": "stream",
     "text": [
      "/Users/maxleroux/opt/anaconda3/lib/python3.9/site-packages/scipy/__init__.py:146: UserWarning: A NumPy version >=1.16.5 and <1.23.0 is required for this version of SciPy (detected version 1.26.4\n",
      "  warnings.warn(f\"A NumPy version >={np_minversion} and <{np_maxversion}\"\n"
     ]
    },
    {
     "name": "stdout",
     "output_type": "stream",
     "text": [
      "Number of type 0:  107\n",
      "Number of type 1:  15664\n",
      "Number of type 2:  9878\n",
      "Number of type 3:  32074\n",
      "Number of type 4:  6080\n",
      "Number of type 5:  16423\n",
      "Number of type 6:  32200\n"
     ]
    }
   ],
   "source": [
    "import os \n",
    "from PIL import Image, ImageOps\n",
    "import numpy as np\n",
    "import tensorflow as tf\n",
    "from tensorflow import keras\n",
    "import pandas as pd\n",
    "import matplotlib.pyplot as plt\n",
    "\n",
    "path1 = []\n",
    "path2 = []\n",
    "path3 = []\n",
    "path4 = []\n",
    "path5 = []\n",
    "path6 = []\n",
    "path7 = []\n",
    "\n",
    "# Testing just for brain_bone_window, could combine all windows\n",
    "for dirname, _, filenames in os.walk('epidural/brain_window'):\n",
    "    for filename in filenames:\n",
    "        path1.append(os.path.join(dirname, filename))\n",
    "    print(\"Number of type 0: \", len(filenames))\n",
    "        \n",
    "for dirname, _, filenames in os.walk('intraparenchymal/brain_window'):\n",
    "    for filename in filenames:\n",
    "        path2.append(os.path.join(dirname, filename))\n",
    "    print(\"Number of type 1: \", len(filenames))\n",
    "        \n",
    "for dirname, _, filenames in os.walk('intraventricular/brain_window'):\n",
    "    for filename in filenames:\n",
    "        path3.append(os.path.join(dirname, filename))\n",
    "    print(\"Number of type 2: \", len(filenames))\n",
    "        \n",
    "for dirname, _, filenames in os.walk('multi/brain_window'):\n",
    "    for filename in filenames:\n",
    "        path4.append(os.path.join(dirname, filename))  \n",
    "    print(\"Number of type 3: \", len(filenames))\n",
    "\n",
    "for dirname, _, filenames in os.walk('normal/brain_window'):\n",
    "    for filename in filenames:\n",
    "        path5.append(os.path.join(dirname, filename))  \n",
    "    print(\"Number of type 4: \", len(filenames))\n",
    "\n",
    "for dirname, _, filenames in os.walk('subarachnoid/brain_window'):\n",
    "    for filename in filenames:\n",
    "        path6.append(os.path.join(dirname, filename))  \n",
    "    print(\"Number of type 5: \", len(filenames))\n",
    "\n",
    "for dirname, _, filenames in os.walk('subdural/brain_window'):\n",
    "    for filename in filenames:\n",
    "        path7.append(os.path.join(dirname, filename))  \n",
    "    print(\"Number of type 6: \", len(filenames))"
   ]
  },
  {
   "cell_type": "code",
   "execution_count": 2,
   "metadata": {},
   "outputs": [
    {
     "data": {
      "text/plain": [
       "OneHotEncoder()"
      ]
     },
     "execution_count": 2,
     "metadata": {},
     "output_type": "execute_result"
    }
   ],
   "source": [
    "from sklearn.preprocessing import OneHotEncoder\n",
    "\n",
    "# One Hot Encoding\n",
    "encoder = OneHotEncoder()\n",
    "encoder.fit([[0],[1],[2],[3],[4],[5], [6]])"
   ]
  },
  {
   "cell_type": "code",
   "execution_count": 3,
   "metadata": {},
   "outputs": [],
   "source": [
    "import random\n",
    "\n",
    "\n",
    "data = []\n",
    "result = []\n",
    "\n",
    "for path in path1:\n",
    "    img = Image.open(path)\n",
    "    img = ImageOps.grayscale(img) # Removes RGB dimension from image, not sure if this is alright\n",
    "    img = img.resize((128,128))\n",
    "    img = np.array(img)\n",
    "    if(img.shape == (128,128)):\n",
    "        data.append(np.array(img))\n",
    "        result.append(0)\n",
    "        \n",
    "for path in path2:\n",
    "    img = Image.open(path)\n",
    "    img = ImageOps.grayscale(img)\n",
    "    img = img.resize((128,128))\n",
    "    img = np.array(img)\n",
    "    if(img.shape == (128,128)):\n",
    "        data.append(np.array(img))\n",
    "        result.append(1) \n",
    "        \n",
    "for path in path3:\n",
    "    img = Image.open(path)\n",
    "    img = ImageOps.grayscale(img)\n",
    "    img = img.resize((128,128))\n",
    "    img = np.array(img)\n",
    "    if(img.shape == (128,128)):\n",
    "        data.append(np.array(img))\n",
    "        result.append(2)\n",
    "        \n",
    "for path in path4:\n",
    "    img = Image.open(path)\n",
    "    img = ImageOps.grayscale(img)\n",
    "    img = img.resize((128,128))\n",
    "    img = np.array(img)\n",
    "    if(img.shape == (128,128)):\n",
    "        data.append(np.array(img))\n",
    "        result.append(3)\n",
    "\n",
    "for path in path5:\n",
    "    img = Image.open(path)\n",
    "    img = ImageOps.grayscale(img)\n",
    "    img = img.resize((128,128))\n",
    "    img = np.array(img)\n",
    "    if(img.shape == (128,128)):\n",
    "        data.append(np.array(img))\n",
    "        result.append(4)\n",
    "        \n",
    "for path in path6:\n",
    "    img = Image.open(path)\n",
    "    img = ImageOps.grayscale(img)\n",
    "    img = img.resize((128,128))\n",
    "    img = np.array(img)\n",
    "    if(img.shape == (128,128)):\n",
    "        data.append(np.array(img))\n",
    "        result.append(5)\n",
    "\n",
    "for path in path7:\n",
    "    img = Image.open(path)\n",
    "    img = ImageOps.grayscale(img)\n",
    "    img = img.resize((128,128))\n",
    "    img = np.array(img)\n",
    "    if(img.shape == (128,128)):\n",
    "        data.append(np.array(img))\n",
    "        result.append(6)\n",
    "\n",
    "length = len(data)\n",
    "\n",
    "indices = np.arange(length)\n",
    "np.random.shuffle(indices)\n",
    "\n",
    "# Shuffle both arrays using the shuffled indices\n",
    "shuffled_data = [data[i] for i in indices]\n",
    "shuffled_result = [result[i] for i in indices]\n",
    "\n",
    "train_data = shuffled_data[0:int(length*0.4)]\n",
    "train_result = shuffled_result[0:int(length*0.4)]\n",
    "\n",
    "test_data = shuffled_data[int(length*0.4):int(length*0.5)]\n",
    "test_result = shuffled_result[int(length*0.4):int(length*0.5)] # FIXME: trying to reduce data so calling fit() doesn't take forever"
   ]
  },
  {
   "cell_type": "code",
   "execution_count": 4,
   "metadata": {},
   "outputs": [
    {
     "data": {
      "text/plain": [
       "(11243,)"
      ]
     },
     "execution_count": 4,
     "metadata": {},
     "output_type": "execute_result"
    }
   ],
   "source": [
    "test_data = np.array(test_data)\n",
    "test_data.shape\n",
    "\n",
    "test_result = np.array(test_result)\n",
    "test_result.shape"
   ]
  },
  {
   "cell_type": "code",
   "execution_count": 5,
   "metadata": {},
   "outputs": [
    {
     "data": {
      "text/plain": [
       "(44970,)"
      ]
     },
     "execution_count": 5,
     "metadata": {},
     "output_type": "execute_result"
    }
   ],
   "source": [
    "train_data = np.array(train_data)\n",
    "test_data.shape\n",
    "\n",
    "train_result = np.array(train_result)\n",
    "train_result.shape"
   ]
  },
  {
   "cell_type": "code",
   "execution_count": 6,
   "metadata": {},
   "outputs": [
    {
     "name": "stdout",
     "output_type": "stream",
     "text": [
      "train data:  (44970, 128, 128)\n",
      "test data:  (11243, 128, 128)\n",
      "train data after reshape:  (44970, 16384)\n",
      "test data after reshape:  (11243, 16384)\n"
     ]
    }
   ],
   "source": [
    "# Confirm shape of data \n",
    "print(\"train data: \", train_data.shape)\n",
    "print(\"test data: \", test_data.shape)\n",
    "print(\"train data after reshape: \", train_data.reshape(-1,128*128).shape)\n",
    "print(\"test data after reshape: \", test_data.reshape(-1,128*128).shape)"
   ]
  },
  {
   "cell_type": "markdown",
   "metadata": {},
   "source": [
    "### 2. Build the Neural Network\n"
   ]
  },
  {
   "cell_type": "code",
   "execution_count": 7,
   "metadata": {},
   "outputs": [
    {
     "name": "stdout",
     "output_type": "stream",
     "text": [
      "(39970, 128, 128) (5000, 128, 128) (11243, 128, 128)\n",
      "(39970,) (5000,) (11243,)\n"
     ]
    }
   ],
   "source": [
    "X_valid, X_train = train_data[:5000] / 255., train_data[5000:] / 255.\n",
    "y_valid, y_train = train_result[:5000], train_result[5000:]\n",
    "X_test = test_data / 255.\n",
    "y_test = test_result / 255.\n",
    "print(X_train.shape, X_valid.shape, X_test.shape)\n",
    "print(y_train.shape, y_valid.shape, y_test.shape)"
   ]
  },
  {
   "cell_type": "code",
   "execution_count": 8,
   "metadata": {},
   "outputs": [
    {
     "name": "stdout",
     "output_type": "stream",
     "text": [
      "(39970, 1)\n"
     ]
    }
   ],
   "source": [
    "print(y_train.reshape(39970,-1).reshape(39970, -1).shape)"
   ]
  },
  {
   "cell_type": "code",
   "execution_count": 9,
   "metadata": {},
   "outputs": [
    {
     "data": {
      "text/plain": [
       "array([3, 1, 1, ..., 6, 3, 3])"
      ]
     },
     "execution_count": 9,
     "metadata": {},
     "output_type": "execute_result"
    }
   ],
   "source": [
    "y_train"
   ]
  },
  {
   "cell_type": "code",
   "execution_count": 10,
   "metadata": {},
   "outputs": [],
   "source": [
    "class_names = [\"0\", \"1\", \"2\", \"3\", \"4\", \"5\", \"6\"]"
   ]
  },
  {
   "cell_type": "code",
   "execution_count": 11,
   "metadata": {},
   "outputs": [
    {
     "name": "stderr",
     "output_type": "stream",
     "text": [
      "2024-04-16 16:56:18.364195: I tensorflow/core/platform/cpu_feature_guard.cc:151] This TensorFlow binary is optimized with oneAPI Deep Neural Network Library (oneDNN) to use the following CPU instructions in performance-critical operations:  AVX2 AVX512F FMA\n",
      "To enable them in other operations, rebuild TensorFlow with the appropriate compiler flags.\n"
     ]
    },
    {
     "data": {
      "text/plain": [
       "[<keras.layers.core.flatten.Flatten at 0x7fd90d404610>,\n",
       " <keras.layers.core.dense.Dense at 0x7fd880ed4bb0>,\n",
       " <keras.layers.core.dense.Dense at 0x7fd880edd040>,\n",
       " <keras.layers.core.dense.Dense at 0x7fd880edd310>]"
      ]
     },
     "execution_count": 11,
     "metadata": {},
     "output_type": "execute_result"
    }
   ],
   "source": [
    "model = keras.models.Sequential()\n",
    "model.add(keras.layers.Flatten(input_shape=[128, 128]))\n",
    "model.add(keras.layers.Dense(300, activation=\"relu\"))\n",
    "model.add(keras.layers.Dense(100, activation=\"relu\"))\n",
    "model.add(keras.layers.Dense(10, activation=\"softmax\"))\n",
    "\n",
    "keras.backend.clear_session()\n",
    "np.random.seed(42)\n",
    "tf.random.set_seed(42)\n",
    "\n",
    "model = keras.models.Sequential([\n",
    "    keras.layers.Flatten(input_shape=[128, 128]),\n",
    "    keras.layers.Dense(300, activation=\"relu\"),\n",
    "    keras.layers.Dense(100, activation=\"relu\"),\n",
    "    keras.layers.Dense(10, activation=\"softmax\")\n",
    "])\n",
    "\n",
    "model.layers"
   ]
  },
  {
   "cell_type": "code",
   "execution_count": 12,
   "metadata": {},
   "outputs": [
    {
     "name": "stdout",
     "output_type": "stream",
     "text": [
      "Model: \"sequential\"\n",
      "_________________________________________________________________\n",
      " Layer (type)                Output Shape              Param #   \n",
      "=================================================================\n",
      " flatten (Flatten)           (None, 16384)             0         \n",
      "                                                                 \n",
      " dense (Dense)               (None, 300)               4915500   \n",
      "                                                                 \n",
      " dense_1 (Dense)             (None, 100)               30100     \n",
      "                                                                 \n",
      " dense_2 (Dense)             (None, 10)                1010      \n",
      "                                                                 \n",
      "=================================================================\n",
      "Total params: 4,946,610\n",
      "Trainable params: 4,946,610\n",
      "Non-trainable params: 0\n",
      "_________________________________________________________________\n"
     ]
    }
   ],
   "source": [
    "model.summary()"
   ]
  },
  {
   "cell_type": "code",
   "execution_count": 13,
   "metadata": {},
   "outputs": [
    {
     "data": {
      "text/plain": [
       "array([[ 0.00624145, -0.00223747, -0.00557982, ..., -0.00705057,\n",
       "         0.00983666, -0.01756085],\n",
       "       [ 0.0012146 , -0.00791551, -0.01495419, ...,  0.00153694,\n",
       "        -0.00704478, -0.01061738],\n",
       "       [-0.01577629, -0.01759288,  0.01810366, ..., -0.01080306,\n",
       "         0.01815253, -0.01868817],\n",
       "       ...,\n",
       "       [ 0.00372475,  0.01591296, -0.00610253, ...,  0.00645785,\n",
       "        -0.00081756,  0.00928183],\n",
       "       [ 0.00682121, -0.0023047 , -0.00090442, ...,  0.01544421,\n",
       "         0.01161724,  0.00345435],\n",
       "       [-0.00477747, -0.00085977,  0.00936946, ...,  0.01443502,\n",
       "        -0.0025459 , -0.0019555 ]], dtype=float32)"
      ]
     },
     "execution_count": 13,
     "metadata": {},
     "output_type": "execute_result"
    }
   ],
   "source": [
    "weights, biases = model.layers[1].get_weights()\n",
    "\n",
    "weights"
   ]
  },
  {
   "cell_type": "code",
   "execution_count": 14,
   "metadata": {},
   "outputs": [
    {
     "data": {
      "text/plain": [
       "(16384, 300)"
      ]
     },
     "execution_count": 14,
     "metadata": {},
     "output_type": "execute_result"
    }
   ],
   "source": [
    "weights.shape"
   ]
  },
  {
   "cell_type": "code",
   "execution_count": 15,
   "metadata": {},
   "outputs": [
    {
     "data": {
      "text/plain": [
       "array([0., 0., 0., 0., 0., 0., 0., 0., 0., 0., 0., 0., 0., 0., 0., 0., 0.,\n",
       "       0., 0., 0., 0., 0., 0., 0., 0., 0., 0., 0., 0., 0., 0., 0., 0., 0.,\n",
       "       0., 0., 0., 0., 0., 0., 0., 0., 0., 0., 0., 0., 0., 0., 0., 0., 0.,\n",
       "       0., 0., 0., 0., 0., 0., 0., 0., 0., 0., 0., 0., 0., 0., 0., 0., 0.,\n",
       "       0., 0., 0., 0., 0., 0., 0., 0., 0., 0., 0., 0., 0., 0., 0., 0., 0.,\n",
       "       0., 0., 0., 0., 0., 0., 0., 0., 0., 0., 0., 0., 0., 0., 0., 0., 0.,\n",
       "       0., 0., 0., 0., 0., 0., 0., 0., 0., 0., 0., 0., 0., 0., 0., 0., 0.,\n",
       "       0., 0., 0., 0., 0., 0., 0., 0., 0., 0., 0., 0., 0., 0., 0., 0., 0.,\n",
       "       0., 0., 0., 0., 0., 0., 0., 0., 0., 0., 0., 0., 0., 0., 0., 0., 0.,\n",
       "       0., 0., 0., 0., 0., 0., 0., 0., 0., 0., 0., 0., 0., 0., 0., 0., 0.,\n",
       "       0., 0., 0., 0., 0., 0., 0., 0., 0., 0., 0., 0., 0., 0., 0., 0., 0.,\n",
       "       0., 0., 0., 0., 0., 0., 0., 0., 0., 0., 0., 0., 0., 0., 0., 0., 0.,\n",
       "       0., 0., 0., 0., 0., 0., 0., 0., 0., 0., 0., 0., 0., 0., 0., 0., 0.,\n",
       "       0., 0., 0., 0., 0., 0., 0., 0., 0., 0., 0., 0., 0., 0., 0., 0., 0.,\n",
       "       0., 0., 0., 0., 0., 0., 0., 0., 0., 0., 0., 0., 0., 0., 0., 0., 0.,\n",
       "       0., 0., 0., 0., 0., 0., 0., 0., 0., 0., 0., 0., 0., 0., 0., 0., 0.,\n",
       "       0., 0., 0., 0., 0., 0., 0., 0., 0., 0., 0., 0., 0., 0., 0., 0., 0.,\n",
       "       0., 0., 0., 0., 0., 0., 0., 0., 0., 0., 0.], dtype=float32)"
      ]
     },
     "execution_count": 15,
     "metadata": {},
     "output_type": "execute_result"
    }
   ],
   "source": [
    "biases"
   ]
  },
  {
   "cell_type": "code",
   "execution_count": 16,
   "metadata": {},
   "outputs": [
    {
     "data": {
      "text/plain": [
       "(300,)"
      ]
     },
     "execution_count": 16,
     "metadata": {},
     "output_type": "execute_result"
    }
   ],
   "source": [
    "biases.shape"
   ]
  },
  {
   "cell_type": "code",
   "execution_count": 17,
   "metadata": {},
   "outputs": [],
   "source": [
    "model.compile(loss=\"sparse_categorical_crossentropy\",\n",
    "              optimizer=\"sgd\",\n",
    "              metrics=[\"accuracy\"])"
   ]
  },
  {
   "cell_type": "markdown",
   "metadata": {},
   "source": [
    "### 3. Training the Neural Network model"
   ]
  },
  {
   "cell_type": "code",
   "execution_count": 18,
   "metadata": {},
   "outputs": [
    {
     "name": "stdout",
     "output_type": "stream",
     "text": [
      "Epoch 1/30\n",
      "313/313 [==============================] - 21s 58ms/step - loss: 1.6202 - accuracy: 0.3389 - val_loss: 1.6061 - val_accuracy: 0.3310\n",
      "Epoch 2/30\n",
      "313/313 [==============================] - 13s 43ms/step - loss: 1.5611 - accuracy: 0.3686 - val_loss: 1.5875 - val_accuracy: 0.3486\n",
      "Epoch 3/30\n",
      "313/313 [==============================] - 12s 40ms/step - loss: 1.5357 - accuracy: 0.3831 - val_loss: 1.6146 - val_accuracy: 0.3156\n",
      "Epoch 4/30\n",
      "313/313 [==============================] - 13s 40ms/step - loss: 1.5155 - accuracy: 0.3937 - val_loss: 1.5441 - val_accuracy: 0.3766\n",
      "Epoch 5/30\n",
      "313/313 [==============================] - 12s 38ms/step - loss: 1.4969 - accuracy: 0.4019 - val_loss: 1.5668 - val_accuracy: 0.3568\n",
      "Epoch 6/30\n",
      "313/313 [==============================] - 12s 38ms/step - loss: 1.4800 - accuracy: 0.4099 - val_loss: 1.5829 - val_accuracy: 0.3470\n",
      "Epoch 7/30\n",
      "313/313 [==============================] - 11s 35ms/step - loss: 1.4611 - accuracy: 0.4193 - val_loss: 1.5317 - val_accuracy: 0.3874\n",
      "Epoch 8/30\n",
      "313/313 [==============================] - 10s 32ms/step - loss: 1.4486 - accuracy: 0.4235 - val_loss: 1.5522 - val_accuracy: 0.3774\n",
      "Epoch 9/30\n",
      "313/313 [==============================] - 10s 32ms/step - loss: 1.4327 - accuracy: 0.4317 - val_loss: 1.5954 - val_accuracy: 0.3566\n",
      "Epoch 10/30\n",
      "313/313 [==============================] - 11s 35ms/step - loss: 1.4169 - accuracy: 0.4444 - val_loss: 1.5277 - val_accuracy: 0.3818\n",
      "Epoch 11/30\n",
      "313/313 [==============================] - 11s 36ms/step - loss: 1.3997 - accuracy: 0.4486 - val_loss: 1.6698 - val_accuracy: 0.3778\n",
      "Epoch 12/30\n",
      "313/313 [==============================] - 12s 39ms/step - loss: 1.3870 - accuracy: 0.4570 - val_loss: 1.6193 - val_accuracy: 0.3450\n",
      "Epoch 13/30\n",
      "313/313 [==============================] - 14s 43ms/step - loss: 1.3709 - accuracy: 0.4611 - val_loss: 1.5251 - val_accuracy: 0.3842\n",
      "Epoch 14/30\n",
      "313/313 [==============================] - 12s 37ms/step - loss: 1.3527 - accuracy: 0.4738 - val_loss: 1.5069 - val_accuracy: 0.4096\n",
      "Epoch 15/30\n",
      "313/313 [==============================] - 13s 41ms/step - loss: 1.3359 - accuracy: 0.4822 - val_loss: 1.7247 - val_accuracy: 0.3380\n",
      "Epoch 16/30\n",
      "313/313 [==============================] - 11s 36ms/step - loss: 1.3199 - accuracy: 0.4906 - val_loss: 1.5437 - val_accuracy: 0.3730\n",
      "Epoch 17/30\n",
      "313/313 [==============================] - 11s 36ms/step - loss: 1.3002 - accuracy: 0.4989 - val_loss: 1.6408 - val_accuracy: 0.3532\n",
      "Epoch 18/30\n",
      "313/313 [==============================] - 11s 36ms/step - loss: 1.2855 - accuracy: 0.5077 - val_loss: 1.6160 - val_accuracy: 0.3250\n",
      "Epoch 19/30\n",
      "313/313 [==============================] - 11s 36ms/step - loss: 1.2667 - accuracy: 0.5181 - val_loss: 1.5492 - val_accuracy: 0.3922\n",
      "Epoch 20/30\n",
      "313/313 [==============================] - 11s 36ms/step - loss: 1.2430 - accuracy: 0.5262 - val_loss: 1.7851 - val_accuracy: 0.3384\n",
      "Epoch 21/30\n",
      "313/313 [==============================] - 11s 36ms/step - loss: 1.2370 - accuracy: 0.5290 - val_loss: 1.5642 - val_accuracy: 0.3686\n",
      "Epoch 22/30\n",
      "313/313 [==============================] - 11s 35ms/step - loss: 1.2195 - accuracy: 0.5380 - val_loss: 1.5638 - val_accuracy: 0.3872\n",
      "Epoch 23/30\n",
      "313/313 [==============================] - 11s 36ms/step - loss: 1.1967 - accuracy: 0.5483 - val_loss: 1.6157 - val_accuracy: 0.3836\n",
      "Epoch 24/30\n",
      "313/313 [==============================] - 10s 31ms/step - loss: 1.1769 - accuracy: 0.5563 - val_loss: 1.6051 - val_accuracy: 0.3710\n",
      "Epoch 25/30\n",
      "313/313 [==============================] - 7s 24ms/step - loss: 1.1592 - accuracy: 0.5642 - val_loss: 1.4943 - val_accuracy: 0.4158\n",
      "Epoch 26/30\n",
      "313/313 [==============================] - 8s 26ms/step - loss: 1.1423 - accuracy: 0.5733 - val_loss: 1.7482 - val_accuracy: 0.2742\n",
      "Epoch 27/30\n",
      "313/313 [==============================] - 8s 25ms/step - loss: 1.1263 - accuracy: 0.5769 - val_loss: 1.5018 - val_accuracy: 0.4146\n",
      "Epoch 28/30\n",
      "313/313 [==============================] - 9s 28ms/step - loss: 1.1104 - accuracy: 0.5844 - val_loss: 1.6379 - val_accuracy: 0.3710\n",
      "Epoch 29/30\n",
      "313/313 [==============================] - 8s 27ms/step - loss: 1.0904 - accuracy: 0.5973 - val_loss: 1.6231 - val_accuracy: 0.3912\n",
      "Epoch 30/30\n",
      "313/313 [==============================] - 13s 40ms/step - loss: 1.0716 - accuracy: 0.6042 - val_loss: 1.8703 - val_accuracy: 0.3464\n"
     ]
    }
   ],
   "source": [
    "# training the model and saving metrics in history\n",
    "# minibatch\n",
    "history = model.fit(X_train, y_train,\n",
    "          batch_size=128, epochs=30,\n",
    "          verbose=1,\n",
    "          validation_data=(X_valid, y_valid))"
   ]
  },
  {
   "cell_type": "code",
   "execution_count": 19,
   "metadata": {},
   "outputs": [
    {
     "name": "stdout",
     "output_type": "stream",
     "text": [
      "Epoch 1/30\n",
      "1250/1250 [==============================] - 29s 23ms/step - loss: 1.2538 - accuracy: 0.5169 - val_loss: 4.0824 - val_accuracy: 0.2152\n",
      "Epoch 2/30\n",
      "1250/1250 [==============================] - 22s 18ms/step - loss: 1.1874 - accuracy: 0.5454 - val_loss: 7.2398 - val_accuracy: 0.0948\n",
      "Epoch 3/30\n",
      "1250/1250 [==============================] - 23s 18ms/step - loss: 1.1384 - accuracy: 0.5666 - val_loss: 5.4684 - val_accuracy: 0.0782\n",
      "Epoch 4/30\n",
      "1250/1250 [==============================] - 22s 18ms/step - loss: 1.0831 - accuracy: 0.5927 - val_loss: 2.1940 - val_accuracy: 0.3688\n",
      "Epoch 5/30\n",
      "1250/1250 [==============================] - 25s 20ms/step - loss: 1.0221 - accuracy: 0.6186 - val_loss: 2.9609 - val_accuracy: 0.1962\n",
      "Epoch 6/30\n",
      "1250/1250 [==============================] - 23s 18ms/step - loss: 0.9830 - accuracy: 0.6310 - val_loss: 4.7976 - val_accuracy: 0.1500\n",
      "Epoch 7/30\n",
      "1250/1250 [==============================] - 23s 19ms/step - loss: 0.9484 - accuracy: 0.6482 - val_loss: 6.1684 - val_accuracy: 0.1588\n",
      "Epoch 8/30\n",
      "1250/1250 [==============================] - 25s 20ms/step - loss: 0.8960 - accuracy: 0.6690 - val_loss: 2.6306 - val_accuracy: 0.3146\n",
      "Epoch 9/30\n",
      "1250/1250 [==============================] - 26s 21ms/step - loss: 0.8445 - accuracy: 0.6885 - val_loss: 2.5804 - val_accuracy: 0.2902\n",
      "Epoch 10/30\n",
      "1250/1250 [==============================] - 21s 16ms/step - loss: 0.8082 - accuracy: 0.7002 - val_loss: 7.7488 - val_accuracy: 0.1090\n",
      "Epoch 11/30\n",
      "1250/1250 [==============================] - 21s 17ms/step - loss: 0.7794 - accuracy: 0.7147 - val_loss: 2.8131 - val_accuracy: 0.3824\n",
      "Epoch 12/30\n",
      "1250/1250 [==============================] - 21s 17ms/step - loss: 0.7398 - accuracy: 0.7295 - val_loss: 8.7292 - val_accuracy: 0.1594\n",
      "Epoch 13/30\n",
      "1250/1250 [==============================] - 21s 17ms/step - loss: 0.7169 - accuracy: 0.7390 - val_loss: 1.6518 - val_accuracy: 0.4532\n",
      "Epoch 14/30\n",
      "1250/1250 [==============================] - 22s 18ms/step - loss: 0.6597 - accuracy: 0.7635 - val_loss: 2.2231 - val_accuracy: 0.4212\n",
      "Epoch 15/30\n",
      "1250/1250 [==============================] - 23s 19ms/step - loss: 0.6312 - accuracy: 0.7711 - val_loss: 2.4417 - val_accuracy: 0.3942\n",
      "Epoch 16/30\n",
      "1250/1250 [==============================] - 23s 18ms/step - loss: 0.5933 - accuracy: 0.7885 - val_loss: 1.8314 - val_accuracy: 0.4406\n",
      "Epoch 17/30\n",
      "1250/1250 [==============================] - 23s 18ms/step - loss: 0.5586 - accuracy: 0.7995 - val_loss: 2.3517 - val_accuracy: 0.4226\n",
      "Epoch 18/30\n",
      "1250/1250 [==============================] - 23s 18ms/step - loss: 0.5268 - accuracy: 0.8107 - val_loss: 7.5793 - val_accuracy: 0.1794\n",
      "Epoch 19/30\n",
      "1250/1250 [==============================] - 23s 18ms/step - loss: 0.5151 - accuracy: 0.8168 - val_loss: 2.0542 - val_accuracy: 0.4614\n",
      "Epoch 20/30\n",
      "1250/1250 [==============================] - 23s 18ms/step - loss: 0.4618 - accuracy: 0.8352 - val_loss: 5.2041 - val_accuracy: 0.3418\n",
      "Epoch 21/30\n",
      "1250/1250 [==============================] - 23s 19ms/step - loss: 0.4684 - accuracy: 0.8352 - val_loss: 7.1116 - val_accuracy: 0.3018\n",
      "Epoch 22/30\n",
      "1250/1250 [==============================] - 23s 18ms/step - loss: 0.4409 - accuracy: 0.8467 - val_loss: 2.5372 - val_accuracy: 0.4180\n",
      "Epoch 23/30\n",
      "1250/1250 [==============================] - 23s 18ms/step - loss: 0.4024 - accuracy: 0.8557 - val_loss: 5.3879 - val_accuracy: 0.2748\n",
      "Epoch 24/30\n",
      "1250/1250 [==============================] - 23s 18ms/step - loss: 0.3912 - accuracy: 0.8635 - val_loss: 3.7706 - val_accuracy: 0.3756\n",
      "Epoch 25/30\n",
      "1250/1250 [==============================] - 23s 18ms/step - loss: 0.3538 - accuracy: 0.8763 - val_loss: 5.2090 - val_accuracy: 0.2554\n",
      "Epoch 26/30\n",
      "1250/1250 [==============================] - 23s 18ms/step - loss: 0.3432 - accuracy: 0.8806 - val_loss: 3.7769 - val_accuracy: 0.2974\n",
      "Epoch 27/30\n",
      "1250/1250 [==============================] - 19s 15ms/step - loss: 0.3105 - accuracy: 0.8937 - val_loss: 2.2199 - val_accuracy: 0.4730\n",
      "Epoch 28/30\n",
      "1250/1250 [==============================] - 16s 13ms/step - loss: 0.2872 - accuracy: 0.9003 - val_loss: 4.1679 - val_accuracy: 0.2938\n",
      "Epoch 29/30\n",
      "1250/1250 [==============================] - 19s 15ms/step - loss: 0.2837 - accuracy: 0.9012 - val_loss: 2.4150 - val_accuracy: 0.4668\n",
      "Epoch 30/30\n",
      "1250/1250 [==============================] - 26s 21ms/step - loss: 0.2537 - accuracy: 0.9157 - val_loss: 2.5333 - val_accuracy: 0.4508\n"
     ]
    }
   ],
   "source": [
    "#stochastic gradient decent\n",
    "historysgd = model.fit(X_train, y_train, epochs=30,\n",
    "                    validation_data=(X_valid, y_valid))"
   ]
  },
  {
   "cell_type": "code",
   "execution_count": 20,
   "metadata": {},
   "outputs": [
    {
     "data": {
      "image/png": "[encoded data removed]",
      "text/plain": [
       "<Figure size 576x360 with 1 Axes>"
      ]
     },
     "metadata": {
      "needs_background": "light"
     },
     "output_type": "display_data"
    }
   ],
   "source": [
    "pd.DataFrame(history.history).plot(figsize=(8, 5))\n",
    "plt.grid(True)\n",
    "plt.gca().set_ylim(0, 2.5)\n",
    " \n",
    "plt.show()"
   ]
  },
  {
   "cell_type": "code",
   "execution_count": 21,
   "metadata": {},
   "outputs": [
    {
     "data": {
      "image/png": "[encoded data removed]",
      "text/plain": [
       "<Figure size 576x360 with 1 Axes>"
      ]
     },
     "metadata": {
      "needs_background": "light"
     },
     "output_type": "display_data"
    }
   ],
   "source": [
    "pd.DataFrame(historysgd.history).plot(figsize=(8, 5))\n",
    "plt.grid(True)\n",
    "plt.gca().set_ylim(0, 2.5)\n",
    " \n",
    "plt.show()"
   ]
  },
  {
   "cell_type": "code",
   "execution_count": 22,
   "metadata": {},
   "outputs": [
    {
     "data": {
      "text/plain": [
       "array([[0.  , 0.12, 0.28, 0.04, 0.  , 0.  , 0.56, 0.  , 0.  , 0.  ],\n",
       "       [0.  , 0.  , 0.  , 0.  , 0.  , 0.93, 0.07, 0.  , 0.  , 0.  ],\n",
       "       [0.01, 0.03, 0.13, 0.01, 0.  , 0.07, 0.75, 0.  , 0.  , 0.  ]],\n",
       "      dtype=float32)"
      ]
     },
     "execution_count": 22,
     "metadata": {},
     "output_type": "execute_result"
    }
   ],
   "source": [
    "X_new = X_test[:3]\n",
    "y_proba = model.predict(X_new)\n",
    "y_proba.round(2)"
   ]
  },
  {
   "cell_type": "code",
   "execution_count": 23,
   "metadata": {},
   "outputs": [
    {
     "data": {
      "text/plain": [
       "array([6, 5, 6])"
      ]
     },
     "execution_count": 23,
     "metadata": {},
     "output_type": "execute_result"
    }
   ],
   "source": [
    "#y_pred = model.predict_classes(X_new) # deprecated\n",
    "y_pred = np.argmax(model.predict(X_new), axis=-1)\n",
    "y_pred"
   ]
  },
  {
   "cell_type": "code",
   "execution_count": 24,
   "metadata": {},
   "outputs": [
    {
     "data": {
      "text/plain": [
       "array([0.01176471, 0.00392157, 0.01960784])"
      ]
     },
     "execution_count": 24,
     "metadata": {},
     "output_type": "execute_result"
    }
   ],
   "source": [
    "np.array(class_names)[y_pred]\n",
    "y_new = y_test[:3]\n",
    "y_new"
   ]
  },
  {
   "cell_type": "code",
   "execution_count": 25,
   "metadata": {},
   "outputs": [],
   "source": [
    "K = keras.backend\n",
    "\n",
    "class ExponentialLearningRate(keras.callbacks.Callback):\n",
    "    def __init__(self, factor):\n",
    "        self.factor = factor\n",
    "        self.rates = []\n",
    "        self.losses = []\n",
    "    def on_batch_end(self, batch, logs):\n",
    "        self.rates.append(K.get_value(self.model.optimizer.lr))\n",
    "        self.losses.append(logs[\"loss\"])\n",
    "        K.set_value(self.model.optimizer.lr, self.model.optimizer.lr * self.factor)"
   ]
  },
  {
   "cell_type": "code",
   "execution_count": 26,
   "metadata": {},
   "outputs": [],
   "source": [
    "#clear the section\n",
    "keras.backend.clear_session()\n",
    "np.random.seed(42)\n",
    "tf.random.set_seed(42)\n",
    "\n",
    "model = keras.models.Sequential([\n",
    "    keras.layers.Flatten(input_shape=[128, 128]),\n",
    "    keras.layers.Dense(300, activation=\"relu\"),\n",
    "    keras.layers.Dense(100, activation=\"relu\"),\n",
    "    keras.layers.Dense(10, activation=\"softmax\")\n",
    "])"
   ]
  },
  {
   "cell_type": "code",
   "execution_count": 27,
   "metadata": {},
   "outputs": [],
   "source": [
    "model.compile(loss=\"sparse_categorical_crossentropy\",\n",
    "              optimizer=keras.optimizers.SGD(learning_rate=1e-3),\n",
    "              metrics=[\"accuracy\"])\n",
    "expon_lr = ExponentialLearningRate(factor=1.005)"
   ]
  },
  {
   "cell_type": "code",
   "execution_count": 28,
   "metadata": {},
   "outputs": [
    {
     "name": "stdout",
     "output_type": "stream",
     "text": [
      "1250/1250 [==============================] - 33s 25ms/step - loss: nan - accuracy: 0.3105 - val_loss: nan - val_accuracy: 0.0012\n"
     ]
    }
   ],
   "source": [
    "history = model.fit(X_train, y_train, epochs=1,\n",
    "                    validation_data=(X_valid, y_valid),\n",
    "                    callbacks=[expon_lr])"
   ]
  },
  {
   "cell_type": "code",
   "execution_count": 29,
   "metadata": {},
   "outputs": [
    {
     "data": {
      "text/plain": [
       "Text(0, 0.5, 'Loss')"
      ]
     },
     "execution_count": 29,
     "metadata": {},
     "output_type": "execute_result"
    },
    {
     "data": {
      "image/png": "[encoded data removed]",
      "text/plain": [
       "<Figure size 432x288 with 1 Axes>"
      ]
     },
     "metadata": {
      "needs_background": "light"
     },
     "output_type": "display_data"
    }
   ],
   "source": [
    "plt.plot(expon_lr.rates, expon_lr.losses)\n",
    "plt.gca().set_xscale('log')\n",
    "plt.hlines(min(expon_lr.losses), min(expon_lr.rates), max(expon_lr.rates))\n",
    "plt.axis([min(expon_lr.rates), max(expon_lr.rates), 0, expon_lr.losses[0]])\n",
    "plt.grid()\n",
    "plt.xlabel(\"Learning rate\")\n",
    "plt.ylabel(\"Loss\")"
   ]
  },
  {
   "cell_type": "code",
   "execution_count": 30,
   "metadata": {},
   "outputs": [],
   "source": [
    "model = keras.models.Sequential([\n",
    "    keras.layers.Flatten(input_shape=[128, 128]),\n",
    "    keras.layers.Dense(300, activation=\"relu\"),\n",
    "    keras.layers.Dense(100, activation=\"relu\"),\n",
    "    keras.layers.Dense(10, activation=\"softmax\")\n",
    "])"
   ]
  },
  {
   "cell_type": "code",
   "execution_count": 31,
   "metadata": {},
   "outputs": [
    {
     "name": "stderr",
     "output_type": "stream",
     "text": [
      "/Users/maxleroux/opt/anaconda3/lib/python3.9/site-packages/keras/optimizer_v2/gradient_descent.py:102: UserWarning: The `lr` argument is deprecated, use `learning_rate` instead.\n",
      "  super(SGD, self).__init__(name, **kwargs)\n"
     ]
    }
   ],
   "source": [
    "model.compile(loss=\"sparse_categorical_crossentropy\",\n",
    "              optimizer=tf.keras.optimizers.SGD(lr=8e-1),\n",
    "              metrics=[\"accuracy\"])"
   ]
  },
  {
   "cell_type": "code",
   "execution_count": 32,
   "metadata": {},
   "outputs": [
    {
     "name": "stdout",
     "output_type": "stream",
     "text": [
      "Epoch 1/100\n",
      "1250/1250 [==============================] - 33s 25ms/step - loss: 2.3526 - accuracy: 0.2863 - val_loss: 1.6871 - val_accuracy: 0.2782\n",
      "Epoch 2/100\n",
      "1250/1250 [==============================] - 24s 19ms/step - loss: 1.6390 - accuracy: 0.2940 - val_loss: 1.6847 - val_accuracy: 0.2932\n",
      "Epoch 3/100\n",
      "1250/1250 [==============================] - 23s 19ms/step - loss: 1.6113 - accuracy: 0.3038 - val_loss: 2.3204 - val_accuracy: 0.2214\n",
      "Epoch 4/100\n",
      "1250/1250 [==============================] - 24s 19ms/step - loss: 1.6079 - accuracy: 0.3022 - val_loss: 1.6209 - val_accuracy: 0.3082\n",
      "Epoch 5/100\n",
      "1250/1250 [==============================] - 22s 18ms/step - loss: 1.6040 - accuracy: 0.3041 - val_loss: 1.6180 - val_accuracy: 0.3106\n",
      "Epoch 6/100\n",
      "1250/1250 [==============================] - 23s 18ms/step - loss: 1.6020 - accuracy: 0.3063 - val_loss: 1.6209 - val_accuracy: 0.3088\n",
      "Epoch 7/100\n",
      "1250/1250 [==============================] - 23s 19ms/step - loss: 1.5892 - accuracy: 0.3272 - val_loss: 1.8810 - val_accuracy: 0.2950\n",
      "Epoch 8/100\n",
      "1250/1250 [==============================] - 23s 19ms/step - loss: 1.5795 - accuracy: 0.3425 - val_loss: 1.5917 - val_accuracy: 0.3300\n",
      "Epoch 9/100\n",
      "1250/1250 [==============================] - 26s 21ms/step - loss: 1.5731 - accuracy: 0.3467 - val_loss: 1.6236 - val_accuracy: 0.3248\n",
      "Epoch 10/100\n",
      "1250/1250 [==============================] - 23s 19ms/step - loss: 1.5709 - accuracy: 0.3492 - val_loss: 1.6067 - val_accuracy: 0.3298\n",
      "Epoch 11/100\n",
      "1250/1250 [==============================] - 23s 18ms/step - loss: 1.5694 - accuracy: 0.3531 - val_loss: 1.5964 - val_accuracy: 0.3362\n",
      "Epoch 12/100\n",
      "1250/1250 [==============================] - 23s 18ms/step - loss: 1.5635 - accuracy: 0.3533 - val_loss: 15.4338 - val_accuracy: 0.0542\n",
      "Epoch 13/100\n",
      "1250/1250 [==============================] - 24s 19ms/step - loss: 1.6387 - accuracy: 0.3054 - val_loss: 2.0505 - val_accuracy: 0.2632\n",
      "Epoch 14/100\n",
      "1250/1250 [==============================] - 25s 20ms/step - loss: 1.5964 - accuracy: 0.3124 - val_loss: 1.6189 - val_accuracy: 0.3066\n",
      "Epoch 15/100\n",
      "1250/1250 [==============================] - 23s 19ms/step - loss: 1.5935 - accuracy: 0.3064 - val_loss: 1.6195 - val_accuracy: 0.3130\n",
      "Epoch 16/100\n",
      "1250/1250 [==============================] - 28s 22ms/step - loss: 1.5904 - accuracy: 0.3146 - val_loss: 1.6135 - val_accuracy: 0.3080\n",
      "Epoch 17/100\n",
      "1250/1250 [==============================] - 24s 19ms/step - loss: 1.5936 - accuracy: 0.3172 - val_loss: 1.6398 - val_accuracy: 0.3112\n",
      "Epoch 18/100\n",
      "1250/1250 [==============================] - 23s 18ms/step - loss: 1.6024 - accuracy: 0.3090 - val_loss: 1.6210 - val_accuracy: 0.2886\n",
      "Epoch 19/100\n",
      "1250/1250 [==============================] - 23s 18ms/step - loss: 1.5908 - accuracy: 0.3131 - val_loss: 1.6263 - val_accuracy: 0.2890\n",
      "Epoch 20/100\n",
      "1250/1250 [==============================] - 22s 18ms/step - loss: 1.5825 - accuracy: 0.3232 - val_loss: 1.6461 - val_accuracy: 0.3276\n",
      "Epoch 21/100\n",
      "1250/1250 [==============================] - 22s 18ms/step - loss: 1.5736 - accuracy: 0.3436 - val_loss: 1.6105 - val_accuracy: 0.2882\n",
      "Epoch 22/100\n",
      "1250/1250 [==============================] - 22s 18ms/step - loss: 1.5649 - accuracy: 0.3502 - val_loss: 1.6265 - val_accuracy: 0.3228\n",
      "Epoch 23/100\n",
      "1250/1250 [==============================] - 23s 18ms/step - loss: 1.5605 - accuracy: 0.3542 - val_loss: 1.5952 - val_accuracy: 0.2912\n",
      "Epoch 24/100\n",
      "1250/1250 [==============================] - 23s 18ms/step - loss: 1.5575 - accuracy: 0.3551 - val_loss: 1.5944 - val_accuracy: 0.3356\n",
      "Epoch 25/100\n",
      "1250/1250 [==============================] - 23s 18ms/step - loss: 1.5582 - accuracy: 0.3545 - val_loss: 1.6360 - val_accuracy: 0.3204\n",
      "Epoch 26/100\n",
      "1250/1250 [==============================] - 26s 21ms/step - loss: 1.5558 - accuracy: 0.3567 - val_loss: 1.5952 - val_accuracy: 0.2918\n",
      "Epoch 27/100\n",
      "1250/1250 [==============================] - 33s 26ms/step - loss: 1.5526 - accuracy: 0.3611 - val_loss: 1.5907 - val_accuracy: 0.3374\n",
      "Epoch 28/100\n",
      "1250/1250 [==============================] - 26s 21ms/step - loss: 1.5509 - accuracy: 0.3608 - val_loss: 1.5966 - val_accuracy: 0.3406\n"
     ]
    }
   ],
   "source": [
    "from tensorflow.keras.callbacks import EarlyStopping\n",
    "from tensorflow.keras import layers, callbacks\n",
    "\n",
    "keras.backend.clear_session()\n",
    "np.random.seed(42)\n",
    "tf.random.set_seed(42)\n",
    "\n",
    "model = keras.models.Sequential([\n",
    "    keras.layers.Flatten(input_shape=[128, 128]),\n",
    "    keras.layers.Dense(300, activation=\"relu\"),\n",
    "    keras.layers.Dense(100, activation=\"relu\"),\n",
    "    keras.layers.Dense(10, activation=\"softmax\")\n",
    "])\n",
    "#The model needs to be recalled each time.\n",
    "\n",
    "model.compile(loss=\"sparse_categorical_crossentropy\",\n",
    "              optimizer=tf.keras.optimizers.SGD(lr=2e-1),\n",
    "              metrics=[\"accuracy\"])\n",
    "\n",
    "run_index = 1 # increment this at every run\n",
    "run_logdir = os.path.join(os.curdir, \"my_mnist_logs\", \"run_{:03d}\".format(run_index))\n",
    "\n",
    "early_stopping_cb = keras.callbacks.EarlyStopping(\n",
    "    min_delta=0.001, # minimium amount of change to count as an improvement\n",
    "    patience=20, # how many epochs to wait before stopping\n",
    ")\n",
    "checkpoint_cb = keras.callbacks.ModelCheckpoint(\"my_mnist_model.h5\", save_best_only=True)\n",
    "tensorboard_cb = keras.callbacks.TensorBoard(run_logdir)\n",
    "\n",
    "history = model.fit(X_train, y_train, epochs=100,\n",
    "                    validation_data=(X_valid, y_valid),\n",
    "                    callbacks=[checkpoint_cb, early_stopping_cb, tensorboard_cb])"
   ]
  },
  {
   "cell_type": "code",
   "execution_count": 33,
   "metadata": {},
   "outputs": [
    {
     "name": "stdout",
     "output_type": "stream",
     "text": [
      "352/352 [==============================] - 3s 8ms/step - loss: 7.0389 - accuracy: 0.0000e+00\n",
      "157/157 [==============================] - 3s 11ms/step - loss: 1.5907 - accuracy: 0.3374\n",
      "1250/1250 [==============================] - 16s 12ms/step - loss: 1.5423 - accuracy: 0.3632\n"
     ]
    },
    {
     "data": {
      "text/plain": [
       "[1.5422872304916382, 0.3632224202156067]"
      ]
     },
     "execution_count": 33,
     "metadata": {},
     "output_type": "execute_result"
    }
   ],
   "source": [
    "model = keras.models.load_model(\"my_mnist_model.h5\") # rollback to best model\n",
    "model.evaluate(X_test, y_test)\n",
    "model.evaluate(X_valid, y_valid)\n",
    "model.evaluate(X_train, y_train)"
   ]
  },
  {
   "cell_type": "code",
   "execution_count": 34,
   "metadata": {},
   "outputs": [
    {
     "name": "stdout",
     "output_type": "stream",
     "text": [
      "Epoch 1/20\n",
      "1250/1250 [==============================] - 25s 19ms/step - loss: 4.1831 - val_loss: 3.2304\n",
      "Epoch 2/20\n",
      "1250/1250 [==============================] - 12s 10ms/step - loss: 3.2084 - val_loss: 3.2183\n",
      "Epoch 3/20\n",
      "1250/1250 [==============================] - 11s 9ms/step - loss: 3.1992 - val_loss: 3.1996\n",
      "Epoch 4/20\n",
      "1250/1250 [==============================] - 9s 7ms/step - loss: 3.1957 - val_loss: 3.1929\n",
      "Epoch 5/20\n",
      "1250/1250 [==============================] - 8s 7ms/step - loss: 3.1925 - val_loss: 3.1844\n",
      "Epoch 6/20\n",
      "1250/1250 [==============================] - 8s 6ms/step - loss: 3.1902 - val_loss: 3.2033\n",
      "Epoch 7/20\n",
      "1250/1250 [==============================] - 8s 7ms/step - loss: 3.1892 - val_loss: 3.1915\n",
      "Epoch 8/20\n",
      "1250/1250 [==============================] - 9s 7ms/step - loss: 3.1872 - val_loss: 3.1787\n",
      "Epoch 9/20\n",
      "1250/1250 [==============================] - 9s 7ms/step - loss: 3.1858 - val_loss: 3.1794\n",
      "Epoch 10/20\n",
      "1250/1250 [==============================] - 9s 7ms/step - loss: 3.1850 - val_loss: 3.1797\n",
      "Epoch 11/20\n",
      "1250/1250 [==============================] - 8s 6ms/step - loss: 3.1848 - val_loss: 3.1805\n",
      "Epoch 12/20\n",
      "1250/1250 [==============================] - 10s 8ms/step - loss: 3.1833 - val_loss: 3.1770\n",
      "Epoch 13/20\n",
      "1250/1250 [==============================] - 9s 7ms/step - loss: 3.1821 - val_loss: 3.1748\n",
      "Epoch 14/20\n",
      "1250/1250 [==============================] - 8s 6ms/step - loss: 3.1825 - val_loss: 3.1749\n",
      "Epoch 15/20\n",
      "1250/1250 [==============================] - 9s 7ms/step - loss: 3.1824 - val_loss: 3.1742\n",
      "Epoch 16/20\n",
      "1250/1250 [==============================] - 9s 7ms/step - loss: 3.1807 - val_loss: 3.1735\n",
      "Epoch 17/20\n",
      "1250/1250 [==============================] - 8s 7ms/step - loss: 3.1814 - val_loss: 3.1812\n",
      "Epoch 18/20\n",
      "1250/1250 [==============================] - 8s 7ms/step - loss: 3.1807 - val_loss: 3.1814\n",
      "Epoch 19/20\n",
      "1250/1250 [==============================] - 9s 7ms/step - loss: 3.1802 - val_loss: 3.1734\n",
      "Epoch 20/20\n",
      "1250/1250 [==============================] - 9s 7ms/step - loss: 3.1793 - val_loss: 3.1767\n",
      "352/352 [==============================] - 3s 6ms/step - loss: 14.8766\n"
     ]
    }
   ],
   "source": [
    "from sklearn.preprocessing import StandardScaler\n",
    "\n",
    "scaler = StandardScaler()\n",
    "\n",
    "np.random.seed(42)\n",
    "tf.random.set_seed(42)\n",
    "\n",
    "model = keras.models.Sequential([\n",
    "    keras.layers.Dense(30, activation=\"relu\", input_shape=X_train.shape[1:]),\n",
    "    keras.layers.Dense(1)\n",
    "])\n",
    "model.compile(loss=\"mean_squared_error\", optimizer=tf.keras.optimizers.SGD(lr=1e-3))\n",
    "history = model.fit(X_train, y_train, epochs=20, validation_data=(X_valid, y_valid))\n",
    "mse_test = model.evaluate(X_test, y_test)\n",
    "X_new = X_test[:3]\n",
    "y_pred = model.predict(X_new)"
   ]
  },
  {
   "cell_type": "code",
   "execution_count": 35,
   "metadata": {},
   "outputs": [
    {
     "data": {
      "image/png": "[encoded data removed]",
      "text/plain": [
       "<Figure size 432x288 with 1 Axes>"
      ]
     },
     "metadata": {
      "needs_background": "light"
     },
     "output_type": "display_data"
    }
   ],
   "source": [
    "plt.plot(pd.DataFrame(history.history))\n",
    "plt.grid(True)\n",
    "plt.gca().set_ylim(0, 5)\n",
    "plt.show()"
   ]
  },
  {
   "cell_type": "code",
   "execution_count": null,
   "metadata": {},
   "outputs": [],
   "source": []
  }
 ],
 "metadata": {
  "kernelspec": {
   "display_name": "Python 3.9.12 ('base')",
   "language": "python",
   "name": "python3"
  },
  "language_info": {
   "codemirror_mode": {
    "name": "ipython",
    "version": 3
   },
   "file_extension": ".py",
   "mimetype": "text/x-python",
   "name": "python",
   "nbconvert_exporter": "python",
   "pygments_lexer": "ipython3",
   "version": "3.9.12"
  },
  "vscode": {
   "interpreter": {
    "hash": "a6f23c1e824f6170352d06cc12395b09d0b6a41c8cdaaad4a237d4edd2fffac5"
   }
  }
 },
 "nbformat": 4,
 "nbformat_minor": 2
}
